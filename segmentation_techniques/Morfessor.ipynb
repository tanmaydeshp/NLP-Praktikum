{
 "cells": [
  {
   "cell_type": "code",
   "execution_count": 1,
   "metadata": {},
   "outputs": [
    {
     "name": "stdout",
     "output_type": "stream",
     "text": [
      "Requirement already satisfied: pandas in /Users/lemi/NLP-Praktikum/.venv/lib/python3.13/site-packages (2.2.3)\n",
      "Requirement already satisfied: morfessor in /Users/lemi/NLP-Praktikum/.venv/lib/python3.13/site-packages (2.0.6)\n",
      "Requirement already satisfied: numpy>=1.26.0 in /Users/lemi/NLP-Praktikum/.venv/lib/python3.13/site-packages (from pandas) (2.1.3)\n",
      "Requirement already satisfied: python-dateutil>=2.8.2 in /Users/lemi/NLP-Praktikum/.venv/lib/python3.13/site-packages (from pandas) (2.9.0.post0)\n",
      "Requirement already satisfied: pytz>=2020.1 in /Users/lemi/NLP-Praktikum/.venv/lib/python3.13/site-packages (from pandas) (2024.2)\n",
      "Requirement already satisfied: tzdata>=2022.7 in /Users/lemi/NLP-Praktikum/.venv/lib/python3.13/site-packages (from pandas) (2024.2)\n",
      "Requirement already satisfied: six>=1.5 in /Users/lemi/NLP-Praktikum/.venv/lib/python3.13/site-packages (from python-dateutil>=2.8.2->pandas) (1.16.0)\n",
      "Note: you may need to restart the kernel to use updated packages.\n"
     ]
    }
   ],
   "source": [
    "%pip install pandas morfessor "
   ]
  },
  {
   "cell_type": "code",
   "execution_count": 6,
   "metadata": {},
   "outputs": [
    {
     "name": "stderr",
     "output_type": "stream",
     "text": [
      "<>:10: SyntaxWarning: invalid escape sequence '\\e'\n",
      "<>:11: SyntaxWarning: invalid escape sequence '\\e'\n",
      "<>:10: SyntaxWarning: invalid escape sequence '\\e'\n",
      "<>:11: SyntaxWarning: invalid escape sequence '\\e'\n",
      "/var/folders/nt/0pp1p2011g7d12pls2l9rzbw0000gn/T/ipykernel_4049/3181237916.py:10: SyntaxWarning: invalid escape sequence '\\e'\n",
      "  input_tsv = 'data\\eng.sentence.test.gold.tsv'  #path to the input tsv file\n",
      "/var/folders/nt/0pp1p2011g7d12pls2l9rzbw0000gn/T/ipykernel_4049/3181237916.py:11: SyntaxWarning: invalid escape sequence '\\e'\n",
      "  output_tsv = 'outputs\\eng.sentence.test.morfessor_guess.tsv'  #path tot the output tsv file\n",
      "...........................................................\n",
      "...........................................................\n",
      "...........................................................\n",
      "...........................................................\n",
      "/var/folders/nt/0pp1p2011g7d12pls2l9rzbw0000gn/T/ipykernel_4049/3181237916.py:55: FutureWarning: ChainedAssignmentError: behaviour will change in pandas 3.0!\n",
      "You are setting values through chained assignment. Currently this works in certain cases, but when using Copy-on-Write (which will become the default behaviour in pandas 3.0) this will never work to update the original DataFrame or Series, because the intermediate object on which we are setting values will behave as a copy.\n",
      "A typical example is when you are setting values in a column of a DataFrame, like:\n",
      "\n",
      "df[\"col\"][row_indexer] = value\n",
      "\n",
      "Use `df.loc[row_indexer, \"col\"] = values` instead, to perform the assignment in a single step and ensure this keeps updating the original `df`.\n",
      "\n",
      "See the caveats in the documentation: https://pandas.pydata.org/pandas-docs/stable/user_guide/indexing.html#returning-a-view-versus-a-copy\n",
      "\n",
      "  df_guess[1][i] = sent\n"
     ]
    }
   ],
   "source": [
    "import pandas as pd\n",
    "import morfessor\n",
    "import platform\n",
    "\n",
    "\n",
    "os = platform.system()\n",
    "\n",
    "if os == 'Windows':\n",
    "  training_txt = 'data\\\\eng.train.txt' #path to the txt file\n",
    "  input_tsv = 'data\\eng.sentence.test.gold.tsv'  #path to the input tsv file\n",
    "  output_tsv = 'outputs\\eng.sentence.test.morfessor_guess.tsv'  #path tot the output tsv file\n",
    "else:\n",
    "  training_txt = 'data/eng.train.txt'\n",
    "  input_tsv = 'data/eng.sentence.test.gold.tsv'\n",
    "  output_tsv = 'outputs/eng.sentence.test.morfessor_guess.tsv'\n",
    "\n",
    "\n",
    "io = morfessor.MorfessorIO()\n",
    "model = morfessor.BaselineModel()\n",
    "\n",
    "\n",
    "\n",
    "# model.max_morph_length = 5\n",
    "training_data = io.read_corpus_file(training_txt)\n",
    "model.load_data(training_data)\n",
    "model.train_batch()\n",
    "\n",
    "\n",
    "df_guess = pd.read_csv(input_tsv, sep='\\t', header=None)\n",
    "data_guess = df_guess[0].astype(str)\n",
    "i = 0\n",
    "\n",
    "for entry in data_guess:\n",
    "  sent = ''\n",
    "  j = 0\n",
    "  words = entry.split() #list of words\n",
    "  length_sent = len(words)  #number of words\n",
    "\n",
    "  for word in words:\n",
    "    list_word = model.viterbi_segment(word)[0]\n",
    "    k = 0\n",
    "    length_word = len(list_word)  #number of morphs\n",
    "\n",
    "    for morph in list_word:\n",
    "      if k != length_word - 1:  #not last morph\n",
    "        sent += (morph + ' @@')\n",
    "        k+=1\n",
    "      else: #last morph\n",
    "        if j != length_sent - 1:\n",
    "          sent += (morph + ' ')\n",
    "        else :\n",
    "          sent +=morph\n",
    "    j+=1\n",
    "\n",
    "  df_guess[1][i] = sent\n",
    "  i+=1\n",
    "\n",
    "df_guess.to_csv(output_tsv, sep='\\t', header=None, index = False)"
   ]
  }
 ],
 "metadata": {
  "kernelspec": {
   "display_name": ".venv",
   "language": "python",
   "name": "python3"
  },
  "language_info": {
   "codemirror_mode": {
    "name": "ipython",
    "version": 3
   },
   "file_extension": ".py",
   "mimetype": "text/x-python",
   "name": "python",
   "nbconvert_exporter": "python",
   "pygments_lexer": "ipython3",
   "version": "3.13.0"
  }
 },
 "nbformat": 4,
 "nbformat_minor": 2
}
