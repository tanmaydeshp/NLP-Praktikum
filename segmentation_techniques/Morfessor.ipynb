{
 "cells": [
  {
   "cell_type": "code",
   "execution_count": 5,
   "metadata": {},
   "outputs": [
    {
     "name": "stdout",
     "output_type": "stream",
     "text": [
      "Requirement already satisfied: pandas in c:\\users\\tanma\\appdata\\local\\packages\\pythonsoftwarefoundation.python.3.11_qbz5n2kfra8p0\\localcache\\local-packages\\python311\\site-packages (2.1.4)\n",
      "Requirement already satisfied: morfessor in c:\\users\\tanma\\appdata\\local\\packages\\pythonsoftwarefoundation.python.3.11_qbz5n2kfra8p0\\localcache\\local-packages\\python311\\site-packages (2.0.6)\n",
      "Requirement already satisfied: numpy<2,>=1.23.2 in c:\\users\\tanma\\appdata\\local\\packages\\pythonsoftwarefoundation.python.3.11_qbz5n2kfra8p0\\localcache\\local-packages\\python311\\site-packages (from pandas) (1.26.3)\n",
      "Requirement already satisfied: python-dateutil>=2.8.2 in c:\\users\\tanma\\appdata\\local\\packages\\pythonsoftwarefoundation.python.3.11_qbz5n2kfra8p0\\localcache\\local-packages\\python311\\site-packages (from pandas) (2.8.2)\n",
      "Requirement already satisfied: pytz>=2020.1 in c:\\users\\tanma\\appdata\\local\\packages\\pythonsoftwarefoundation.python.3.11_qbz5n2kfra8p0\\localcache\\local-packages\\python311\\site-packages (from pandas) (2023.3.post1)\n",
      "Requirement already satisfied: tzdata>=2022.1 in c:\\users\\tanma\\appdata\\local\\packages\\pythonsoftwarefoundation.python.3.11_qbz5n2kfra8p0\\localcache\\local-packages\\python311\\site-packages (from pandas) (2023.4)\n",
      "Requirement already satisfied: six>=1.5 in c:\\users\\tanma\\appdata\\local\\packages\\pythonsoftwarefoundation.python.3.11_qbz5n2kfra8p0\\localcache\\local-packages\\python311\\site-packages (from python-dateutil>=2.8.2->pandas) (1.16.0)\n",
      "Note: you may need to restart the kernel to use updated packages.\n"
     ]
    },
    {
     "name": "stderr",
     "output_type": "stream",
     "text": [
      "\n",
      "[notice] A new release of pip is available: 24.0 -> 24.3.1\n",
      "[notice] To update, run: C:\\Users\\tanma\\AppData\\Local\\Microsoft\\WindowsApps\\PythonSoftwareFoundation.Python.3.11_qbz5n2kfra8p0\\python.exe -m pip install --upgrade pip\n"
     ]
    }
   ],
   "source": [
    "%pip install pandas morfessor "
   ]
  },
  {
   "cell_type": "code",
   "execution_count": 8,
   "metadata": {},
   "outputs": [
    {
     "name": "stderr",
     "output_type": "stream",
     "text": [
      "...........................................................\n",
      "...........................................................\n",
      "...........................................................\n"
     ]
    }
   ],
   "source": [
    "import pandas as pd\n",
    "import morfessor\n",
    "import platform\n",
    "\n",
    "\n",
    "os = platform.system()\n",
    "\n",
    "if os == 'Windows':\n",
    "  training_tsv = 'data\\eng.sentence.train.tsv'  #path to the training tsv file\n",
    "  training_txt = 'data\\\\training_morfessor.txt' #path to the txt file\n",
    "  input_tsv = 'data\\eng.sentence.test.gold.tsv'  #path to the input tsv file\n",
    "  output_tsv = 'outputs\\eng.sentence.test.morfessor_guess.tsv'  #path tot the output tsv file\n",
    "else:\n",
    "  training_tsv = 'data/eng.sentence.train.tsv'\n",
    "  training_txt = 'data/training_morfessor.txt'\n",
    "  input_tsv = 'data/eng.sentence.test.gold.tsv'\n",
    "  output_tsv = 'outputs/eng.sentence.test.morfessor_guess.tsv'\n",
    "\n",
    "\n",
    "io = morfessor.MorfessorIO()\n",
    "model = morfessor.BaselineModel()\n",
    "\n",
    "\n",
    "df = pd.read_csv(training_tsv, sep='\\t', header=None)\n",
    "data = df[0].astype(str)  #data frame with the sentences\n",
    "\n",
    "with open(training_txt, 'w', encoding='utf-8') as f:  #write training data into txt file\n",
    "  for entry in data:\n",
    "    f.write(entry + '\\n')\n",
    "\n",
    "\n",
    "\n",
    "# model.max_morph_length = 5\n",
    "training_data = io.read_corpus_file(training_txt)\n",
    "model.load_data(training_data)\n",
    "model.train_batch()\n",
    "\n",
    "\n",
    "df_guess = pd.read_csv(input_tsv, sep='\\t', header=None)\n",
    "data_guess = df_guess[0].astype(str)\n",
    "i = 0\n",
    "\n",
    "#sengment on sentence\n",
    "'''\n",
    "for entry in data_guess:\n",
    "  sent = ''\n",
    "  list_sent = model.viterbi_segment(entry)[0] #list of segmented sentence\n",
    "  j = 0\n",
    "  length = len(list_sent)\n",
    "  for word in list_sent:\n",
    "    if j != length - 1:\n",
    "      sent += (word + ' @@')\n",
    "      j+=1\n",
    "    else :\n",
    "      sent += word\n",
    "  df_guess[1][i] = sent\n",
    "  i+=1\n",
    "'''\n",
    "\n",
    "#segment on words\n",
    "\n",
    "for entry in data_guess:\n",
    "  sent = ''\n",
    "  j = 0\n",
    "  words = entry.split() #list of words\n",
    "  length_sent = len(words)  #number of words\n",
    "\n",
    "  for word in words:\n",
    "    list_word = model.viterbi_segment(word)[0]\n",
    "    k = 0\n",
    "    length_word = len(list_word)  #number of morphs\n",
    "\n",
    "    for morph in list_word:\n",
    "      if k != length_word - 1:  #not last morph\n",
    "        sent += (morph + ' @@')\n",
    "        k+=1\n",
    "      else: #last morph\n",
    "        if j != length_sent - 1:\n",
    "          sent += (morph + ' ')\n",
    "        else :\n",
    "          sent +=morph\n",
    "    j+=1\n",
    "\n",
    "  df_guess[1][i] = sent\n",
    "  i+=1\n",
    "\n",
    "df_guess.to_csv(output_tsv, sep='\\t', header=None, index = False)"
   ]
  }
 ],
 "metadata": {
  "kernelspec": {
   "display_name": "Python 3",
   "language": "python",
   "name": "python3"
  },
  "language_info": {
   "codemirror_mode": {
    "name": "ipython",
    "version": 3
   },
   "file_extension": ".py",
   "mimetype": "text/x-python",
   "name": "python",
   "nbconvert_exporter": "python",
   "pygments_lexer": "ipython3",
   "version": "3.11.9"
  }
 },
 "nbformat": 4,
 "nbformat_minor": 2
}
