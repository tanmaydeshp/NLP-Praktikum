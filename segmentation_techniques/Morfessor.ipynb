{
 "cells": [
  {
   "cell_type": "code",
   "execution_count": null,
   "metadata": {},
   "outputs": [
    {
     "ename": "",
     "evalue": "",
     "output_type": "error",
     "traceback": [
      "\u001b[1;31mFailed to start the Kernel. \n",
      "\u001b[1;31mUnable to start Kernel 'Python 3.11.9' due to a timeout waiting for the ports to get used. \n",
      "\u001b[1;31mView Jupyter <a href='command:jupyter.viewOutput'>log</a> for further details."
     ]
    }
   ],
   "source": [
    "%pip install pandas morfessor "
   ]
  },
  {
   "cell_type": "code",
   "execution_count": null,
   "metadata": {},
   "outputs": [],
   "source": [
    "import pandas as pd\n",
    "import morfessor\n",
    "\n",
    "\n",
    "input_tsv = 'data\\eng.sentence.test.gold.tsv'  #path to the input tsv file\n",
    "training_txt = 'data\\\\training_morfessor.txt' #path to the txt file\n",
    "output_tsv = 'outputs\\eng.sentence.test.morfessor_guess.tsv'  #path tot the output tsv file\n",
    "\n",
    "\n",
    "io = morfessor.MorfessorIO()\n",
    "model = morfessor.BaselineModel()\n",
    "\n",
    "\n",
    "df = pd.read_csv(input_tsv, sep='\\t', header=None)\n",
    "data = df[0].astype(str)  #data frame with the sentences\n",
    "\n",
    "with open(training_txt, 'w', encoding='utf-8') as f:  #write training data into txt file\n",
    "  for entry in data:\n",
    "    words = entry.split()\n",
    "    for word in words:\n",
    "      f.write(word + '\\n')\n",
    "\n",
    "\n",
    "\n",
    "training_data = io.read_corpus_file(training_txt)\n",
    "model.load_data(training_data)\n",
    "model.train_batch\n",
    "\n",
    "\n",
    "df_guess = df\n",
    "i = 0\n",
    "for entry in data:\n",
    "  sent = ''\n",
    "  list_sent = model.viterbi_segment(entry)[0] #list of segmented sentence\n",
    "  j = 0\n",
    "  length = len(list_sent)\n",
    "  for word in list_sent:\n",
    "    if j != length - 1:\n",
    "      sent += (word + ' @@')\n",
    "      j+=1\n",
    "    else :\n",
    "      sent += word\n",
    "  df_guess[1][i] = sent\n",
    "  i+=1\n",
    "\n",
    "df_guess.to_csv(output_tsv, sep='\\t', header=None, index = False)"
   ]
  }
 ],
 "metadata": {
  "kernelspec": {
   "display_name": "Python 3",
   "language": "python",
   "name": "python3"
  },
  "language_info": {
   "codemirror_mode": {
    "name": "ipython",
    "version": 3
   },
   "file_extension": ".py",
   "mimetype": "text/x-python",
   "name": "python",
   "nbconvert_exporter": "python",
   "pygments_lexer": "ipython3",
   "version": "3.11.9"
  }
 },
 "nbformat": 4,
 "nbformat_minor": 2
}
