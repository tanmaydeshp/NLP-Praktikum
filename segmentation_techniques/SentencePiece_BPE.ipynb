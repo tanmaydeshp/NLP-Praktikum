{
 "cells": [
  {
   "cell_type": "code",
   "execution_count": 1,
   "metadata": {
    "colab": {
     "base_uri": "https://localhost:8080/"
    },
    "id": "0nFfzoFAVQ54",
    "outputId": "7a4a4725-eff0-4f1b-8c1d-b77915bee623"
   },
   "outputs": [
    {
     "name": "stdout",
     "output_type": "stream",
     "text": [
      "Requirement already satisfied: sentencepiece in c:\\users\\tanma\\appdata\\local\\packages\\pythonsoftwarefoundation.python.3.11_qbz5n2kfra8p0\\localcache\\local-packages\\python311\\site-packages (0.2.0)\n",
      "Requirement already satisfied: pandas in c:\\users\\tanma\\appdata\\local\\packages\\pythonsoftwarefoundation.python.3.11_qbz5n2kfra8p0\\localcache\\local-packages\\python311\\site-packages (2.1.4)\n",
      "Requirement already satisfied: numpy<2,>=1.23.2 in c:\\users\\tanma\\appdata\\local\\packages\\pythonsoftwarefoundation.python.3.11_qbz5n2kfra8p0\\localcache\\local-packages\\python311\\site-packages (from pandas) (1.26.3)\n",
      "Requirement already satisfied: python-dateutil>=2.8.2 in c:\\users\\tanma\\appdata\\local\\packages\\pythonsoftwarefoundation.python.3.11_qbz5n2kfra8p0\\localcache\\local-packages\\python311\\site-packages (from pandas) (2.8.2)\n",
      "Requirement already satisfied: pytz>=2020.1 in c:\\users\\tanma\\appdata\\local\\packages\\pythonsoftwarefoundation.python.3.11_qbz5n2kfra8p0\\localcache\\local-packages\\python311\\site-packages (from pandas) (2023.3.post1)\n",
      "Requirement already satisfied: tzdata>=2022.1 in c:\\users\\tanma\\appdata\\local\\packages\\pythonsoftwarefoundation.python.3.11_qbz5n2kfra8p0\\localcache\\local-packages\\python311\\site-packages (from pandas) (2023.4)\n",
      "Requirement already satisfied: six>=1.5 in c:\\users\\tanma\\appdata\\local\\packages\\pythonsoftwarefoundation.python.3.11_qbz5n2kfra8p0\\localcache\\local-packages\\python311\\site-packages (from python-dateutil>=2.8.2->pandas) (1.16.0)\n",
      "Note: you may need to restart the kernel to use updated packages.\n"
     ]
    },
    {
     "name": "stderr",
     "output_type": "stream",
     "text": [
      "\n",
      "[notice] A new release of pip is available: 24.0 -> 24.3.1\n",
      "[notice] To update, run: C:\\Users\\tanma\\AppData\\Local\\Microsoft\\WindowsApps\\PythonSoftwareFoundation.Python.3.11_qbz5n2kfra8p0\\python.exe -m pip install --upgrade pip\n"
     ]
    }
   ],
   "source": [
    "%pip install sentencepiece pandas"
   ]
  },
  {
   "cell_type": "code",
   "execution_count": 2,
   "metadata": {
    "colab": {
     "base_uri": "https://localhost:8080/"
    },
    "id": "MTK4tFPJYNLY",
    "outputId": "0d55f532-3389-484c-a324-c906f46c074c"
   },
   "outputs": [
    {
     "data": {
      "text/plain": [
       "True"
      ]
     },
     "execution_count": 2,
     "metadata": {},
     "output_type": "execute_result"
    }
   ],
   "source": [
    "import sentencepiece as spm\n",
    "import pandas as pd\n",
    "train_df = pd.read_csv(\"data\\eng.sentence.train.tsv\", sep=\"\\t\", header=None)\n",
    "training_txt = train_df[0].values.tolist()  + train_df[1].values.tolist()\n",
    "training_txt = [str(sent) for sent in training_txt]\n",
    "with open('data\\\\training_bpe.txt', 'w', encoding='utf-8') as file:\n",
    "  file.writelines(f\"{line}\\n\" for line in training_txt)\n",
    "spm.SentencePieceTrainer.train('--input=data\\\\training_bpe.txt --model_prefix=models\\m_bpe --vocab_size=1800 --model_type=bpe')\n",
    "sp_bpe = spm.SentencePieceProcessor()\n",
    "sp_bpe.load('models\\m_bpe.model')"
   ]
  },
  {
   "cell_type": "code",
   "execution_count": 3,
   "metadata": {
    "colab": {
     "base_uri": "https://localhost:8080/"
    },
    "id": "JmuG2gl3aHJc",
    "outputId": "9a7ff08a-2283-49f5-dfdb-cfc0f311d4d2"
   },
   "outputs": [
    {
     "name": "stdout",
     "output_type": "stream",
     "text": [
      "['▁Al', '▁-', '▁Z', 'am', 'an', '▁:', '▁Americ', 'an', '▁force', 's', '▁kill', 'ed', '▁Sh', 'a', 'ik', 'h', '▁Ab', 'du', 'll', 'ah', '▁al', '▁-', '▁An', 'i', '▁,', '▁the', '▁pre', 'ac', 'her', '▁at', '▁the', '▁m', 'os', 'que', '▁in', '▁the', '▁town', '▁of', '▁Qa', 'im', '▁,', '▁near', '▁the', '▁S', 'y', 'ri', 'an', '▁b', 'ord', 'er', '▁.']\n",
      "['▁', '[', '▁This', '▁kill', 'ing', '▁of', '▁a', '▁res', 'pect', 'ed', '▁cl', 'er', 'ic', '▁will', '▁be', '▁ca', 'us', 'ing', '▁us', '▁t', 'rou', 'ble', '▁for', '▁years', '▁to', '▁come', '▁.', '▁', ']']\n",
      "['▁D', 'P', 'A', '▁:', '▁Iraq', 'i', '▁a', 'uth', 'or', 'ities', '▁an', 'n', 'ou', 'n', 'ced', '▁that', '▁they', '▁had', '▁b', 'ust', 'ed', '▁up', '▁3', '▁terror', 'ist', '▁c', 'ell', 's', '▁oper', 'ating', '▁in', '▁B', 'a', 'gh', 'd', 'ad', '▁.']\n",
      "['▁T', 'w', 'o', '▁of', '▁them', '▁were', '▁being', '▁run', '▁by', '▁2', '▁off', 'ic', 'ial', 's', '▁of', '▁the', '▁M', 'in', 'ist', 'ry', '▁of', '▁the', '▁In', 'ter', 'ior', '▁!']\n",
      "['▁The', '▁th', 'ir', 'd', '▁was', '▁being', '▁run', '▁by', '▁the', '▁head', '▁of', '▁an', '▁in', 'vest', 'ment', '▁f', 'irm', '▁.']\n",
      "['▁You', '▁wonder', '▁if', '▁he', '▁was', '▁man', 'ip', 'ul', 'ating', '▁the', '▁market', '▁with', '▁his', '▁b', 'om', 'b', 'ing', '▁t', 'ar', 'get', 's', '▁.']\n",
      "['▁The', '▁c', 'ell', 's', '▁were', '▁oper', 'ating', '▁in', '▁the', '▁G', 'h', 'az', 'al', 'i', 'y', 'ah', '▁and', '▁al', '▁-', '▁J', 'i', 'h', 'ad', '▁dist', 'r', 'ict', 's', '▁of', '▁the', '▁cap', 'ital', '▁.']\n",
      "['▁Al', 'though', '▁the', '▁an', 'n', 'ou', 'n', 'ce', 'ment', '▁was', '▁prob', 'ably', '▁made', '▁to', '▁show', '▁pro', 'g', 'ress', '▁in', '▁', 'ident', 'ify', 'ing', '▁and', '▁bre', 'aking', '▁up', '▁terror', '▁c', 'ell', 's', '▁,', '▁I', '▁do', '▁n', \"'\", 't', '▁find', '▁the', '▁new', 's', '▁that', '▁the', '▁B', 'a', 'ath', 'ist', 's', '▁continue', '▁to', '▁p', 'en', 'et', 'rate', '▁the', '▁Iraq', 'i', '▁govern', 'ment', '▁very', '▁hope', 'ful', '▁.']\n",
      "['▁It', '▁rem', 'ind', 's', '▁me', '▁too', '▁much', '▁of', '▁the', '▁A', 'R', 'V', 'N', '▁off', 'ic', 'ers', '▁who', '▁were', '▁sec', 'ret', 'ly', '▁work', 'ing', '▁for', '▁the', '▁other', '▁side', '▁in', '▁V', 'iet', 'n', 'am', '▁.']\n",
      "['▁Al', '▁-', '▁Z', 'am', 'an', '▁:', '▁Gu', 'er', 'r', 'ill', 'as', '▁kill', 'ed', '▁a', '▁member', '▁of', '▁the', '▁K', 'ur', 'd', 'istan', '▁D', 'em', 'oc', 'r', 'at', 'ic', '▁P', 'art', 'y', '▁after', '▁kid', 'n', 'a', 'pp', 'ing', '▁him', '▁in', '▁M', 'os', 'ul', '▁.']\n",
      "['▁The', '▁pol', 'ice', '▁comm', 'and', 'er', '▁of', '▁N', 'ine', 'v', 'ah', '▁Pro', 'v', 'ince', '▁an', 'n', 'ou', 'n', 'ced', '▁that', '▁b', 'om', 'b', 'ings', '▁had', '▁dec', 'l', 'in', 'ed', '▁8', '0', '▁per', 'cent', '▁in', '▁M', 'os', 'ul', '▁,', '▁where', 'as', '▁there', '▁had', '▁been', '▁a', '▁big', '▁j', 'um', 'p', '▁in', '▁the', '▁number', '▁of', '▁kid', 'n', 'a', 'pp', 'ings', '▁.']\n",
      "['▁On', '▁W', 'ed', 'n', 'es', 'day', '▁gu', 'er', 'r', 'ill', 'as', '▁had', '▁kid', 'n', 'a', 'pp', 'ed', '▁a', '▁c', 'os', 'm', 'et', 'ic', '▁sur', 'ge', 'on', '▁and', '▁his', '▁w', 'ife', '▁while', '▁they', '▁were', '▁on', '▁their', '▁way', '▁home', '▁.']\n",
      "['▁In', '▁Su', 'way', 'ra', 'h', '▁,', '▁K', 'ut', '▁Pro', 'v', 'ince', '▁,', '▁two', '▁car', '▁b', 'om', 'b', 's', '▁were', '▁disc', 'ove', 'red', '▁before', '▁they', '▁could', '▁be', '▁det', 'on', 'ated', '▁.']\n",
      "['▁(', '▁K', 'ut', '▁is', '▁in', '▁s', 'out', 'he', 'ast', 'ern', '▁Iraq', '▁and', '▁has', '▁an', '▁over', 'w', 'he', 'l', 'm', 'ing', 'ly', '▁Sh', 'i', 'ite', '▁pop', 'ul', 'ation', '▁,', '▁who', '▁are', '▁on', '▁the', '▁look', 'out', '▁for', '▁B', 'a', 'ath', 'ist', '▁s', 'ab', 'ote', 'urs', '▁and', '▁will', 'ing', 'ly', '▁turn', '▁them', '▁in', '▁.']\n",
      "['▁This', '▁will', 'ing', 'ness', '▁is', '▁the', '▁main', '▁dif', 'ference', '▁in', '▁the', '▁number', '▁of', '▁b', 'om', 'b', 'ings', '▁in', '▁the', '▁s', 'outh', '▁as', '▁opp', 'os', 'ed', '▁to', '▁the', '▁cent', 'er', '▁-', '▁n', 'orth', '▁of', '▁the', '▁country', '▁.', '▁)']\n",
      "['▁In', '▁B', 'a', 'gh', 'd', 'ad', '▁K', 'ad', 'h', 'im', '▁T', 'al', 'al', '▁H', 'us', 'ain', '▁,', '▁ass', 'ist', 'ant', '▁de', 'an', '▁at', '▁the', '▁S', 'chool', '▁of', '▁E', 'du', 'c', 'ation', '▁at', '▁M', 'ust', 'ans', 'ir', 'i', 'y', 'ah', '▁Un', 'i', 'vers', 'ity', '▁,', '▁was', '▁ass', 'ass', 'in', 'ated', '▁with', '▁his', '▁d', 'ri', 'ver', '▁in', '▁the', '▁S', 'al', 'ik', 'h', '▁dist', 'r', 'ict', '▁.']\n",
      "['▁Gu', 'er', 'r', 'ill', 'as', '▁kill', 'ed', '▁an', '▁en', 'g', 'ine', 'er', '▁,', '▁As', 'i', '▁Al', 'i', '▁,', '▁from', '▁T', 'ik', 'r', 'it', '▁.']\n",
      "['▁They', '▁also', '▁kill', 'ed', '▁Sh', 'a', 'ik', 'h', '▁H', 'am', 'id', \"▁'\", 'A', 'k', 'k', 'ab', '▁,', '▁a', '▁cl', 'an', '▁e', 'ld', 'er', '▁of', '▁a', '▁b', 'ran', 'ch', '▁of', '▁the', '▁D', 'u', 'la', 'im', '▁tri', 'be', '▁in', '▁T', 'ik', 'r', 'it', '▁.']\n",
      "['▁H', 'is', '▁m', 'other', '▁was', '▁also', '▁kill', 'ed', '▁in', '▁the', '▁attack', '▁.']\n",
      "['▁T', 'w', 'o', '▁other', '▁D', 'u', 'la', 'im', '▁lead', 'ers', '▁have', '▁been', '▁kill', 'ed', '▁in', '▁the', '▁past', '▁week', '▁and', '▁a', '▁h', 'alf', '▁.']\n",
      "['▁Gu', 'er', 'r', 'ill', 'as', '▁near', '▁H', 'aw', 'i', 'j', 'ah', '▁l', 'a', 'un', 'c', 'hed', '▁an', '▁attack', '▁that', '▁left', '▁6', '▁de', 'ad', '▁,', '▁incl', 'ud', 'ing', '▁4', '▁Iraq', 'i', '▁so', 'ld', 'i', 'ers', '▁.']\n",
      "['▁One', '▁of', '▁them', '▁was', '▁from', '▁the', '▁J', 'ub', 'ur', '▁tri', 'be', '▁and', '▁was', '▁de', 'p', 'ut', 'y', '▁comm', 'and', 'er', '▁of', '▁the', '▁H', 'aw', 'i', 'j', 'ah', '▁g', 'ar', 'ris', 'on', '▁.']\n",
      "['▁(', '▁This', '▁is', '▁a', '▁large', 'ly', '▁S', 'un', 'n', 'i', '▁Arab', '▁cl', 'an', '▁,', '▁and', '▁some', '▁S', 'un', 'n', 'i', '▁ob', 's', 'er', 'vers', '▁have', '▁acc', 'us', 'ed', '▁Sh', 'i', 'ite', '▁e', 'le', 'ments', '▁in', '▁the', '▁govern', 'ment', '▁of', '▁being', '▁be', 'h', 'ind', '▁the', '▁ass', 'ass', 'in', 'ation', '▁;', '▁it', '▁is', '▁more', '▁like', 'ly', '▁the', '▁work', '▁of', '▁S', 'un', 'n', 'i', '▁Arab', '▁gu', 'er', 'r', 'ill', 'as', '▁p', 'un', 'ish', 'ing', '▁the', '▁B', 'at', 'aw', 'i', '▁lead', 'ers', '▁for', '▁c', 'oo', 'per', 'ating', '▁with', '▁the', '▁D', 'ec', '.', '▁15', '▁elect', 'ions', '▁.', '▁)']\n",
      "['▁Al', '▁-', '▁Z', 'am', 'an', '▁:', '▁The', '▁Iraq', 'i', '▁H', 'igh', '▁E', 'lect', 'or', 'al', '▁Comm', 'ission', '▁on', '▁Friday', '▁d', 'en', 'ied', '▁a', '▁request', '▁of', '▁the', '▁De', 'b', 'a', 'ath', 'ific', 'ation', '▁Comm', 'ission', '▁to', '▁ex', 'c', 'l', 'ude', '▁5', '1', '▁ind', 'iv', 'id', 'ual', 's', '▁from', '▁run', 'ning', '▁on', '▁part', 'y', '▁list', 's', '▁in', '▁the', '▁D', 'ec', '.', '▁15', '▁elect', 'ions', '▁on', '▁g', 'round', 's', '▁of', '▁ha', 'ving', '▁been', '▁su', 'ff', 'ic', 'ient', 'ly', '▁inv', 'ol', 'ved', '▁in', '▁B', 'a', 'ath', '▁act', 'iv', 'ities', '▁to', '▁war', 'r', 'ant', '▁their', '▁being', '▁ex', 'c', 'l', 'ud', 'ed', '▁from', '▁c', 'iv', 'il', '▁office', '▁.']\n",
      "['▁The', '▁Comm', 'ission', '▁said', '▁it', '▁had', '▁no', '▁leg', 'al', '▁g', 'round', 's', '▁for', '▁such', '▁an', '▁ex', 'c', 'l', 'us', 'ion', '▁.']\n",
      "['▁This', '▁it', 'em', '▁is', '▁a', '▁small', '▁one', '▁and', '▁e', 'as', 'ily', '▁miss', 'ed', '▁.']\n",
      "['▁But', '▁in', '▁my', '▁v', 'iew', '▁it', '▁is', '▁high', 'ly', '▁sign', 'ific', 'ant', '▁.']\n",
      "['▁The', '▁De', 'b', 'a', 'ath', 'ific', 'ation', '▁Comm', 'ission', '▁had', '▁been', '▁p', 'us', 'hed', '▁by', '▁A', 'h', 'm', 'ad', '▁Ch', 'al', 'ab', 'i', '▁and', '▁his', '▁Iraq', 'i', '▁National', '▁C', 'ong', 'ress', '▁very', '▁hard', '▁,', '▁and', '▁had', '▁p', 'us', 'hed', '▁many', '▁S', 'un', 'n', 'i', '▁Arab', 's', '▁into', '▁the', '▁arm', 's', '▁of', '▁the', '▁gu', 'er', 'r', 'ill', 'as', '▁.']\n",
      "['▁Ch', 'al', 'ab', 'i', '▁has', '▁been', '▁inc', 're', 'as', 'ing', 'ly', '▁mar', 'gin', 'al', 'iz', 'ed', '▁with', 'in', '▁Iraq', '▁,', '▁how', 'ever', '▁,', '▁des', 'p', 'ite', '▁his', '▁t', 'ies', '▁of', '▁c', 'li', 'ent', 'e', 'la', 'ge', '▁with', '▁W', 'ash', 'ing', 'ton', '▁and', '▁T', 'e', 'h', 'ran', '▁.']\n",
      "['▁He', '▁is', '▁no', '▁long', 'er', '▁in', '▁the', '▁d', 'om', 'in', 'ant', '▁Sh', 'i', 'ite', '▁list', '▁,', '▁the', '▁Un', 'ited', '▁Iraq', 'i', '▁All', 'i', 'ance', '▁,', '▁and', '▁wo', '▁n', \"'\", 't', '▁have', '▁many', '▁se', 'at', 's', '▁in', '▁the', '▁new', '▁par', 'li', 'am', 'ent', '▁.']\n",
      "['▁S', 'ome', '▁2', ',000', '▁j', 'un', 'ior', '▁off', 'ic', 'ers', '▁of', '▁the', '▁old', '▁B', 'a', 'ath', '▁arm', 'y', '▁have', '▁been', '▁rec', 'all', 'ed', '▁to', '▁d', 'ut', 'y', '▁in', '▁recent', '▁month', 's', '▁,', '▁something', '▁Ch', 'al', 'ab', 'i', '▁would', '▁have', '▁b', 'lo', 'ck', 'ed', '▁if', '▁he', '▁could', '▁have', '▁.']\n",
      "['▁Now', '▁the', '▁E', 'lect', 'or', 'al', '▁Comm', 'ission', '▁is', '▁ref', 'us', 'ing', '▁to', '▁p', 'un', 'ish', '▁people', '▁for', '▁me', 're', '▁past', '▁B', 'a', 'ath', '▁P', 'art', 'y', '▁me', 'mb', 'ers', 'h', 'ip', '▁.']\n",
      "['▁If', '▁some', 'one', '▁comm', 'itt', 'ed', '▁a', '▁cr', 'ime', '▁again', 'st', '▁hum', 'an', 'ity', '▁,', '▁pro', 'se', 'c', 'ute', '▁the', '▁person', '▁.']\n",
      "['▁If', '▁he', '▁or', '▁she', '▁did', '▁not', '▁,', '▁then', '▁they', '▁should', '▁have', '▁all', '▁the', '▁same', '▁right', 's', '▁as', '▁other', '▁Iraq', 'is', '▁.']\n",
      "['▁Al', '▁-', '▁Sh', 'ar', 'q', '▁al', '▁-', '▁A', 'w', 's', 'at', '▁report', 's', '▁that', '▁a', '▁ke', 'y', '▁e', 'y', 'e', 'w', 'it', 'ness', '▁in', '▁the', '▁tri', 'al', '▁of', '▁S', 'ad', 'd', 'am', '▁H', 'us', 'se', 'in', '▁for', '▁a', '▁19', '8', '2', '▁m', 'ass', 'ac', 're', '▁at', '▁D', 'u', 'j', 'ail', '▁has', '▁d', 'ied', '▁.']\n",
      "['▁A', '▁te', 'am', '▁from', '▁the', '▁cour', 't', '▁man', 'ag', 'ed', '▁to', '▁take', '▁his', '▁de', 'p', 'os', 'ition', '▁before', '▁he', '▁d', 'ied', '▁.']\n",
      "['▁The', '▁tri', 'al', '▁begin', 's', '▁again', '▁N', 'ov', '.', '▁2', '8', '▁.']\n",
      "['▁B', 'a', 'gh', 'd', 'ad', 'is', '▁do', '▁n', \"'\", 't', '▁v', 'ent', 'ure', '▁much', '▁out', '▁of', '▁their', '▁ne', 'igh', 'b', 'our', 'h', 'ood', 's', '▁any', '▁more', '▁,', '▁you', '▁never', '▁know', '▁where', '▁you', '▁might', '▁get', '▁st', 'uck', '▁.']\n",
      "['▁There', '▁has', '▁been', '▁talk', '▁that', '▁the', '▁night', '▁cur', 'fe', 'w', '▁might', '▁be', '▁im', 'ple', 'ment', 'ed', '▁again', '▁.']\n",
      "['▁My', '▁ne', 'igh', 'b', 'our', 'h', 'ood', '▁has', '▁been', '▁sur', 'round', 'ed', '▁by', '▁Americ', 'an', '▁t', 'ro', 'op', 's', '▁for', '▁three', '▁days', '▁now', '▁,', '▁hel', 'ic', 'op', 'ter', 's', '▁have', '▁been', '▁cir', 'c', 'l', 'ing', '▁over', '▁our', '▁head', 's', '▁n', 'on', '-', 'st', 'op', '▁.']\n",
      "['▁F', 'ed', 'ay', 'e', 'en', '▁are', '▁now', '▁vis', 'ible', '▁on', '▁the', '▁st', 'reet', '▁and', '▁they', '▁have', '▁bec', 'ome', '▁bo', 'ld', 'er', '▁than', '▁ever', '▁.']\n",
      "['▁They', '▁are', '▁set', 'ting', '▁the', '▁ro', 'ad', '▁b', 'lo', 'ck', 's', '▁at', '▁the', '▁ex', 'act', '▁same', '▁pos', 'it', 'ions', '▁they', '▁were', '▁d', 'uring', '▁the', '▁war', '▁last', '▁year', '▁,', '▁which', '▁ind', 'ic', 'ates', '▁they', '▁are', '▁the', '▁same', '▁people', '▁.']\n",
      "['▁And', '▁there', '▁is', '▁not', 'hing', '▁we', '▁can', '▁do', '▁about', '▁it', '▁really', '▁,', '▁people', '▁who', '▁are', '▁suggest', 'ing', '▁that', '▁we', '▁go', '▁out', '▁and', '▁fight', '▁them', '▁are', '▁l', 'iving', '▁in', '▁d', 're', 'am', '▁l', 'and', '▁.']\n",
      "['▁E', 'ven', '▁the', '▁I', 'P', '▁and', '▁I', 'C', 'D', 'C', '▁have', '▁ab', 'and', 'on', 'ed', '▁the', '▁ne', 'igh', 'b', 'our', 'h', 'ood', '▁,', '▁and', '▁those', '▁are', '▁train', 'ed', '▁and', '▁ar', 'med', '▁,', '▁so', '▁do', '▁n', \"'\", 't', '▁expect', '▁sc', 'are', 'd', '▁c', 'iv', 'il', 'ian', 's', '▁to', '▁do', '▁any', 'thing', '▁ex', 'cept', '▁to', '▁h', 'ide', '▁in', 'side', '▁and', '▁pr', 'ay', '▁a', '▁hel', 'ic', 'op', 'ter', '▁or', '▁a', '▁tank', '▁does', '▁n', \"'\", 't', '▁b', 'om', 'b', '▁them', '▁,', '▁and', '▁also', '▁how', '▁are', '▁Americ', 'an', '▁so', 'ld', 'i', 'ers', '▁going', '▁to', '▁dist', 'ing', 'u', 'ish', '▁the', '▁b', 'ra', 've', '▁and', '▁val', 'i', 'ant', '▁c', 'iv', 'il', 'ian', 's', '▁from', '▁the', '▁F', 'ed', 'ay', 'e', 'en', '▁?']\n",
      "['▁Every', 'one', '▁is', '▁appre', 'hen', 's', 'ive', '▁,', '▁there', '▁is', '▁some', '▁talk', '▁that', '▁April', '▁9', 'th', '▁and', '▁10', 'th', '▁are', '▁going', '▁to', '▁be', '▁bl', 'ood', 'y', '▁days', '▁.']\n",
      "['▁M', 'ost', '▁people', '▁have', '▁n', \"'\", 't', '▁g', 'one', '▁to', '▁work', '▁the', '▁last', '▁few', '▁days', '▁,', '▁al', 'though', '▁it', '▁seem', 's', '▁that', '▁the', '▁rest', '▁of', '▁B', 'a', 'gh', 'd', 'ad', '▁is', \"▁'\", '▁n', 'orm', 'al', \"▁'\", '▁(', '▁if', '▁you', '▁can', '▁def', 'ine', '▁what', '▁n', 'orm', 'al', '▁is', '▁)', '▁.']\n",
      "['▁There', '▁are', '▁r', 'um', 'our', 's', '▁about', '▁prep', 'ar', 'ations', '▁by', '▁sl', 'um', '▁d', 'we', 'll', 'ers', '▁for', '▁another', '▁lo', 'ot', 'ing', '▁sp', 'ree', '▁again', 'st', '▁b', 'ank', 's', '▁,', '▁govern', 'ment', 'al', '▁and', '▁public', '▁pro', 'per', 'ty', '▁sim', 'il', 'ar', '▁to', '▁the', '▁one', '▁that', '▁took', '▁place', '▁last', '▁April', '▁,', '▁and', '▁I', '▁have', '▁already', '▁over', 'he', 'ard', '▁young', 'st', 'ers', '▁in', '▁my', '▁ne', 'igh', 'b', 'our', 'h', 'ood', '▁j', 'o', 'k', 'ing', '▁about', '▁it', '▁and', '▁say', 'ing', '▁things', '▁like', '▁\"', '▁This', '▁time', '▁we', '▁will', '▁be', '▁the', '▁first', '▁to', '▁lo', 'ot', '▁,', '▁we', '▁did', '▁n', \"'\", 't', '▁get', '▁any', 'thing', '▁the', '▁last', '▁time', '▁\"', '▁.']\n",
      "['▁M', 'os', 'qu', 'es', '▁are', '▁call', 'ing', '▁for', '▁d', 'on', 'ating', '▁bl', 'ood', '▁,', '▁food', '▁,', '▁and', '▁med', 'ic', 'ine', '▁for', '▁F', 'all', 'u', 'j', 'ah', '▁,', '▁and', '▁several', '▁con', 'v', 'oy', 's', '▁have', '▁already', '▁head', 'ed', '▁out', '▁for', '▁F', 'all', 'u', 'j', 'ah', '▁,', '▁most', '▁of', '▁them', '▁return', 'ed', '▁later', '▁though', '▁.']\n",
      "['▁So', '▁what', '▁happ', 'en', 'ed', '▁?']\n",
      "['▁I', '▁gu', 'ess', '▁it', \"▁'\", 's', '▁just', '▁the', '▁old', '▁new', '▁Arab', \"▁'\", '▁Me', '▁again', 'st', '▁my', '▁br', 'other', '▁,', '▁me', '▁and', '▁my', '▁br', 'other', '▁again', 'st', '▁my', '▁c', 'ous', 'in', '▁,', '▁me', '▁and', '▁my', '▁c', 'ous', 'in', '▁again', 'st', '▁my', '▁en', 'em', 'y', \"▁'\", '▁,', '▁or', \"▁'\", '▁The', '▁en', 'em', 'y', '▁of', '▁my', '▁en', 'em', 'y', '▁is', '▁my', '▁friend', \"▁'\", '▁thing', '▁going', '▁on', '▁again', '▁.']\n",
      "['▁S', 'pe', 'aking', '▁of', '▁F', 'all', 'u', 'j', 'ah', '▁,', '▁we', '▁have', '▁only', '▁Al', '▁-', '▁J', 'az', 'e', 'er', 'a', '▁to', '▁re', 'ly', '▁on', '▁for', '▁our', '▁new', 's', '▁from', '▁there', '▁.']\n",
      "['▁They', '▁have', '▁sent', '▁over', '▁their', '▁top', '▁rep', 'or', 'ter', '▁A', 'h', 'med', '▁M', 'ans', 'our', '▁to', '▁the', '▁town', '▁,', '▁and', '▁he', '▁is', '▁sp', 'out', 'ing', '▁all', '▁kind', 's', '▁of', '▁pro', 'p', 'ag', 'and', 'a', '▁h', 'our', 'ly', '▁rem', 'ind', 'ing', '▁me', '▁of', '▁Al', '▁-', '▁S', 'ah', 'h', 'a', 'f', '▁.']\n",
      "['▁O', 'ver', '▁3', '00', '▁Iraq', 'is', '▁are', '▁report', 'ed', '▁de', 'ad', '▁and', '▁5', '00', '▁report', 'ed', '▁w', 'ound', 'ed', '▁in', '▁F', 'all', 'u', 'j', 'ah', '▁al', 'one', '▁.']\n",
      "['▁Al', '▁-', '▁Iraq', 'i', 'y', 'ah', '▁t', 'v', '▁said', '▁that', '▁I', 'C', 'D', 'C', '▁were', '▁cont', 'ro', 'll', 'ing', '▁R', 'am', 'ad', 'i', '▁.']\n",
      "['▁E', 'l', 'en', 'a', \"▁'\", 's', '▁m', 'ot', 'or', 'cy', 'cle', '▁tour', '▁through', '▁the', '▁region', '▁around', '▁C', 'her', 'n', 'ob', 'y', 'l', '▁has', '▁rev', 'ived', '▁interest', '▁in', '▁one', '▁of', '▁the', '▁most', '▁ser', 'ious', '▁n', 'u', 'cle', 'ar', '▁dis', 'ast', 'ers', '▁in', '▁hist', 'ory', '▁.']\n",
      "['▁We', '▁all', '▁know', '▁what', '▁happ', 'en', 'ed', '▁,', '▁but', '▁even', '▁to', '▁this', '▁day', '▁,', '▁there', '▁are', '▁many', '▁dif', 'fe', 'rent', '▁', 'vers', 'ions', '▁and', '▁op', 'in', 'ions', '▁on', '▁how', '▁it', '▁happ', 'en', 'ed', '▁and', '▁what', '▁eff', 'ect', '▁C', 'her', 'n', 'ob', 'y', 'l', '▁will', '▁have', '▁on', '▁the', '▁he', 'al', 'th', '▁of', '▁people', '▁aff', 'ect', 'ed', '▁by', '▁the', '▁fall', 'out', '▁.']\n",
      "['▁U', 'P', 'D', 'A', 'TE', '▁:']\n",
      "['▁Now', '▁you', '▁can', '▁tour', '▁C', 'her', 'n', 'ob', 'y', 'l', '▁and', '▁wr', 'ite', '▁your', '▁own', '▁st', 'ory', '▁.']\n",
      "['▁This', '▁is', '▁not', '▁a', '▁post', '▁about', '▁f', 'a', 'ult', '▁-', '▁find', 'ing', '▁or', '▁ass', 'ign', 'ing', '▁bl', 'ame', '▁.']\n",
      "['▁It', '▁is', '▁a', '▁time', '▁to', '▁learn', '▁what', '▁happ', 'en', 'ed', '▁and', '▁how', '▁it', '▁may', '▁aff', 'ect', '▁the', '▁f', 'ut', 'ure', '▁.']\n",
      "['▁This', '▁was', '▁he', 'av', 'ily', '▁prom', 'ot', 'ed', '▁by', '▁the', '▁A', 'ust', 'r', 'al', 'as', 'ian', '▁R', 'ad', 'i', 'ation', '▁Pr', 'ot', 'ect', 'ion', '▁S', 'oc', 'iet', 'y', '▁in', '▁a', '▁press', '▁re', 'lease', '▁t', 'it', 'led', '▁THE', '▁M', 'Y', 'T', 'H', 'S', '▁O', 'F', '▁C', 'H', 'ER', 'N', 'O', 'B', 'Y', 'L', '▁which', '▁cont', 'ain', 'ed', '▁the', '▁follow', 'ing', '▁:']\n",
      "['▁C', 'H', 'ER', 'N', 'O', 'B', 'Y', 'L', '▁A', 'C', 'C', 'I', 'D', 'EN', 'T', '▁:', '▁T', 'EN', '▁Y', 'E', 'A', 'R', 'S', '▁O', 'N']\n",
      "['▁The', '▁pre', 'st', 'ig', 'ious', '▁I', 'A', 'E', 'A', '▁(', '▁In', 'ter', 'n', 'ational', '▁At', 'om', 'ic', '▁En', 'ergy', '▁Ag', 'en', 'cy', '▁)', '▁p', 'ub', 'l', 'is', 'hed', '▁an', '▁early', '▁report', '▁on', '▁C', 'her', 'n', 'ob', 'y', 'l', '▁which', '▁was', '▁bas', 'ed', '▁on', '▁inform', 'ation', '▁from', '▁R', 'uss', 'ian', '▁s', 'ource', 's', '▁and', '▁st', 'ated', '▁that', '▁there', '▁was', '▁no', '▁sign', 'ific', 'ant', '▁he', 'al', 'th', '▁eff', 'ect', 's', '▁.']\n",
      "['▁Here', '▁are', '▁some', '▁ex', 'c', 'er', 'pt', 's', '▁:']\n",
      "['▁There', '▁is', '▁a', '▁lot', '▁to', '▁learn', '▁about', '▁C', 'her', 'n', 'ob', 'y', 'l', '▁.']\n",
      "['▁Be', 'ing', '▁well', '▁-', '▁inform', 'ed', '▁will', '▁give', '▁you', '▁certain', 'ty', '▁and', '▁that', '▁is', '▁des', 'i', 'ra', 'ble', '▁in', '▁a', '▁world', '▁of', '▁conf', 'l', 'ict', 'ing', '▁report', 's', '▁.']\n",
      "['▁There', '▁are', '▁a', '▁we', 'al', 'th', '▁of', '▁re', 'ference', 's', '▁on', '▁C', 'her', 'n', 'ob', 'y', 'l', '▁.']\n",
      "['▁Re', 'ad', '▁some', '▁of', '▁the', '▁follow', 'ing', '▁l', 'ink', 's', '▁and', '▁dra', 'w', '▁your', '▁own', '▁conc', 'l', 'us', 'ions', '▁.']\n",
      "['▁I', '▁would', '▁be', '▁interest', 'ed', '▁in', '▁hear', 'ing', '▁what', '▁conc', 'l', 'us', 'ions', '▁you', '▁re', 'ached', '▁and', '▁what', '▁you', '▁found', '▁that', '▁was', '▁most', '▁con', 'v', 'in', 'c', 'ing', '▁.']\n",
      "['▁ra', 'd', 'i', 'ation', '▁:']\n",
      "['▁R', 'em', 'ember', '▁the', '▁old', '▁sh', 'o', 'e', '▁s', 'iz', 'ing', '▁m', 'ach', 'ines', '▁that', '▁was', '▁a', '▁form', '▁of', '▁ra', 'd', 'i', 'ation', '▁', 'x', 'r', 'ay', '▁?']\n",
      "['▁That', '▁too', '▁was', '▁stop', 'p', 'ed', '▁.']\n",
      "['▁One', '▁of', '▁them', '▁is', '▁the', '▁Re', 'st', '▁and', '▁Re', 'cu', 'per', 'ation', '▁Pro', 'gram', '▁,', '▁where', 'in', '▁a', '▁ch', 'ild', '▁can', '▁come', '▁to', '▁the', '▁US', '▁for', '▁a', '▁few', '▁week', 's', '▁in', '▁the', '▁sum', 'mer', '▁.']\n",
      "['▁The', '▁u', 'r', 'ge', '▁to', '▁pr', 'ot', 'ect', '▁and', '▁g', 'ather', '▁them', '▁all', '▁in', '▁is', '▁al', 'most', '▁over', 'w', 'he', 'l', 'm', 'ing', '▁,', '▁and', '▁m', 'akes', '▁me', '▁more', '▁g', 'rate', 'ful', '▁for', '▁the', '▁b', 'less', 'ings', '▁I', '▁have', '▁.']\n",
      "['▁T', 'ake', '▁care', '▁,', '▁my', '▁friend', '▁,', '▁L', 'ind', 'a']\n",
      "['▁I', \"▁'\", 'm', '▁s', 'or', 'ry', '▁to', '▁say', '▁E', 'l', 'en', 'a', \"▁'\", 's', '▁st', 'ory', '▁has', '▁been', '▁re', 've', 'al', 'ed', '▁to', '▁be', '▁a', '▁f', 'ake', '▁.']\n",
      "['▁What', '▁do', '▁the', '▁new', '▁al', '▁-', '▁Qaeda', '▁v', 'ide', 'ot', 'ape', '▁and', '▁a', 'ud', 'io', '▁spe', 'ec', 'he', 's', '▁of', '▁B', 'in', '▁L', 'ad', 'en', '▁and', '▁A', 'y', 'man', '▁al', '▁-', '▁Z', 'aw', 'ah', 'ir', 'i', '▁tell', '▁us', '▁about', '▁the', '▁h', 'op', 'es', '▁of', '▁the', '▁remain', 'ing', '▁top', '▁lead', 'ers', 'h', 'ip', '▁of', '▁the', '▁or', 'gan', 'iz', 'ation', '▁?']\n",
      "['▁M', 'ush', 'ar', 'ra', 'f', '▁has', '▁been', '▁try', 'ing', '▁to', '▁pur', 'ge', '▁his', '▁off', 'ic', 'er', '▁cor', 'p', 's', '▁of', '▁the', '▁sub', 'st', 'ant', 'ial', '▁number', '▁of', '▁al', '▁-', '▁Qaeda', '▁s', 'y', 'm', 'p', 'ath', 'iz', 'ers', '▁.']\n",
      "['▁H', 'is', '▁military', '▁inte', 'll', 'ig', 'ence', '▁has', '▁cap', 't', 'ure', 'd', '▁m', 'aj', 'or', '▁f', 'ig', 'ure', 's', '▁like', '▁Ab', 'u', '▁Z', 'ub', 'ay', 'd', 'a', '▁and', '▁K', 'h', 'al', 'id', '▁Sh', 'ay', 'k', 'h', '▁M', 'u', 'h', 'am', 'm', 'ad', '▁,', '▁as', '▁well', '▁as', '▁near', 'ly', '▁5', '00', '▁other', '▁al', '▁-', '▁Qaeda', '▁oper', 'ative', 's', '▁,', '▁over', '▁4', '00', '▁of', '▁wh', 'om', '▁the', '▁Pakistan', 'is', '▁have', '▁turn', 'ed', '▁over', '▁to', '▁the', '▁US', '▁.']\n",
      "['▁M', 'ush', 'ar', 'ra', 'f', '▁he', 'ld', '▁elect', 'ions', '▁in', '▁Oct', 'o', 'ber', '▁of', '▁200', '2', '▁,', '▁in', '▁which', '▁cent', 'er', '▁-', '▁right', '▁part', 'ies', '▁did', '▁well', '▁,', '▁but', '▁in', '▁which', '▁near', 'ly', '▁20', '▁per', 'cent', '▁of', '▁par', 'li', 'am', 'ent', '▁se', 'at', 's', '▁went', '▁to', '▁the', '▁fund', 'am', 'ent', 'al', 'ist', '▁rel', 'ig', 'ious', '▁part', 'y', '▁co', 'al', 'ition', '▁,', '▁M', 'M', 'A', '▁.']\n",
      "['▁M', 'M', 'A', '▁also', '▁cap', 't', 'ure', 'd', '▁the', '▁N', 'orth', 'we', 'st', '▁F', 'ron', 't', 'ier', '▁Pro', 'v', 'ince', '▁,', '▁which', '▁prob', 'ably', '▁she', 'l', 'ter', 's', '▁B', 'in', '▁L', 'ad', 'en', '▁and', '▁al', '▁-', '▁Z', 'aw', 'ah', 'ir', 'i', '▁,', '▁and', '▁is', '▁in', '▁a', '▁j', 'oint', '▁govern', 'ment', '▁of', '▁B', 'al', 'uch', 'istan', '▁Pro', 'v', 'ince', '▁,', '▁also', '▁on', '▁the', '▁Afghan', 'istan', '▁b', 'ord', 'er', '▁.']\n",
      "['▁If', '▁al', '▁-', '▁Qaeda', '▁can', '▁kill', '▁M', 'ush', 'ar', 'ra', 'f', '▁or', '▁inst', 'ig', 'ate', '▁a', '▁military', '▁cou', 'p', '▁again', 'st', '▁him', '▁by', '▁Islam', 'ist', '▁j', 'un', 'ior', '▁off', 'ic', 'ers', '▁,', '▁they', '▁can', '▁hope', '▁to', '▁cat', 'ap', 'ult', '▁the', '▁M', 'M', 'A', '▁to', '▁power', '▁as', '▁polit', 'ical', '▁all', 'ies', '▁and', '▁h', 'ost', 's', '▁.']\n",
      "['▁They', '▁would', '▁there', 'b', 'y', '▁g', 'ain', '▁cont', 'rol', '▁of', '▁a', '▁m', 'aj', 'or', '▁base', '▁for', '▁terror', 'ist', '▁oper', 'ations', '▁,', '▁which', '▁is', '▁also', '▁a', '▁n', 'u', 'cle', 'ar', '▁power', '▁.']\n",
      "['▁All', '▁this', '▁is', '▁high', 'ly', '▁un', 'l', 'ike', 'ly', '▁,', '▁as', '▁with', '▁most', '▁al', '▁-', '▁Qaeda', '▁c', 'ra', 'ck', 'p', 'ot', '▁sc', 'he', 'm', 'es', '▁.']\n",
      "['▁But', '▁so', '▁was', '▁it', '▁un', 'l', 'ike', 'ly', '▁that', '▁a', '▁small', '▁group', '▁of', '▁Arab', '▁m', 'u', 'j', 'ah', 'id', 'in', '▁would', '▁v', 'ir', 't', 'ually', '▁take', '▁over', '▁Afghan', 'istan', '▁.']\n",
      "['▁R', 'es', 'p', 'on', 'se', '▁:', '▁The', '▁US', '▁must', '▁do', '▁wh', 'ate', 'ver', '▁it', '▁can', '▁to', '▁st', 'ren', 'g', 't', 'hen', '▁the', '▁leg', 'it', 'im', 'ac', 'y', '▁of', '▁the', '▁Pakistan', 'i', '▁govern', 'ment', '▁.']\n",
      "['▁On', '▁the', '▁one', '▁hand', '▁,', '▁it', '▁should', '▁press', 'ure', '▁M', 'ush', 'ar', 'ra', 'f', '▁to', '▁take', '▁off', '▁his', '▁un', 'if', 'orm', '▁and', '▁run', '▁for', '▁pres', 'ident', '▁in', '▁a', '▁f', 'air', '▁elect', 'ion', '▁,', '▁and', '▁to', '▁re', 'pe', 'al', '▁the', '▁cont', 'ent', 'ious', '▁\"', '▁Le', 'g', 'al', '▁F', 'ra', 'me', 'w', 'ork', '▁Or', 'der', '▁\"', '▁that', '▁e', 'ss', 'ent', 'ial', 'ly', '▁per', 'p', 'et', 'u', 'ates', '▁his', '▁d', 'ict', 'at', 'or', 'ship', '▁.']\n",
      "['▁On', '▁the', '▁other', '▁hand', '▁,', '▁the', '▁US', '▁should', '▁strong', '▁-', '▁arm', '▁India', '▁and', '▁Pakistan', '▁into', '▁a', '▁final', '▁set', 'tle', 'ment', '▁of', '▁the', '▁K', 'ash', 'm', 'ir', '▁issue', '▁.']\n",
      "['▁The', '▁K', 'ash', 'm', 'ir', '▁issue', '▁gener', 'ates', '▁far', '▁more', '▁terror', 'ism', '▁,', '▁and', '▁even', '▁the', '▁threat', '▁of', '▁n', 'u', 'cle', 'ar', '▁war', '▁,', '▁than', '▁Iraq', '▁ever', '▁did', '▁.']\n",
      "['▁R', 'es', 'p', 'on', 'se', '▁:', '▁The', '▁US', '▁has', '▁su', 'c', 'ce', 'ed', 'ed', '▁in', '▁polit', 'ic', 'ally', '▁is', 'ol', 'ating', '▁H', 'am', 'as', '▁,', '▁and', '▁start', 'ed', '▁the', '▁process', '▁of', '▁cut', 'ting', '▁off', '▁its', '▁fund', 'ing', '▁.']\n",
      "['▁This', '▁terror', 'ist', '▁or', 'gan', 'iz', 'ation', '▁can', '▁now', '▁only', '▁p', 'ull', '▁off', '▁far', '▁less', '▁s', 'op', 'h', 'ist', 'ic', 'ated', '▁b', 'om', 'b', 'ings', '▁and', '▁attack', 's', '▁.']\n",
      "['▁It', '▁should', '▁continue', '▁to', '▁be', '▁def', 'ang', 'ed', '▁.']\n",
      "['▁But', '▁Sh', 'ar', 'on', \"▁'\", 's', '▁', 'ir', 'on', '▁f', 'ist', '▁is', '▁sim', 'p', 'ly', '▁not', '▁work', 'ing', '▁as', '▁a', '▁mean', 's', '▁of', '▁est', 'ab', 'lish', 'ing', '▁gener', 'al', '▁peace', '▁,', '▁and', '▁the', '▁Bush', '▁ad', 'minist', 'r', 'ation', '▁will', '▁have', '▁to', '▁fin', 'ally', '▁apply', '▁eff', 'ect', 'ive', '▁press', 'ure', '▁on', '▁Sh', 'ar', 'on', '▁to', '▁stop', '▁his', '▁out', 'ra', 'g', 'es', '▁in', '▁and', '▁col', 'on', 'iz', 'ation', '▁of', '▁the', '▁West', '▁B', 'ank', '▁and', '▁G', 'az', 'a', '▁.']\n",
      "['▁3', '▁)', '▁M', 'ake', '▁Iraq', '▁another', '▁Afghan', 'istan', '▁,', '▁us', 'ing', '▁the', '▁R', 'ep', 'ublic', 'an', '▁R', 'ight', \"▁'\", 's', '▁own', '▁t', 'act', 'ic', 's', '▁again', 'st', '▁them', '▁.']\n",
      "['▁R', 'es', 'p', 'on', 'se', '▁:', '▁Iraq', '▁is', '▁act', 'ually', '▁h', 'ost', 'ile', '▁terr', 'it', 'ory', '▁for', '▁al', '▁-', '▁Qaeda', '▁,', '▁and', '▁with', 'out', '▁Iraq', 'i', '▁s', 'y', 'm', 'p', 'ath', 'iz', 'ers', '▁it', '▁can', '▁not', '▁su', 'c', 'ce', 'ed', '▁there', '▁.']\n",
      "['▁C', 'ert', 'ain', 'ly', '▁,', '▁the', '▁Sh', 'i', 'it', 'es', '▁already', '▁h', 'ate', '▁al', '▁-', '▁Qaeda', '▁and', '▁would', '▁help', '▁;', '▁like', 'w', 'ise', '▁the', '▁K', 'ur', 'd', 's', '▁.']\n",
      "['▁The', '▁Americ', 'ans', '▁have', '▁to', '▁put', '▁away', '▁their', '▁free', '▁-', '▁market', '▁f', 'et', 'ish', 'ism', '▁for', '▁a', '▁while', '▁and', '▁find', '▁way', 's', '▁of', '▁c', 'reat', 'ing', '▁job', 's', '▁and', '▁p', 'um', 'p', 'ing', '▁money', '▁into', '▁Iraq', 'i', '▁house', 'h', 'old', 's', '▁.']\n",
      "['▁We', '▁need', '▁an', '▁F', 'D', 'R', '▁in', '▁Iraq', '▁,', '▁not', '▁a', '▁R', 'on', 'al', 'd', '▁Re', 'ag', 'an', '▁.']\n",
      "['▁G', 'et', 'ting', '▁the', '▁Sp', 'an', 'ish', '▁out', '▁of', '▁Iraq', '▁is', '▁n', \"'\", 't', '▁near', 'ly', '▁as', '▁good', '▁a', '▁r', 'ally', 'ing', '▁c', 'ry', '▁for', '▁al', '▁-', '▁Qaeda', '▁in', '▁the', '▁Arab', '▁world', '▁as', '▁get', 'ting', '▁the', '▁Americ', 'ans', '▁and', '▁Br', 'it', 'ish', '▁out', '▁.']\n",
      "['▁George', '▁W', '.', '▁Bush', '▁al', 'le', 'ged', '▁Th', 'urs', 'day', '▁that', '▁John', '▁Ed', 'ward', 's', '▁l', 'ack', 's', '▁the', '▁experience', '▁ne', 'cess', 'ary', '▁to', '▁be', '▁pres', 'ident', '▁.']\n",
      "['▁The', '▁problem', '▁with', '▁this', '▁ar', 'g', 'u', 'ment', '▁is', '▁that', '▁Bush', '▁l', 'ack', 'ed', '▁the', '▁experience', '▁ne', 'cess', 'ary', '▁to', '▁be', '▁pres', 'ident', '▁when', '▁he', '▁r', 'an', '▁in', '▁2000', '▁,', '▁so', '▁this', '▁s', 'ort', '▁of', '▁che', 'ap', '▁sh', 'ot', '▁just', '▁ho', 'ist', 's', '▁him', '▁by', '▁his', '▁own', '▁pet', 'ard', '▁.']\n"
     ]
    }
   ],
   "source": [
    "test_df = pd.read_csv(\"data\\eng.sentence.train.tsv\", sep=\"\\t\", header=None)\n",
    "encoded = []\n",
    "test_list = test_df[0].values.tolist()\n",
    "i = 0\n",
    "for sentence in test_list:\n",
    "  enc = sp_bpe.encode_as_pieces(sentence)\n",
    "  encoded.append(enc)\n",
    "  print(enc)\n",
    "  i += 1\n",
    "  if i > 100:\n",
    "    break"
   ]
  },
  {
   "cell_type": "code",
   "execution_count": null,
   "metadata": {
    "id": "MiWd91ekfCoT"
   },
   "outputs": [],
   "source": []
  }
 ],
 "metadata": {
  "colab": {
   "provenance": []
  },
  "kernelspec": {
   "display_name": "Python 3",
   "name": "python3"
  },
  "language_info": {
   "codemirror_mode": {
    "name": "ipython",
    "version": 3
   },
   "file_extension": ".py",
   "mimetype": "text/x-python",
   "name": "python",
   "nbconvert_exporter": "python",
   "pygments_lexer": "ipython3",
   "version": "3.11.9"
  }
 },
 "nbformat": 4,
 "nbformat_minor": 0
}
