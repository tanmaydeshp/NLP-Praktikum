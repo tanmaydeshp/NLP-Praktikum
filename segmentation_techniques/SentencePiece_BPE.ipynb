{
 "cells": [
  {
   "cell_type": "code",
   "execution_count": 2,
   "metadata": {
    "colab": {
     "base_uri": "https://localhost:8080/"
    },
    "id": "0nFfzoFAVQ54",
    "outputId": "7a4a4725-eff0-4f1b-8c1d-b77915bee623"
   },
   "outputs": [
    {
     "name": "stdout",
     "output_type": "stream",
     "text": [
      "Requirement already satisfied: sentencepiece in c:\\users\\tanma\\appdata\\local\\packages\\pythonsoftwarefoundation.python.3.11_qbz5n2kfra8p0\\localcache\\local-packages\\python311\\site-packages (0.2.0)\n",
      "Requirement already satisfied: pandas in c:\\users\\tanma\\appdata\\local\\packages\\pythonsoftwarefoundation.python.3.11_qbz5n2kfra8p0\\localcache\\local-packages\\python311\\site-packages (2.1.4)\n",
      "Requirement already satisfied: numpy<2,>=1.23.2 in c:\\users\\tanma\\appdata\\local\\packages\\pythonsoftwarefoundation.python.3.11_qbz5n2kfra8p0\\localcache\\local-packages\\python311\\site-packages (from pandas) (1.26.3)\n",
      "Requirement already satisfied: python-dateutil>=2.8.2 in c:\\users\\tanma\\appdata\\local\\packages\\pythonsoftwarefoundation.python.3.11_qbz5n2kfra8p0\\localcache\\local-packages\\python311\\site-packages (from pandas) (2.8.2)\n",
      "Requirement already satisfied: pytz>=2020.1 in c:\\users\\tanma\\appdata\\local\\packages\\pythonsoftwarefoundation.python.3.11_qbz5n2kfra8p0\\localcache\\local-packages\\python311\\site-packages (from pandas) (2023.3.post1)\n",
      "Requirement already satisfied: tzdata>=2022.1 in c:\\users\\tanma\\appdata\\local\\packages\\pythonsoftwarefoundation.python.3.11_qbz5n2kfra8p0\\localcache\\local-packages\\python311\\site-packages (from pandas) (2023.4)\n",
      "Requirement already satisfied: six>=1.5 in c:\\users\\tanma\\appdata\\local\\packages\\pythonsoftwarefoundation.python.3.11_qbz5n2kfra8p0\\localcache\\local-packages\\python311\\site-packages (from python-dateutil>=2.8.2->pandas) (1.16.0)\n",
      "Note: you may need to restart the kernel to use updated packages.\n"
     ]
    },
    {
     "name": "stderr",
     "output_type": "stream",
     "text": [
      "\n",
      "[notice] A new release of pip is available: 24.0 -> 24.3.1\n",
      "[notice] To update, run: C:\\Users\\tanma\\AppData\\Local\\Microsoft\\WindowsApps\\PythonSoftwareFoundation.Python.3.11_qbz5n2kfra8p0\\python.exe -m pip install --upgrade pip\n"
     ]
    }
   ],
   "source": [
    "%pip install sentencepiece pandas"
   ]
  },
  {
   "cell_type": "code",
   "execution_count": 3,
   "metadata": {
    "colab": {
     "base_uri": "https://localhost:8080/"
    },
    "id": "MTK4tFPJYNLY",
    "outputId": "0d55f532-3389-484c-a324-c906f46c074c"
   },
   "outputs": [
    {
     "data": {
      "text/plain": [
       "True"
      ]
     },
     "execution_count": 3,
     "metadata": {},
     "output_type": "execute_result"
    }
   ],
   "source": [
    "import sentencepiece as spm\n",
    "import pandas as pd\n",
    "train_df = pd.read_csv(\"data\\eng.sentence.train.tsv\", sep=\"\\t\", header=None)\n",
    "training_txt = train_df[0].values.tolist()  + train_df[1].values.tolist()\n",
    "training_txt = [str(sent) for sent in training_txt]\n",
    "with open('data\\\\training_bpe.txt', 'w', encoding='utf-8') as file:\n",
    "  file.writelines(f\"{line}\\n\" for line in training_txt)\n",
    "spm.SentencePieceTrainer.train('--input=data\\\\training_bpe.txt --model_prefix=models\\m_bpe --vocab_size=1800 --model_type=bpe')\n",
    "sp_bpe = spm.SentencePieceProcessor()\n",
    "sp_bpe.load('models\\m_bpe.model')"
   ]
  },
  {
   "cell_type": "code",
   "execution_count": 4,
   "metadata": {
    "colab": {
     "base_uri": "https://localhost:8080/"
    },
    "id": "JmuG2gl3aHJc",
    "outputId": "9a7ff08a-2283-49f5-dfdb-cfc0f311d4d2"
   },
   "outputs": [
    {
     "name": "stdout",
     "output_type": "stream",
     "text": [
      "['▁What', '▁if', '▁G', 'oo', 'g', 'le', '▁M', 'or', 'p', 'hed', '▁I', 'nt', 'o', '▁G', 'oo', 'g', 'le', 'O', 'S', '▁?']\n",
      "['▁What', '▁if', '▁G', 'oo', 'g', 'le', '▁exp', 'and', 'ed', '▁on', '▁its', '▁se', 'arch', '▁-', '▁en', 'g', 'ine', '▁(', '▁and', '▁now', '▁e', '-', 'mail', '▁)', '▁w', 'are', 's', '▁into', '▁a', '▁full', '▁-', '▁fl', 'ed', 'ged', '▁oper', 'ating', '▁system', '▁?']\n",
      "['▁', '[', '▁v', 'ia', '▁M', 'ic', 'ro', 'so', 'ft', '▁W', 'atch', '▁from', '▁M', 'ary', '▁J', 'o', '▁F', 'o', 'ley', '▁', ']']\n",
      "['▁(', '▁And', '▁,', '▁by', '▁the', '▁way', '▁,', '▁is', '▁any', 'b', 'ody', '▁else', '▁just', '▁a', '▁little', '▁n', 'ost', 'al', 'g', 'ic', '▁for', '▁the', '▁days', '▁when', '▁that', '▁was', '▁a', '▁good', '▁thing', '▁?', '▁)']\n",
      "['▁This', '▁B', 'u', 'z', 'z', 'M', 'ach', 'ine', '▁post', '▁ar', 'g', 'ues', '▁that', '▁G', 'oo', 'g', 'le', \"▁'\", 's', '▁r', 'ush', '▁to', 'ward', '▁u', 'b', 'i', 'qu', 'ity', '▁might', '▁back', 'f', 'ire', '▁--', '▁which', '▁we', \"▁'\", 've', '▁all', '▁he', 'ard', '▁before', '▁,', '▁but', '▁it', \"▁'\", 's', '▁partic', 'ular', 'ly', '▁well', '▁-', '▁put', '▁in', '▁this', '▁post', '▁.']\n",
      "['▁G', 'oo', 'g', 'le', '▁is', '▁a', '▁nice', '▁se', 'arch', '▁en', 'g', 'ine', '▁.']\n",
      "['▁Do', 'es', '▁any', 'b', 'ody', '▁use', '▁it', '▁for', '▁any', 'thing', '▁else', '▁?']\n",
      "['▁They', '▁own', '▁b', 'lo', 'g', 'ger', '▁,', '▁of', '▁cour', 'se', '▁.']\n",
      "['▁Is', '▁that', '▁a', '▁money', '▁m', 'ak', 'er', '▁?']\n",
      "['▁I', \"▁'\", 'm', '▁stay', 'ing', '▁away', '▁from', '▁the', '▁st', 'ock', '▁.']\n",
      "['▁I', '▁d', 'ou', 'b', 't', '▁the', '▁very', '▁few', '▁who', '▁act', 'ually', '▁read', '▁my', '▁b', 'lo', 'g', '▁have', '▁not', '▁come', '▁ac', 'ross', '▁this', '▁yet', '▁,', '▁but', '▁I', '▁f', 'ig', 'ure', 'd', '▁I', '▁would', '▁put', '▁it', '▁out', '▁there', '▁any', 'ways', '▁.']\n",
      "['▁John', '▁D', 'on', 'ov', 'an', '▁from', '▁Ar', 'g', 'gh', 'h', 'h', '!', '▁has', '▁put', '▁out', '▁a', '▁exce', 'll', 'ent', '▁sl', 'ide', '▁show', '▁on', '▁what', '▁was', '▁act', 'ually', '▁found', '▁and', '▁f', 'ough', 't', '▁for', '▁in', '▁F', 'all', 'u', 'j', 'ah', '▁.']\n",
      "['▁C', 'l', 'ick', '▁here', '▁To', '▁v', 'iew', '▁it', '▁.']\n",
      "['▁One', '▁of', '▁the', '▁p', 'icture', 's', '▁show', 's', '▁a', '▁f', 'la', 'g', '▁that', '▁was', '▁found', '▁in', '▁F', 'all', 'u', 'j', 'ah', '▁.']\n",
      "['▁Com', 'p', 'are', '▁the', '▁f', 'la', 'g', 's', '▁to', '▁the', '▁F', 'all', 'u', 'j', 'ah', '▁one', '▁.']\n",
      "['▁You', '▁have', '▁to', '▁see', '▁these', '▁sl', 'id', 'es', '▁....', '▁they', '▁are', '▁am', 'az', 'ing', '▁.']\n",
      "['▁This', '▁F', 'all', 'u', 'j', 'ah', '▁oper', 'ation', '▁my', '▁turn', '▁out', '▁to', '▁be', '▁the', '▁most', '▁import', 'ant', '▁oper', 'ation', '▁done', '▁by', '▁the', '▁US', '▁M', 'ilitary', '▁since', '▁the', '▁end', '▁of', '▁the', '▁war', '▁.']\n",
      "['▁Let', '▁me', '▁j', 'o', 'in', '▁the', '▁ch', 'or', 'us', '▁of', '▁an', 'n', 'oy', 'ance', '▁over', '▁G', 'oo', 'g', 'le', \"▁'\", 's', '▁new', '▁to', 'ol', 'b', 'ar', '▁,', '▁which', '▁,', '▁as', '▁not', 'ed', '▁in', '▁the', '▁l', 'ink', 'ed', '▁art', 'ic', 'le', '▁,', '▁comm', 'it', 's', '▁just', '▁about', '▁every', '▁s', 'in', '▁an', '▁on', 'line', '▁market', 'er', '▁could', '▁comm', 'it', '▁,', '▁and', '▁m', 'akes', '▁up', '▁a', '▁few', '▁new', '▁on', 'es', '▁be', 's', 'id', 'es', '▁.']\n",
      "['▁I', \"▁'\", 'm', '▁not', '▁f', 'ond', '▁of', '▁the', '▁G', 'oo', 'g', 'le', '▁-', '▁h', 'ates', '▁-', '▁pri', 'v', 'ac', 'y', '▁ar', 'g', 'u', 'ment']\n",
      "['▁(', '▁You', '▁do', '▁n', \"'\", 't', '▁need', '▁to', '▁use', '▁their', '▁s', 'ite', '▁,', '▁you', '▁can', '▁opt', '▁-', '▁out', '▁of', '▁sh', 'ar', 'ing', '▁your', '▁inform', 'ation', '▁,', '▁you', '▁do', '▁n', \"'\", 't', '▁need', '▁to', '▁send', '▁st', 'u', 'ff', '▁to', '▁anyone', '▁with', '▁a', '▁G', 'mail', '▁acc', 'ount', '▁,', '▁and', '▁if', '▁--', '▁wonder', '▁of', '▁w', 'ond', 'ers', '▁--', '▁you', \"▁'\", 're', '▁wor', 'ri', 'ed', '▁that', '▁you', '▁might', '▁send', '▁something', '▁to', '▁some', 'one', '▁who', '▁would', '▁for', 'ward', '▁an', '▁ex', 'c', 'er', 'pt', '▁to', '▁some', 'one', '▁who', '▁would', '▁then', '▁store', '▁it', '▁on', '▁a', '▁G', 'mail', '▁acc', 'ount', '▁...', '▁you', '▁have', '▁far', '▁,', '▁far', '▁too', '▁much', '▁time', '▁on', '▁your', '▁hand', 's', '▁)', '▁.']\n",
      "['▁How', 'ever', '▁,', '▁this', '▁to', 'ol', 'b', 'ar', '▁is', '▁really', '▁bad', '▁new', 's', '▁.']\n",
      "['▁On', '▁the', '▁other', '▁hand', '▁,', '▁it', '▁look', 's', '▁pretty', '▁c', 'ool', '▁.']\n",
      "['▁Iran', '▁say', 's', '▁it', '▁is', '▁c', 'reat', 'ing', '▁n', 'u', 'cle', 'ar', '▁en', 'ergy', '▁with', 'out', '▁want', 'ing', '▁n', 'u', 'cle', 'ar', '▁weapon', 's', '▁.']\n",
      "['▁One', '▁can', '▁s', 'us', 'pect', '▁the', '▁Iran', 'ian', '▁Go', 'vern', 'ment', '▁.']\n",
      "['▁But', '▁there', '▁is', '▁no', '▁pro', 'o', 'f', '▁.']\n",
      "['▁I', '▁read', '▁an', '▁Ar', 't', 'ic', 'le', '▁in', '▁T', 'ime', '▁m', 'ag', 'az', 'ine', '▁acc', 'us', 'ing', '▁the', '▁Iran', 'ian', '▁Go', 'vern', 'ment', '▁of', '▁being', '▁will', 'ing', '▁to', '▁start', '▁a', '▁n', 'u', 'cle', 'ar', '▁war', '▁and', '▁I', '▁s', 'y', 'm', 'p', 'ath', 'ise', '▁with', '▁the', '▁Ar', 't', 'ic', 'le', '▁.']\n",
      "['▁The', '▁President', '▁has', '▁also', '▁said', '▁he', '▁would', '▁like', '▁to', '▁see', '▁Israel', '▁w', 'ip', 'ed', '▁off', '▁the', '▁m', 'ap', '▁which', '▁he', '▁could', '▁n', \"'\", 't', '▁even', '▁begin', '▁to', '▁try', '▁with', 'out', '▁n', 'u', 'cle', 'ar', '▁weapon', 's', '▁.']\n",
      "['▁But', '▁he', '▁has', '▁ins', 'ist', 'ed', '▁that', '▁he', '▁want', 's', '▁n', 'u', 'cle', 'ar', '▁power', '▁for', '▁peace', 'ful', '▁pur', 'pose', 's', '▁.']\n",
      "['▁M', 'any', '▁people', '▁want', '▁to', '▁use', '▁d', 'ip', 'l', 'om', 'ac', 'y', '▁with', '▁Iran', '▁r', 'ather', '▁than', '▁military', '▁press', 'ure', '▁.']\n",
      "['▁But', '▁will', '▁d', 'ip', 'l', 'om', 'ac', 'y', '▁work', '▁?']\n",
      "['▁And', '▁can', '▁anyone', '▁use', '▁military', '▁press', 'ure', '▁with', 'out', '▁pro', 'o', 'f', '▁?']\n",
      "['▁One', '▁read', 'er', '▁point', 'ed', '▁out', '▁that', '▁the', '▁President', '▁w', 'at', 'c', 'hed', '▁the', '▁Americ', 'ans', '▁in', '▁the', '▁em', 'b', 'ass', 'y', '▁when', '▁they', '▁took', '▁them', '▁h', 'ost', 'age', '▁.']\n",
      "['▁He', '▁has', '▁d', 'en', 'ied', '▁this', '▁.']\n",
      "['▁We', '▁do', '▁n', \"'\", 't', '▁have', '▁to', '▁believe', '▁him', '▁.']\n",
      "['▁But', '▁we', '▁ca', '▁n', \"'\", 't', '▁pro', 've', '▁it', '▁.']\n",
      "['▁It', '▁does', '▁seem', '▁that', '▁Iran', 'ian', 's', '▁f', 're', 'qu', 'ent', 'ly', '▁make', '▁state', 'ments', '▁and', '▁then', '▁h', 'ide', '▁be', 'h', 'ind', '▁l', 'ack', '▁of', '▁pro', 'o', 'f', '▁.']\n",
      "['▁An', 'g', 'ry', '▁c', 'row', 'd', 's', '▁ch', 'ant', 'ed', '▁an', 't', 'i', '-', 'A', 'mer', 'ic', 'an', '▁s', 'lo', 'g', 'ans', '▁in', '▁the', '▁we', 'st', 'ern', '▁c', 'ity', '▁of', '▁F', 'all', 'u', 'j', 'a', '▁(', '▁pop', '.', '▁25', '6', ',000', '▁)', '▁as', '▁the', '▁sec', 'ur', 'ity', '▁pol', 'ice', '▁kill', 'ed', '▁in', '▁a', '▁friend', 'ly', '▁f', 'ire', '▁inc', 'ident', '▁by', '▁US', '▁t', 'ro', 'op', 's', '▁were', '▁b', 'ur', 'ied', '▁on', '▁S', 'atur', 'day', '▁.']\n",
      "['▁It', '▁read', '▁,', '▁\"', '▁The', '▁people', '▁of', '▁F', 'all', 'u', 'j', 'ah', '▁cond', 'em', 'n', '▁the', '▁m', 'ass', 'ac', 're', '▁which', '▁was', '▁comm', 'itt', 'ed', '▁on', '▁Friday', '▁again', 'st', '▁people', '▁d', 'ed', 'ic', 'ated', '▁to', '▁the', '▁pr', 'ot', 'ect', 'ion', '▁of', '▁F', 'all', 'u', 'j', 'ah', '▁.']\n",
      "['▁Let', '▁ag', 'g', 'ress', 'ive', '▁(', '▁Americ', 'an', '▁)', '▁lead', 'ers', '▁and', '▁so', 'ld', 'i', 'ers', '▁know', '▁that', '▁we', '▁are', '▁cap', 'able', '▁of', '▁pr', 'ot', 'ect', 'ing', '▁the', '▁c', 'ity', \"▁'\", 's', '▁sec', 'ur', 'ity', '▁and', '▁sa', 'f', 'et', 'y', '▁,', '▁and', '▁ask', '▁them', '▁to', '▁l', 'if', 't', '▁their', '▁hand', 's', '▁from', '▁the', '▁c', 'ity', '▁.', '▁\"']\n",
      "['▁The', '▁cl', 'er', 'ic', 's', '▁dem', 'and', 'ed', '▁talk', 's', '▁with', '▁loc', 'al', '▁US', '▁comm', 'and', 'ers', '▁.']\n",
      "['▁C', 'ities', '▁such', '▁as', '▁F', 'all', 'u', 'j', 'a', '▁rece', 'ived', '▁special', '▁treat', 'ment', '▁from', '▁S', 'ad', 'd', 'am', '▁and', '▁en', 'joy', 'ed', '▁a', '▁dis', 'p', 'ro', 'port', 'ion', 'ate', '▁sh', 'are', '▁of', '▁the', '▁country', \"▁'\", 's', '▁we', 'al', 'th', '▁and', '▁power', '▁.']\n",
      "['▁They', '▁know', '▁that', '▁the', '▁Americ', 'an', '▁adv', 'ent', '▁imp', 'l', 'ies', '▁for', '▁them', '▁a', '▁dem', 'ot', 'ion', '▁,', '▁and', '▁an', '▁e', 'le', 'v', 'ation', '▁of', '▁the', '▁Sh', 'i', 'it', 'es', '▁and', '▁K', 'ur', 'd', 's', '▁,', '▁and', '▁they', '▁ref', 'use', '▁to', '▁go', '▁qu', 'iet', 'ly', '▁.']\n",
      "['▁S', 'ee', '▁http', '://', 'ww', 'w', '.', 'g', 'ul', 'f', '-', 'ne', 'w', 's', '.', 'com', '/', 'A', 'r', 't', 'ic', 'les', '/', 'ne', 'w', 's', '.', 'as', 'p', '?', 'A', 'r', 't', 'ic', 'le', 'I', 'D', '=', '9', '7', '5', '0', '8']\n",
      "['▁The', '▁S', 'up', 'reme', '▁C', 'our', 't', '▁an', 'n', 'ou', 'n', 'ced', '▁its', '▁r', 'ul', 'ing', '▁today', '▁in', '▁H', 'am', 'd', 'an', '▁v', '.', '▁R', 'um', 's', 'fe', 'ld', '▁d', 'iv', 'id', 'ed', '▁along', '▁', 'id', 'el', 'og', 'ical', '▁l', 'ines', '▁with', '▁John', '▁R', 'o', 'ber', 't', 's', '▁ab', 'st', 'ain', 'ing', '▁due', '▁to', '▁his', '▁inv', 'ol', 've', 'ment', '▁at', '▁the', '▁D', '.', 'C', '.', '▁C', 'ir', 'cu', 'it', '▁le', 'vel', '▁and', '▁An', 'th', 'on', 'y', '▁K', 'enn', 'ed', 'y', '▁j', 'o', 'in', 'ing', '▁the', '▁l', 'i', 'ber', 'al', 's', '▁in', '▁a', '▁5', '▁-', '▁3', '▁dec', 'ision', '▁that', '▁is', '▁1', '8', '5', '▁p', 'ag', 'es', '▁long', '▁.']\n",
      "['▁The', '▁act', 'ual', '▁v', 'ote', '▁is', '▁a', '▁little', '▁conf', 'us', 'ing', '▁.']\n",
      "['▁St', 'ay', '▁with', '▁me', '▁now', '▁:', '▁John', '▁Paul', '▁S', 'TE', 'V', 'EN', 'S', '▁de', 'l', 'ive', 'red', '▁the', '▁op', 'in', 'ion', '▁of', '▁the', '▁C', 'our', 't', '▁with', '▁res', 'pect', '▁to', '▁P', 'art', 's', '▁I', '▁through', '▁I', 'V', '▁,', '▁V', 'I', '▁through', '▁V', 'I', '▁-', '▁D', '▁-', '▁i', 'i', 'i', '▁,', '▁V', 'I', '▁-', '▁D', '▁-', '▁v', '▁,', '▁and', '▁V', 'I', 'I', '▁,', '▁in', '▁which', '▁K', 'EN', 'N', 'E', 'D', 'Y', '▁,', '▁S', 'OU', 'T', 'ER', '▁,', '▁G', 'IN', 'S', 'B', 'U', 'R', 'G', '▁,', '▁and', '▁B', 'RE', 'Y', 'ER', '▁j', 'o', 'in', 'ed', '▁,', '▁and', '▁an', '▁op', 'in', 'ion', '▁with', '▁res', 'pect', '▁to', '▁P', 'art', 's', '▁V', '▁and', '▁V', 'I', '▁-', '▁D', '▁-', '▁i', 'v', '▁,', '▁in', '▁which', '▁S', 'OU', 'T', 'ER', '▁,', '▁G', 'IN', 'S', 'B', 'U', 'R', 'G', '▁,', '▁and', '▁B', 'RE', 'Y', 'ER', '▁j', 'o', 'in', 'ed', '▁.']\n",
      "['▁B', 'RE', 'Y', 'ER', '▁fil', 'ed', '▁a', '▁conc', 'ur', 'r', 'ing', '▁op', 'in', 'ion', '▁,', '▁in', '▁which', '▁K', 'EN', 'N', 'E', 'D', 'Y', '▁,', '▁S', 'OU', 'T', 'ER', '▁,', '▁and', '▁G', 'IN', 'S', 'B', 'U', 'R', 'G', '▁j', 'o', 'in', 'ed', '▁.']\n",
      "['▁K', 'EN', 'N', 'E', 'D', 'Y', '▁fil', 'ed', '▁an', '▁op', 'in', 'ion', '▁conc', 'ur', 'r', 'ing', '▁in', '▁part', '▁,', '▁in', '▁which', '▁S', 'OU', 'T', 'ER', '▁,', '▁G', 'IN', 'S', 'B', 'U', 'R', 'G', '▁,', '▁and', '▁B', 'RE', 'Y', 'ER', '▁j', 'o', 'in', 'ed', '▁as', '▁to', '▁P', 'art', 's', '▁I', '▁and', '▁I', 'I', '▁.']\n",
      "['▁S', 'C', 'AL', 'I', 'A', '▁fil', 'ed', '▁a', '▁dis', 's', 'ent', 'ing', '▁op', 'in', 'ion', '▁,', '▁in', '▁which', '▁TH', 'O', 'M', 'AS', '▁and', '▁A', 'L', 'I', 'T', 'O', '▁j', 'o', 'in', 'ed', '▁.']\n",
      "['▁TH', 'O', 'M', 'AS', '▁fil', 'ed', '▁a', '▁dis', 's', 'ent', 'ing', '▁op', 'in', 'ion', '▁,', '▁in', '▁which', '▁S', 'C', 'AL', 'I', 'A', '▁j', 'o', 'in', 'ed', '▁,', '▁and', '▁in', '▁which', '▁A', 'L', 'I', 'T', 'O', '▁j', 'o', 'in', 'ed', '▁as', '▁to', '▁all', '▁but', '▁P', 'art', 's', '▁I', '▁,', '▁I', 'I', '▁-', '▁C', '▁-', '▁1', '▁,', '▁and', '▁I', 'I', 'I', '▁-', '▁B', '▁-', '▁2', '▁.']\n",
      "['▁A', 'L', 'I', 'T', 'O', '▁fil', 'ed', '▁a', '▁dis', 's', 'ent', 'ing', '▁op', 'in', 'ion', '▁,', '▁in', '▁which', '▁S', 'C', 'AL', 'I', 'A', '▁and', '▁TH', 'O', 'M', 'AS', '▁j', 'o', 'in', 'ed', '▁as', '▁to', '▁P', 'art', 's', '▁I', '▁through', '▁I', 'I', 'I', '▁.']\n",
      "['▁It', '▁will', '▁take', '▁me', '▁a', '▁little', '▁while', '▁to', '▁read', '▁the', '▁whole', '▁thing', '▁,', '▁but', '▁I', '▁ra', 're', 'ly', '▁agree', '▁with', '▁a', '▁John', '▁Paul', '▁Ste', 'ven', 's', '▁op', 'in', 'ion', '▁.']\n",
      "['▁I', \"▁'\", 'll', '▁post', '▁high', 'l', 'ight', 's', '▁from', '▁the', '▁op', 'in', 'ion', '▁and', '▁dis', 's', 'ent', 's', '▁when', '▁I', \"▁'\", 'm', '▁fin', 'is', 'hed', '▁.']\n",
      "['▁I', 'm', 'port', 'ant', '▁new', 's', '▁such', '▁as', '▁President', '▁Bush', \"▁'\", 's', '▁min', 'is', 'cu', 'le', '▁c', 'al', 'ib', 'r', 'ations', '▁on', '▁his', '▁mar', 'ri', 'age', '▁am', 'end', 'ment', '▁/', '▁an', 't', 'i', '-', 'g', 'ay', '▁(', '▁up', 'd', 'ate', '▁:', '▁he', \"▁'\", 's', '▁not', '▁again', 'st', '▁g', 'ay', 's', '▁in', '▁the', '▁b', 'ed', 'room', '▁,', '▁just', '▁at', '▁the', '▁al', 't', 'ar', '▁,', '▁where', '▁of', '▁cour', 'se', '▁their', '▁rel', 'ation', 'ship', 's', '▁should', '▁not', '▁only', '▁be', '▁fr', 'own', 'ed', '▁up', 'on', '▁but', '▁should', '▁be', '▁con', 'st', 'it', 'ution', 'ally', '▁ex', 'c', 'l', 'ud', 'ed', '▁)', '▁has', '▁p', 'us', 'hed', '▁S', 'ud', 'an', '▁not', '▁just', '▁off', '▁the', '▁front', '▁p', 'ag', 'es', '▁,', '▁or', '▁the', '▁A', '▁se', 'ction', '▁,', '▁but', '▁out', '▁of', '▁the', '▁N', 'Y', '▁T', 'imes', '▁and', '▁W', 'ash', 'ing', 'ton', '▁P', 'ost', '▁complete', 'ly', '▁.']\n",
      "['▁I', '▁had', '▁to', '▁go', '▁to', '▁the', '▁B', 'B', 'C', '▁for', '▁this', '▁report', '▁.']\n",
      "['▁It', \"▁'\", 's', '▁just', '▁dis', 'a', 'pp', 'oint', 'ing', '▁.']\n",
      "['▁M', 'ost', '▁t', 'rou', 'b', 'l', 'ing', '▁,', '▁how', 'ever', '▁,', '▁is', '▁the', '▁fact', '▁that', '▁the', '▁polit', 'ical', '▁will', '▁to', '▁end', '▁the', '▁cr', 'is', 'is', '▁exp', 'ress', 'ed', '▁a', '▁few', '▁short', '▁week', 's', '▁ago', '▁seem', 's', '▁to', '▁have', '▁e', 'b', 'b', 'ed', '▁.']\n",
      "['▁T', 'w', 'o', '▁week', 's', '▁later', '▁,', '▁and', '▁the', '▁v', 'i', 'ol', 'ence', '▁contin', 'ues', '▁.']\n",
      "['▁The', '▁Af', 'ric', 'an', '▁Un', 'ion', '▁is', '▁clear', 'ly', '▁not', '▁up', '▁to', '▁the', '▁t', 'as', 'k', '▁of', '▁keep', 'ing', '▁the', '▁peace', '▁,', '▁pl', 'ed', 'g', 'ing', '▁3', '00', '▁t', 'ro', 'op', 's', '▁to', '▁an', '▁area', '▁that', '▁will', '▁need', '▁15', ',000', '▁,', '▁acc', 'ord', 'ing', '▁to', '▁an', 'al', 'yst', 's', '▁.']\n",
      "['▁And', '▁inter', 'n', 'ational', '▁d', 'on', 'ors', '▁have', '▁g', 'i', 'ven', '▁only', '▁h', 'alf', '▁of', '▁the', '▁rel', 'ief', '▁a', 'id', '▁that', '▁D', 'ar', 'f', 'ur', '▁need', 's', '▁,', '▁acc', 'ord', 'ing', '▁to', '▁the', '▁loc', 'al', '▁U', 'N', '▁off', 'ic', 'ial', 's', '▁.']\n",
      "['▁So', '▁hear', '▁we', '▁are', '▁,', '▁two', '▁week', 's', '▁later', '▁,', '▁after', '▁that', '▁d', 'az', 'z', 'l', 'ing', '▁P', 'R', '▁dis', 'p', 'l', 'ay', '▁two', '▁week', 's', '▁ago', '▁by', '▁P', 'ow', 'ell', '▁and', '▁An', 'n', 'an', '▁,', '▁and', '▁the', '▁sit', 'u', 'ation', '▁on', '▁the', '▁g', 'round', '▁in', '▁D', 'ar', 'f', 'ur', '▁ap', 'pe', 'ar', 's', '▁bas', 'ic', 'ally', '▁un', 'ch', 'ang', 'ed', '▁.']\n",
      "['▁W', 'ar', 'ren', '▁B', 'u', 'ff', 'et', 't', '▁is', '▁g', 'iving', '▁away', '▁8', '5', '▁', '%', '▁of', '▁his', '▁we', 'al', 'th', '▁,', '▁most', 'ly', '▁to', '▁the', '▁B', 'ill', '▁and', '▁M', 'el', 'ind', 'a', '▁G', 'ates', '▁F', 'ound', 'ation', '▁.']\n",
      "['▁It', \"▁'\", 's', '▁a', '▁move', '▁that', '▁really', '▁wor', 'ri', 'es', '▁me', '▁;', '▁B', 'u', 'ff', 'et', 't', \"▁'\", 's', '▁us', 'ual', '▁just', 'ific', 'ation', '▁for', '▁keep', 'ing', '▁most', '▁of', '▁his', '▁money', '▁was', '▁that', '▁he', '▁was', '▁still', '▁comp', 'ound', 'ing', '▁the', '▁value', '▁of', '▁his', '▁for', 't', 'une', '▁at', '▁a', '▁pretty', '▁high', '▁rate', '▁,', '▁so', '▁any', '▁g', 'if', 't', 's', '▁now', '▁would', '▁mean', '▁sign', 'ific', 'ant', 'ly', '▁less', '▁money', '▁for', '▁the', '▁found', 'ation', '▁later', '▁.']\n",
      "['▁Wh', 'ich', '▁e', 'ss', 'ent', 'ial', 'ly', '▁s', 'ound', 's', '▁like', '▁he', \"▁'\", 's', '▁wor', 'ri', 'ed', '▁that', '▁B', 'ill', '▁or', '▁M', 'el', 'ind', 'a', '▁are', '▁going', '▁to', '▁d', 'ie', '▁soon', '▁.']\n",
      "['▁I', '▁ass', 'ume', '▁his', '▁act', 'ual', '▁reason', '▁is', '▁that', '▁he', \"▁'\", 's', '▁wor', 'ri', 'ed', '▁that', '▁B', 'er', 'k', 'sh', 'ire', '▁H', 'ath', 'a', 'way', '▁just', '▁ca', '▁n', \"'\", 't', '▁g', 'row', '▁quick', 'ly', '▁enough', '▁to', '▁just', 'ify', '▁his', '▁us', 'ual', '▁ch', 'ar', 'ity', '▁pol', 'icy', '▁.']\n",
      "['▁I', \"▁'\", 'm', '▁not', '▁sure', '▁how', '▁the', '▁market', '▁will', '▁re', 'act', '▁.']\n",
      "['▁It', '▁does', '▁n', \"'\", 't', '▁change', '▁the', '▁company', \"▁'\", 's', '▁int', 'r', 'in', 's', 'ic', '▁worth', '▁,', '▁and', '▁as', '▁the', '▁art', 'ic', 'le', '▁not', 'es', '▁,', '▁the', '▁company', '▁might', '▁be', '▁add', 'ed', '▁to', '▁a', '▁m', 'aj', 'or', '▁in', 'de', 'x', '▁once', '▁the', '▁sh', 'are', 's', '▁get', '▁more', '▁l', 'i', 'qu', 'id', '▁.']\n",
      "['▁em', '▁...', '▁no', '▁...', '▁the', '▁G', 'ates', '▁found', 'ation', '▁main', 'ly', '▁in', 'vest', 's', '▁in', '▁med', 'ical', '▁re', 'se', 'arch', '▁and', '▁ed', 'u', 'c', 'ation', '▁,', '▁that', '▁mean', 's', '▁d', 'on', 'ating', '▁now', '▁add', 's', '▁a', '▁t', 're', 'mend', 'ous', '▁value', '▁comp', 'are', 'd', '▁to', '▁d', 'on', 'ating', '▁in', '▁t', 'en', '▁years', '▁.']\n",
      "['▁B', 'ec', 'ause', '▁the', '▁10', '.', '000', '.', '000', '▁people', '▁d', 'y', 'ing', '▁from', '▁m', 'al', 'ar', 'ia', '▁will', '▁other', 'w', 'ise', '▁be', '▁de', 'ad', '▁.']\n",
      "['▁i', '.', 'e', '▁.']\n",
      "['▁He', \"▁'\", 's', '▁not', '▁g', 'iving', '▁8', '5', '▁', '%', '▁away', '▁,', '▁he', \"▁'\", 's', '▁g', 'iving', '▁a', '▁number', '▁of', '▁sh', 'are', 's', '▁each', '▁year', '▁that', '▁dec', 're', 'ase', '▁in', '▁number', '▁at', '▁the', '▁rate', '▁of', '▁5', '▁', '%', '▁a', '▁year', '▁(', '▁u', 'nt', 'il', '▁g', 'one', '▁?', '▁)', '▁.']\n",
      "['▁He', '▁m', 'ent', 'ions', '▁his', '▁w', 'ife', \"▁'\", 's', '▁death', '▁ha', 'ving', '▁an', '▁eff', 'ect', '▁on', '▁him', '▁.']\n",
      "['▁It', '▁s', 'ound', 's', '▁pretty', '▁r', 'ational', '▁that', '▁he', \"▁'\", 's', '▁say', 'ing', '▁that', '▁B', 'ill', '▁and', '▁M', 'el', 'ind', 'a', '▁are', '▁at', '▁a', '▁pr', 'ime', '▁sp', 'ot', '▁,', '▁so', '▁start', 'ing', '▁the', '▁money', '▁h', 'ose', '▁now', '▁is', '▁a', '▁good', '▁idea', '▁,', '▁but', '▁B', 'u', 'ff', 'et', '▁is', '▁still', '▁keep', 'ing', '▁most', '▁of', '▁his', '▁d', 'on', 'ation', '▁in', 'side', '▁of', '▁B', 'er', 'k', 'sh', 'ire', '▁where', '▁it', '▁will', '▁comp', 'ound', '▁.']\n",
      "['▁B', 'ill', '▁over', '▁at', '▁The', '▁F', 'our', 'th', '▁R', 'ail', '▁has', '▁an', '▁exce', 'll', 'ent', '▁e', 'ss', 'ay', '▁on', '▁how', '▁the', '▁M', 'S', 'M', '▁and', '▁the', '▁U', 'N', '▁,', '▁even', '▁the', '▁left', 'ist', '▁count', 'ri', 'es', '▁in', '▁E', 'u', 'ro', 'pe', '▁,', '▁are', '▁bas', 'ic', 'ally', '▁accept', 'ing', '▁terror', 'ist', '▁or', 'gan', 'iz', 'ations', '▁as', '▁leg', 'it', 'imate', '▁form', 's', '▁of', '▁a', '▁polit', 'ical', '▁part', 'y', '▁:']\n",
      "['▁On', '▁the', '▁same', '▁day', '▁P', 'ale', 'st', 'in', 'ian', 's', '▁pr', 'ot', 'est', '▁in', '▁support', '▁of', '▁He', 'z', 'b', 'oll', 'ah', '▁and', '▁S', 'y', 'ri', 'a', '▁,', '▁the', '▁terror', 'ist', '▁group', '▁H', 'am', 'as', '▁has', '▁ind', 'ic', 'ated', '▁it', '▁will', '▁partic', 'ip', 'ate', '▁in', '▁the', '▁sc', 'hed', 'ul', 'ed', '▁up', 'com', 'ing', '▁Par', 'li', 'am', 'ent', 'ary', '▁elect', 'ions', '▁.']\n",
      "['▁To', '▁the', '▁n', 'orth', '▁in', '▁Le', 'b', 'an', 'on', '▁,', '▁there', '▁is', '▁ser', 'ious', '▁de', 'b', 'ate', '▁with', 'in', '▁He', 'z', 'b', 'oll', 'ah', '▁about', '▁ent', 'er', 'ing', '▁the', '▁Le', 'b', 'ane', 'se', '▁polit', 'ical', '▁process', '▁in', '▁light', '▁of', '▁S', 'y', 'ri', 'a', \"▁'\", 's', '▁prom', 'is', 'ed', '▁with', 'd', 'ra', 'w', 'al', '▁.']\n",
      "['▁S', 'y', 'ri', 'a', '▁has', '▁ag', 're', 'ed', '▁to', '▁with', 'd', 'ra', 'w', '▁under', '▁the', '▁cond', 'it', 'ions', '▁set', '▁for', 'th', '▁in', '▁U', 'N', 'S', 'C', '▁R', 'es', 'ol', 'ution', '▁15', '5', '9', '▁,', '▁which', '▁has', '▁already', '▁be', 'g', 'un', '▁.']\n",
      "['▁U', 'N', '▁S', 'ec', 'ret', 'ary', '▁-', '▁G', 'ener', 'al', '▁K', 'o', 'f', 'i', '▁An', 'n', 'an', '▁has', '▁ind', 'ic', 'ated', '▁it', '▁is', '▁time', '▁to', '▁\"', '▁rec', 'og', 'n', 'ize', '▁He', 'z', 'b', 'oll', 'ah', '▁\"', '▁after', '▁e', 'as', 'ily', '▁being', '▁d', 'up', 'ed', '▁by', '▁\"', '▁the', '▁message', '▁on', '▁the', '▁p', 'la', 'c', 'ard', 's', '▁they', '▁are', '▁us', 'ing', '▁\"', '▁.']\n",
      "['▁The', '▁med', 'ia', '▁r', 'out', 'ine', 'ly', '▁ob', 's', 'c', 'ure', 's', '▁the', '▁l', 'ines', '▁between', '▁terror', 'ism', '▁and', '▁leg', 'it', 'imate', '▁res', 'ist', 'ance', '▁,', '▁as', '▁the', '▁recent', '▁art', 'ic', 'le', '▁by', '▁D', 'an', 'ie', 'l', '▁O', 'k', 'rent', '▁of', '▁The', '▁New', '▁Y', 'ork', '▁T', 'imes', '▁dem', 'on', 'st', 'r', 'ates', '▁.']\n",
      "['▁...']\n",
      "['▁I', \"▁'\", 've', '▁been', '▁f', 'um', 'ing', '▁over', '▁this', '▁fact', '▁for', '▁a', '▁few', '▁week', 's', '▁now', '▁,', '▁ever', '▁since', '▁some', '▁or', 'gan', 'iz', 'ations', '▁and', '▁govern', 'ments', '▁suggest', 'ed', '▁we', '▁need', '▁to', '▁accept', '▁the', '▁fact', '▁that', '▁He', 'z', 'b', 'oll', 'ah', '▁will', '▁get', '▁inv', 'ol', 'ved', '▁in', '▁run', 'ning', '▁Le', 'b', 'an', 'on', '▁.']\n",
      "['▁W', 't', 'f', '▁is', '▁this', '▁?']\n",
      "['▁This', '▁is', '▁a', '▁terror', 'ist', '▁or', 'gan', 'iz', 'ation', '▁p', 'lain', '▁and', '▁simple', '▁.']\n",
      "['▁This', '▁is', '▁just', '▁another', '▁reason', '▁to', '▁never', '▁tr', 'ust', '▁the', '▁M', 'S', 'M', '▁,', '▁and', '▁certain', 'ly', '▁not', '▁the', '▁E', 'u', 'ro', 'pe', 'ans', '▁.']\n",
      "['▁The', '▁Iraq', 'i', '▁Islam', 'ic', '▁P', 'art', 'y', '▁lead', '▁by', '▁M', 'u', 'h', 's', 'in', '▁Ab', 'd', 'ul', '▁H', 'am', 'id', '▁,', '▁has', '▁been', '▁am', 'ong', '▁the', '▁few', '▁S', 'un', 'n', 'i', '▁M', 'us', 'l', 'im', '▁group', 's', '▁will', 'ing', '▁to', '▁c', 'oo', 'per', 'ate', '▁(', '▁even', '▁if', '▁r', 'ather', '▁l', 'u', 'ke', 'w', 'ar', 'm', 'ly', '▁)', '▁with', '▁the', '▁Americ', 'ans', '▁.']\n",
      "['▁It', '▁is', '▁now', '▁threat', 'en', 'ing', '▁to', '▁p', 'ull', '▁out', '▁of', '▁the', '▁All', 'aw', 'i', '▁care', 't', 'ak', 'er', '▁govern', 'ment', '▁.']\n",
      "['▁That', '▁the', '▁Iraq', 'i', '▁Islam', 'ic', '▁P', 'art', 'y', '▁is', '▁now', '▁con', 'te', 'm', 'p', 'l', 'ating', '▁le', 'av', 'ing', '▁the', '▁All', 'aw', 'i', '▁govern', 'ment', '▁ra', 'is', 'es', '▁the', '▁question', '▁of', '▁whether', '▁a', '▁m', 'ass', '▁S', 'un', 'n', 'i', '▁Arab', '▁b', 'oy', 'c', 'ott', '▁of', '▁the', '▁elect', 'ions', '▁is', '▁in', '▁the', '▁off', 'ing', '▁,', '▁th', 'us', '▁f', 'at', 'ally', '▁we', 'ak', 'en', 'ing', '▁the', '▁leg', 'it', 'im', 'ac', 'y', '▁of', '▁any', '▁new', '▁govern', 'ment', '▁.']\n",
      "['▁In', '▁a', '▁comm', 'un', 'i', 'que', '▁,', '▁the', '▁AM', 'S', '▁said', '▁that', '▁for', '▁Iraq', 'is', '▁to', '▁take', '▁part', '▁with', '▁\"', '▁ra', 'id', 'ing', '▁force', 's', '▁\"', '▁in', '▁the', '▁ass', 'a', 'ult', '▁on', '▁a', '▁c', 'ity', '▁,', '▁the', '▁pop', 'ul', 'ation', '▁of', '▁which', '▁is', '▁M', 'us', 'l', 'im', '▁(', '▁such', '▁as', '▁F', 'all', 'u', 'j', 'ah', '▁)', '▁would', '▁be', '▁cons', 'ide', 'red', '▁the', '▁most', '▁m', 'ort', 'al', '▁of', '▁m', 'ort', 'al', '▁s', 'in', 's', '▁.']\n",
      "['▁The', '▁S', 'un', 'n', 'i', '▁AM', 'S', '▁told', '▁Iraq', 'is', '▁,', '▁\"', '▁You', '▁s', 'in', 'n', 'ed', '▁when', '▁you', '▁partic', 'ip', 'ated', '▁with', '▁occ', 'up', 'ation', '▁force', 's', '▁in', '▁the', '▁ass', 'a', 'ult', '▁on', '▁N', 'aj', 'a', 'f', '▁,', '▁and', '▁be', 'ware', '▁le', 'st', '▁you', '▁re', 'pe', 'at', '▁this', '▁same', '▁s', 'in', '▁in', '▁F', 'all', 'u', 'j', 'ah', '▁.']\n",
      "['▁R', 'em', 'ember', '▁that', '▁the', '▁O', 'cc', 'up', 'ation', '▁is', '▁em', 'p', 'he', 'mer', 'al', '▁.', '▁\"']\n",
      "['▁The', '▁ra', 'd', 'ical', '▁Sh', 'i', 'ite', '▁S', 'ad', 'r', '▁move', 'ment', '▁iss', 'u', 'ed', '▁a', '▁state', 'ment', '▁for', 'b', 'id', 'd', 'ing', '▁the', '▁partic', 'ip', 'ation', '▁of', '▁Iraq', 'i', '▁t', 'ro', 'op', 's', '▁in', '▁the', '▁attack', '▁on', '▁F', 'all', 'u', 'j', 'ah', '▁,', '▁as', '▁well', '▁.']\n",
      "['▁It', '▁called', '▁a', '▁\"', '▁p', 'lo', 'y', '▁\"', '▁the', '▁ass', 'ert', 'a', 'ion', '▁that', '▁the', '▁attack', '▁was', '▁me', 're', 'ly', '▁on', '▁fore', 'ign', '▁f', 'igh', 'ter', 's', '▁at', '▁F', 'all', 'u', 'j', 'ah', '▁.']\n",
      "['▁President', '▁Bush', '▁p', 'in', 'c', 'hed', '▁a', '▁few', '▁n', 'er', 'ves', '▁y', 'est', 'er', 'day', '▁with', '▁his', '▁ch', 'oice', '▁of', '▁word', 's', '▁:']\n",
      "['▁W', 'AS', 'H', 'IN', 'G', 'T', 'ON', '▁(', '▁Re', 'ut', 'ers', '▁)', '▁-']\n",
      "['▁U', '.', 'S', '.', '▁M', 'us', 'l', 'im', '▁group', 's', '▁cr', 'it', 'ic', 'iz', 'ed', '▁President', '▁Bush', '▁on', '▁Th', 'urs', 'day', '▁for', '▁call', 'ing', '▁a', '▁f', 'o', 'il', 'ed', '▁pl', 'ot', '▁to', '▁bl', 'ow', '▁up', '▁air', 'p', 'lan', 'es', '▁part', '▁of', '▁a', '▁\"', '▁war', '▁with', '▁Islam', 'ic', '▁f', 'as', 'c', 'ist', 's', '▁,', '▁\"', '▁say', 'ing', '▁the', '▁ter', 'm', '▁could', '▁inf', 'l', 'ame', '▁an', 't', 'i', '-', 'M', 'us', 'l', 'im', '▁t', 'ens', 'ions', '▁.']\n",
      "['▁U', '.', 'S', '.', '▁off', 'ic', 'ial', 's', '▁have', '▁said', '▁the', '▁pl', 'ot', '▁,', '▁th', 'w', 'art', 'ed', '▁by', '▁Br', 'it', 'ain', '▁,', '▁to', '▁bl', 'ow', '▁up', '▁several', '▁air', 'c', 'ra', 'ft', '▁over', '▁the', '▁At', 'l', 'ant', 'ic', '▁b', 'ore', '▁many', '▁of', '▁the', '▁h', 'all', 'm', 'ark', 's', '▁of', '▁al', '▁Qaeda', '▁.']\n",
      "['▁Wh', 'ich', '▁is', '▁why', '▁he', '▁did', '▁n', \"'\", 't', '▁say', '▁we', \"▁'\", 're', '▁at', '▁war', '▁with', '▁Islam', 'ic', '▁people', '▁.']\n",
      "['▁We', \"▁'\", 're', '▁at', '▁war', '▁with', '▁Islam', 'ic', '▁f', 'as', 'c', 'ist', 's', '▁.']\n",
      "['▁And', '▁if', '▁you', '▁have', '▁n', \"'\", 't', '▁he', 'ard', '▁by', '▁now', '▁,', '▁the', '▁ro', 'ster', '▁of', '▁s', 'us', 'pect', 'ed', '▁terror', 'ist', 's', '▁has', '▁not', '▁a', '▁T', 'om', '▁,', '▁D', 'ick', '▁or', '▁H', 'ar', 'ry', '▁am', 'ong', '▁them', '▁:']\n",
      "['▁U', 'm', 'ir', '▁H', 'uss', 'ain', '▁,', '▁2', '4', '▁,', '▁L', 'ond', 'on', '▁E', '1', '4']\n",
      "['▁M', 'u', 'h', 'am', 'med', '▁U', 's', 'man', '▁S', 'ad', 'd', 'i', 'que', '▁,', '▁2', '4', '▁,', '▁L', 'ond', 'on', '▁E', '1', '7']\n"
     ]
    }
   ],
   "source": [
    "test_df = pd.read_csv(\"data\\eng.sentence.test.tsv\", sep=\"\\t\", header=None)\n",
    "encoded = []\n",
    "test_list = test_df[0].values.tolist()\n",
    "i = 0\n",
    "for sentence in test_list:\n",
    "  enc = sp_bpe.encode_as_pieces(sentence)\n",
    "  encoded.append(enc)\n",
    "  print(enc)\n",
    "  i += 1\n",
    "  if i > 100:\n",
    "    break"
   ]
  },
  {
   "cell_type": "code",
   "execution_count": null,
   "metadata": {
    "id": "MiWd91ekfCoT"
   },
   "outputs": [],
   "source": [
    "df_guess = pd.read_csv('data\\eng.sentence.test.gold.tsv', sep='\\t', header=None)\n",
    "i = 0\n",
    "for entry in test_list:\n",
    "  sent = ''\n",
    "  list_sent = sp_bpe.encode_as_pieces(entry)\n",
    "  list_sent = [w.replace(\"_\", \"\") for w in list_sent]\n",
    "  j = 0\n",
    "  length = len(list_sent)\n",
    "  for word in list_sent:\n",
    "    if j != length - 1:\n",
    "      sent += (word + ' @@')\n",
    "      j+=1\n",
    "    else :\n",
    "      sent += word\n",
    "  df_guess[1][i] = sent\n",
    "  i+=1\n",
    "\n",
    "df_guess.to_csv(\"outputs\\eng.sentence.test.bpe_guess.tsv\", sep='\\t', header=None, index = False)"
   ]
  }
 ],
 "metadata": {
  "colab": {
   "provenance": []
  },
  "kernelspec": {
   "display_name": "Python 3",
   "name": "python3"
  },
  "language_info": {
   "codemirror_mode": {
    "name": "ipython",
    "version": 3
   },
   "file_extension": ".py",
   "mimetype": "text/x-python",
   "name": "python",
   "nbconvert_exporter": "python",
   "pygments_lexer": "ipython3",
   "version": "3.11.9"
  }
 },
 "nbformat": 4,
 "nbformat_minor": 0
}
