{
 "cells": [
  {
   "cell_type": "code",
   "execution_count": 1,
   "metadata": {
    "colab": {
     "base_uri": "https://localhost:8080/"
    },
    "id": "o1S4uN6BNdQw",
    "outputId": "9b61633e-ce49-4305-b9c4-46eb46614db2"
   },
   "outputs": [
    {
     "name": "stdout",
     "output_type": "stream",
     "text": [
      "Requirement already satisfied: sentencepiece in c:\\users\\tanma\\appdata\\local\\packages\\pythonsoftwarefoundation.python.3.11_qbz5n2kfra8p0\\localcache\\local-packages\\python311\\site-packages (0.2.0)\n",
      "Requirement already satisfied: pandas in c:\\users\\tanma\\appdata\\local\\packages\\pythonsoftwarefoundation.python.3.11_qbz5n2kfra8p0\\localcache\\local-packages\\python311\\site-packages (2.1.4)\n",
      "Requirement already satisfied: numpy<2,>=1.23.2 in c:\\users\\tanma\\appdata\\local\\packages\\pythonsoftwarefoundation.python.3.11_qbz5n2kfra8p0\\localcache\\local-packages\\python311\\site-packages (from pandas) (1.26.3)\n",
      "Requirement already satisfied: python-dateutil>=2.8.2 in c:\\users\\tanma\\appdata\\local\\packages\\pythonsoftwarefoundation.python.3.11_qbz5n2kfra8p0\\localcache\\local-packages\\python311\\site-packages (from pandas) (2.8.2)\n",
      "Requirement already satisfied: pytz>=2020.1 in c:\\users\\tanma\\appdata\\local\\packages\\pythonsoftwarefoundation.python.3.11_qbz5n2kfra8p0\\localcache\\local-packages\\python311\\site-packages (from pandas) (2023.3.post1)\n",
      "Requirement already satisfied: tzdata>=2022.1 in c:\\users\\tanma\\appdata\\local\\packages\\pythonsoftwarefoundation.python.3.11_qbz5n2kfra8p0\\localcache\\local-packages\\python311\\site-packages (from pandas) (2023.4)\n",
      "Requirement already satisfied: six>=1.5 in c:\\users\\tanma\\appdata\\local\\packages\\pythonsoftwarefoundation.python.3.11_qbz5n2kfra8p0\\localcache\\local-packages\\python311\\site-packages (from python-dateutil>=2.8.2->pandas) (1.16.0)\n",
      "Note: you may need to restart the kernel to use updated packages.\n"
     ]
    },
    {
     "name": "stderr",
     "output_type": "stream",
     "text": [
      "\n",
      "[notice] A new release of pip is available: 24.0 -> 24.3.1\n",
      "[notice] To update, run: C:\\Users\\tanma\\AppData\\Local\\Microsoft\\WindowsApps\\PythonSoftwareFoundation.Python.3.11_qbz5n2kfra8p0\\python.exe -m pip install --upgrade pip\n"
     ]
    }
   ],
   "source": [
    "%pip install sentencepiece pandas"
   ]
  },
  {
   "cell_type": "code",
   "execution_count": 2,
   "metadata": {
    "colab": {
     "base_uri": "https://localhost:8080/"
    },
    "id": "s0kdeC3RNjbQ",
    "outputId": "4e71b390-aa63-44b5-d44c-38d2d4d823d4"
   },
   "outputs": [
    {
     "name": "stdout",
     "output_type": "stream",
     "text": [
      "['▁Al', '▁-', '▁Za', 'man', '▁:', '▁America', '▁@@', 'n', '▁force', '▁@@', 's', '▁kill', '▁@@', 'ed', '▁Sha', 'i', 'k', 'h', '▁A', 'b', 'd', 'ul', 'la', 'h', '▁al', '▁-', '▁An', 'i', '▁,', '▁the', '▁p', 'r', 'each', '▁@@', 'er', '▁at', '▁the', '▁mo', 's', 'que', '▁in', '▁the', '▁town', '▁of', '▁Qa', 'im', '▁,', '▁near', '▁the', '▁Syria', '▁@@', 'an', '▁border', '▁.']\n",
      "['▁', '[', '▁Thi', 's', '▁kill', '▁@@', 'ing', '▁of', '▁a', '▁re', 'spect', '▁@@', 'ed', '▁c', 'l', 'er', 'ic', '▁will', '▁be', '▁', 'cause', '▁@@', 'ing', '▁us', '▁trouble', '▁for', '▁year', '▁@@', 's', '▁to', '▁come', '▁.', '▁', ']']\n",
      "['▁D', 'P', 'A', '▁:', '▁Iraq', '▁@@', 'i', '▁authorit', 'y', '▁@@', 's', '▁an', 'no', 'un', 'ce', '▁@@', 'ed', '▁tha', 't', '▁the', 'y', '▁have', '▁@@', 'ed', '▁bus', 't', '▁@@', 'ed', '▁up', '▁3', '▁terror', '▁@@', 'ist', '▁c', 'ell', '▁@@', 's', '▁opera', '▁@@', 'ate', '▁@@', 'ing', '▁in', '▁Ba', 'g', 'h', 'd', 'ad', '▁.']\n",
      "['▁T', 'w', 'o', '▁of', '▁them', '▁were', '▁be', '▁@@', 'ing', '▁run', '▁by', '▁2', '▁office', '▁@@', 'ial', '▁@@', 's', '▁of', '▁the', '▁M', 'in', 'ist', 'er', '▁@@', 'y', '▁of', '▁the', '▁Inter', 'i', 'or', '▁!']\n",
      "['▁The', '▁thir', 'd', '▁was', '▁be', '▁@@', 'ing', '▁run', '▁by', '▁the', '▁head', '▁of', '▁an', '▁in', 've', 'st', '▁@@', 'ment', '▁', 'firm', '▁.']\n",
      "['▁You', '▁wonder', '▁', 'if', '▁he', '▁was', '▁man', 'i', 'p', 'ul', 'ate', '▁@@', 'ing', '▁the', '▁market', '▁with', '▁his', '▁bomb', '▁@@', 'ing', '▁targe', '▁@@', 'et', '▁@@', 's', '▁.']\n",
      "['▁The', '▁c', 'ell', '▁@@', 's', '▁were', '▁opera', '▁@@', 'ate', '▁@@', 'ing', '▁in', '▁the', '▁G', 'ha', 'z', 'al', 'i', 'y', 'ah', '▁and', '▁al', '▁-', '▁J', 'i', 'had', '▁dis', 't', 'r', 'ic', 't', '▁@@', 's', '▁of', '▁the', '▁capital', '▁.']\n",
      "['▁Al', 'though', '▁the', '▁an', 'no', 'un', 'ce', '▁@@', 'ment', '▁was', '▁probabl', 'e', '▁@@', 'ly', '▁made', '▁to', '▁show', '▁progress', '▁in', '▁identity', '▁@@', 'f', 'y', '▁@@', 'ing', '▁and', '▁break', '▁@@', 'ing', '▁up', '▁terror', '▁c', 'ell', '▁@@', 's', '▁,', '▁I', '▁do', '▁n', \"'\", 't', '▁find', '▁the', '▁new', '▁@@', 's', '▁tha', 't', '▁the', '▁Ba', 'a', 'th', '▁@@', 'ist', '▁@@', 's', '▁continue', '▁to', '▁p', 'e', 'net', 'rate', '▁the', '▁Iraq', '▁@@', 'i', '▁govern', '▁@@', 'ment', '▁', 'very', '▁hope', '▁@@', 'ful', '▁.']\n",
      "['▁It', '▁re', '▁@@', 'min', 'd', '▁@@', 's', '▁me', '▁too', '▁m', 'uch', '▁of', '▁the', '▁', 'AR', 'V', 'N', '▁office', '▁@@', 'er', '▁@@', 's', '▁who', '▁were', '▁', 'se', 'c', 're', 't', '▁@@', 'ly', '▁work', '▁@@', 'ing', '▁for', '▁the', '▁other', '▁', 'side', '▁in', '▁Vietnam', '▁.']\n",
      "['▁Al', '▁-', '▁Za', 'man', '▁:', '▁G', 'u', 'er', 'ri', 'll', 'a', '▁@@', 's', '▁kill', '▁@@', 'ed', '▁a', '▁member', '▁of', '▁the', '▁K', 'ur', 'd', '▁@@', 'st', 'an', '▁De', 'm', 'o', 'c', 'ra', 't', '▁@@', 'ic', '▁P', 'ar', 'ty', '▁after', '▁kid', '▁@@', 'n', 'ap', '▁@@', 'ing', '▁him', '▁in', '▁Mo', 's', 'ul', '▁.']\n",
      "['▁The', '▁polic', 'e', '▁command', '▁@@', 'er', '▁of', '▁N', 'ine', 'v', 'ah', '▁P', 'ro', 'v', 'in', 'ce', '▁an', 'no', 'un', 'ce', '▁@@', 'ed', '▁tha', 't', '▁bomb', '▁@@', 'ing', '▁@@', 's', '▁have', '▁@@', 'ed', '▁decline', '▁@@', 'ed', '▁8', '0', '▁per', 'cent', '▁in', '▁Mo', 's', 'ul', '▁,', '▁where', '▁@@', 'as', '▁there', '▁have', '▁@@', 'ed', '▁be', '▁@@', 'en', '▁a', '▁big', '▁jump', '▁in', '▁the', '▁numb', '▁@@', 'er', '▁of', '▁kid', '▁@@', 'n', 'ap', '▁@@', 'ing', '▁@@', 's', '▁.']\n",
      "['▁On', '▁Wednesday', '▁gu', 'er', 'ri', 'll', 'a', '▁@@', 's', '▁have', '▁@@', 'ed', '▁kid', '▁@@', 'n', 'ap', '▁@@', 'ed', '▁a', '▁co', 's', 'm', 'e', 'tic', '▁surge', 'on', '▁and', '▁his', '▁w', 'if', 'e', '▁whil', 'e', '▁the', 'y', '▁were', '▁on', '▁their', '▁way', '▁home', '▁.']\n",
      "['▁In', '▁Su', 'way', 'ra', 'h', '▁,', '▁K', 'u', 't', '▁P', 'ro', 'v', 'in', 'ce', '▁,', '▁', 'two', '▁car', '▁bomb', '▁@@', 's', '▁were', '▁dis', '▁@@', 'cover', '▁@@', 'ed', '▁be', 'fore', '▁the', 'y', '▁c', 'ould', '▁be', '▁de', 'ton', 'ate', '▁@@', 'ed', '▁.']\n",
      "['▁(', '▁K', 'u', 't', '▁is', '▁in', '▁south', '▁@@', 'e', 'ast', '▁@@', 'ern', '▁Iraq', '▁and', '▁have', '▁@@', 's', '▁an', '▁over', '▁@@', 'w', 'h', 'el', 'm', '▁@@', 'ing', '▁@@', 'ly', '▁Shi', 'a', '▁@@', 'ite', '▁po', 'p', 'ul', 'ate', '▁@@', 'ion', '▁,', '▁who', '▁are', '▁on', '▁the', '▁look', 'out', '▁for', '▁Ba', 'a', 'th', '▁@@', 'ist', '▁', 's', 'ab', 'o', 't', 'e', 'ur', '▁@@', 's', '▁and', '▁will', '▁@@', 'ing', '▁@@', 'ly', '▁turn', '▁them', '▁in', '▁.']\n",
      "['▁Thi', 's', '▁will', '▁@@', 'ing', '▁@@', 'ness', '▁is', '▁the', '▁main', '▁differ', '▁@@', 'ence', '▁in', '▁the', '▁numb', '▁@@', 'er', '▁of', '▁bomb', '▁@@', 'ing', '▁@@', 's', '▁in', '▁the', '▁south', '▁as', '▁oppose', '▁@@', 'ed', '▁to', '▁the', '▁', 'cent', 'er', '▁-', '▁north', '▁of', '▁the', '▁country', '▁.', '▁)']\n",
      "['▁In', '▁Ba', 'g', 'h', 'd', 'ad', '▁Ka', 'd', 'hi', 'm', '▁T', 'al', 'al', '▁Hu', 's', 'a', 'in', '▁,', '▁assist', '▁@@', 'ant', '▁de', 'an', '▁at', '▁the', '▁School', '▁of', '▁E', 'd', 'u', 'c', 'ate', '▁@@', 'ion', '▁at', '▁Mus', 't', 'an', 's', 'i', 'ri', 'y', 'ah', '▁U', 'niversit', 'y', '▁,', '▁was', '▁assassin', '▁@@', 'ate', '▁@@', 'ed', '▁with', '▁his', '▁drive', '▁@@', 'er', '▁in', '▁the', '▁S', 'al', 'i', 'k', 'h', '▁dis', 't', 'r', 'ic', 't', '▁.']\n",
      "['▁G', 'u', 'er', 'ri', 'll', 'a', '▁@@', 's', '▁kill', '▁@@', 'ed', '▁an', '▁engine', '▁@@', 'e', 'er', '▁,', '▁As', 'i', '▁Al', 'i', '▁,', '▁', 'from', '▁T', 'i', 'k', 'ri', 't', '▁.']\n",
      "['▁The', 'y', '▁also', '▁kill', '▁@@', 'ed', '▁Sha', 'i', 'k', 'h', '▁Ha', 'm', 'id', \"▁'\", 'A', 'k', 'k', 'ab', '▁,', '▁a', '▁c', 'lan', '▁e', 'ld', '▁@@', 'er', '▁of', '▁a', '▁bra', 'n', 'ch', '▁of', '▁the', '▁D', 'ul', 'a', 'im', '▁tri', 'be', '▁in', '▁T', 'i', 'k', 'ri', 't', '▁.']\n",
      "['▁Hi', 's', '▁m', 'other', '▁was', '▁also', '▁kill', '▁@@', 'ed', '▁in', '▁the', '▁attack', '▁.']\n",
      "['▁T', 'w', 'o', '▁other', '▁D', 'ul', 'a', 'im', '▁lead', '▁@@', 'er', '▁@@', 's', '▁have', '▁be', '▁@@', 'en', '▁kill', '▁@@', 'ed', '▁in', '▁the', '▁past', '▁week', '▁and', '▁a', '▁half', '▁.']\n",
      "['▁G', 'u', 'er', 'ri', 'll', 'a', '▁@@', 's', '▁near', '▁Ha', 'w', 'i', 'j', 'ah', '▁launch', '▁@@', 'ed', '▁an', '▁attack', '▁tha', 't', '▁l', 'eft', '▁6', '▁dead', '▁,', '▁include', '▁@@', 'ing', '▁4', '▁Iraq', '▁@@', 'i', '▁soldier', '▁@@', 's', '▁.']\n",
      "['▁On', 'e', '▁of', '▁them', '▁was', '▁', 'from', '▁the', '▁Ju', 'bur', '▁tri', 'be', '▁and', '▁was', '▁de', 'p', 'ute', '▁@@', 'y', '▁command', '▁@@', 'er', '▁of', '▁the', '▁Ha', 'w', 'i', 'j', 'ah', '▁ga', 'r', 'ri', 'son', '▁.']\n",
      "['▁(', '▁Thi', 's', '▁is', '▁a', '▁large', '▁@@', 'ly', '▁Su', 'n', 'n', 'i', '▁Arab', '▁c', 'lan', '▁,', '▁and', '▁some', '▁Su', 'n', 'n', 'i', '▁', 'o', 'b', 's', 'er', 've', '▁@@', 'er', '▁@@', 's', '▁have', '▁a', 'c', 'c', 'us', 'e', '▁@@', 'ed', '▁Shi', 'a', '▁@@', 'ite', '▁e', 'le', 'ment', '▁@@', 's', '▁in', '▁the', '▁govern', '▁@@', 'ment', '▁of', '▁be', '▁@@', 'ing', '▁be', '▁@@', 'hind', '▁the', '▁assassin', '▁@@', 'ate', '▁@@', 'ion', '▁', ';', '▁it', '▁is', '▁more', '▁like', '▁@@', 'ly', '▁the', '▁work', '▁of', '▁Su', 'n', 'n', 'i', '▁Arab', '▁gu', 'er', 'ri', 'll', 'a', '▁@@', 's', '▁p', 'un', 'ish', '▁@@', 'ing', '▁the', '▁Ba', 'ta', 'w', 'i', '▁lead', '▁@@', 'er', '▁@@', 's', '▁for', '▁co', 'op', 'er', 'ate', '▁@@', 'ing', '▁with', '▁the', '▁Dec', '.', '▁15', '▁elect', '▁@@', 'ion', '▁@@', 's', '▁.', '▁)']\n",
      "['▁Al', '▁-', '▁Za', 'man', '▁:', '▁The', '▁Iraq', '▁@@', 'i', '▁High', '▁E', 'l', 'ect', 'or', 'al', '▁Commission', '▁on', '▁Friday', '▁de', 'n', 'y', '▁@@', 'ed', '▁a', '▁request', '▁of', '▁the', '▁De', 'b', 'a', 'a', 'th', 'ification', '▁Commission', '▁to', '▁', 'ex', 'c', 'l', 'ud', 'e', '▁5', '1', '▁individual', '▁@@', 's', '▁', 'from', '▁running', '▁on', '▁part', 'y', '▁list', '▁@@', 's', '▁in', '▁the', '▁Dec', '.', '▁15', '▁elect', '▁@@', 'ion', '▁@@', 's', '▁on', '▁', 'g', 'round', '▁@@', 's', '▁of', '▁have', '▁@@', 'ing', '▁be', '▁@@', 'en', '▁', 's', 'uff', 'ic', 'i', 'ent', '▁@@', 'ly', '▁involve', '▁@@', 'ed', '▁in', '▁Ba', 'a', 'th', '▁act', '▁@@', 'ive', '▁@@', 'ity', '▁@@', 's', '▁to', '▁war', 'ran', 't', '▁their', '▁be', '▁@@', 'ing', '▁', 'ex', 'c', 'l', 'ud', 'e', '▁@@', 'ed', '▁', 'from', '▁civil', '▁office', '▁.']\n",
      "['▁The', '▁Commission', '▁say', '▁@@', 'ed', '▁it', '▁have', '▁@@', 'ed', '▁no', '▁legal', '▁', 'g', 'round', '▁@@', 's', '▁for', '▁', 's', 'uch', '▁an', '▁', 'ex', 'c', 'l', 'ud', 'e', '▁@@', 'ion', '▁.']\n",
      "['▁Thi', 's', '▁item', '▁is', '▁a', '▁small', '▁one', '▁and', '▁', 'ease', '▁@@', 'y', '▁@@', 'ly', '▁mis', 's', '▁@@', 'ed', '▁.']\n",
      "['▁But', '▁in', '▁my', '▁', 'view', '▁it', '▁is', '▁high', '▁@@', 'ly', '▁significant', '▁.']\n",
      "['▁The', '▁De', 'b', 'a', 'a', 'th', 'ification', '▁Commission', '▁have', '▁@@', 'ed', '▁be', '▁@@', 'en', '▁push', '▁@@', 'ed', '▁by', '▁A', 'h', 'ma', 'd', '▁C', 'h', 'al', 'ab', 'i', '▁and', '▁his', '▁Iraq', '▁@@', 'i', '▁Nation', 'al', '▁Con', 'g', 're', 's', 's', '▁', 'very', '▁hard', '▁,', '▁and', '▁have', '▁@@', 'ed', '▁push', '▁@@', 'ed', '▁', 'many', '▁Su', 'n', 'n', 'i', '▁Arab', '▁@@', 's', '▁in', '▁@@', 'to', '▁the', '▁arm', '▁@@', 's', '▁of', '▁the', '▁gu', 'er', 'ri', 'll', 'a', '▁@@', 's', '▁.']\n",
      "['▁C', 'h', 'al', 'ab', 'i', '▁have', '▁@@', 's', '▁be', '▁@@', 'en', '▁increase', '▁@@', 'ing', '▁@@', 'ly', '▁', 'mar', 'g', 'in', '▁@@', 'al', '▁@@', 'ize', '▁@@', 'ed', '▁with', '▁@@', 'in', '▁Iraq', '▁,', '▁how', '▁@@', 'ever', '▁,', '▁de', '▁@@', 's', 'p', 'ite', '▁his', '▁', 't', 'ie', '▁@@', 's', '▁of', '▁client', 'el', 'age', '▁with', '▁', 'Washington', '▁and', '▁T', 'e', 'h', 'ran', '▁.']\n",
      "['▁He', '▁is', '▁no', '▁long', 'er', '▁in', '▁the', '▁do', 'min', 'ate', '▁@@', 'ant', '▁Shi', 'a', '▁@@', 'ite', '▁list', '▁,', '▁the', '▁Un', 'it', 'ed', '▁Iraq', '▁@@', 'i', '▁Al', 'ly', '▁@@', 'ance', '▁,', '▁and', '▁wo', '▁n', \"'\", 't', '▁have', '▁', 'many', '▁sea', 't', '▁@@', 's', '▁in', '▁the', '▁new', '▁p', 'ar', 'l', 'ia', 'ment', '▁.']\n",
      "['▁Some', '▁2', ',000', '▁', 'ju', 'n', 'i', 'or', '▁office', '▁@@', 'er', '▁@@', 's', '▁of', '▁the', '▁old', '▁Ba', 'a', 'th', '▁arm', '▁@@', 'y', '▁have', '▁be', '▁@@', 'en', '▁re', '▁@@', 'c', 'all', '▁@@', 'ed', '▁to', '▁du', 'ty', '▁in', '▁recent', '▁month', '▁@@', 's', '▁,', '▁some', '▁@@', 'thing', '▁C', 'h', 'al', 'ab', 'i', '▁w', 'ould', '▁have', '▁block', '▁@@', 'ed', '▁', 'if', '▁he', '▁c', 'ould', '▁have', '▁.']\n",
      "['▁Now', '▁the', '▁E', 'l', 'ect', 'or', 'al', '▁Commission', '▁is', '▁re', '▁@@', 'fuse', '▁@@', 'ing', '▁to', '▁p', 'un', 'ish', '▁people', '▁for', '▁me', 're', '▁past', '▁Ba', 'a', 'th', '▁P', 'ar', 'ty', '▁member', '▁@@', 'ship', '▁.']\n",
      "['▁I', 'f', '▁some', '▁@@', 'one', '▁commit', '▁@@', 'ed', '▁a', '▁crime', '▁again', '▁@@', 'st', '▁human', '▁@@', 'ity', '▁,', '▁pro', 'se', 'c', 'ute', '▁the', '▁person', '▁.']\n",
      "['▁I', 'f', '▁he', '▁or', '▁she', '▁', 'did', '▁not', '▁,', '▁the', 'n', '▁the', 'y', '▁should', '▁have', '▁all', '▁the', '▁sam', 'e', '▁right', '▁@@', 's', '▁as', '▁other', '▁Iraq', '▁@@', 'i', '▁@@', 's', '▁.']\n",
      "['▁Al', '▁-', '▁Sh', 'ar', 'q', '▁al', '▁-', '▁A', 'w', 's', 'at', '▁re', '▁@@', 'port', '▁@@', 's', '▁tha', 't', '▁a', '▁key', '▁e', 'y', 'e', '▁@@', 'w', 'it', '▁@@', 'ness', '▁in', '▁the', '▁try', '▁@@', 'al', '▁of', '▁Sa', 'd', 'd', 'am', '▁Hu', 's', 'se', 'in', '▁for', '▁a', '▁1', '9', '8', '2', '▁mass', 'ac', 're', '▁at', '▁D', 'ujai', 'l', '▁have', '▁@@', 's', '▁di', 'e', '▁@@', 'ed', '▁.']\n",
      "['▁A', '▁team', '▁', 'from', '▁the', '▁co', 'ur', 't', '▁manage', '▁@@', 'ed', '▁to', '▁take', '▁his', '▁de', 'p', 'o', 'se', '▁@@', 'ition', '▁be', 'fore', '▁he', '▁di', 'e', '▁@@', 'ed', '▁.']\n",
      "['▁The', '▁try', '▁@@', 'al', '▁begin', '▁@@', 's', '▁again', '▁No', 'v', '.', '▁', '28', '▁.']\n",
      "['▁Ba', 'g', 'h', 'd', 'ad', '▁@@', 'i', '▁@@', 's', '▁do', '▁n', \"'\", 't', '▁', 've', 'n', 'ture', '▁m', 'uch', '▁out', '▁of', '▁their', '▁n', 'e', 'ig', 'h', 'b', 'o', 'ur', '▁@@', 'hood', '▁@@', 's', '▁any', '▁more', '▁,', '▁you', '▁n', 'ever', '▁know', '▁where', '▁you', '▁m', 'ight', '▁get', '▁st', 'uck', '▁.']\n",
      "['▁There', '▁have', '▁@@', 's', '▁be', '▁@@', 'en', '▁talk', '▁tha', 't', '▁the', '▁night', '▁c', 'ur', 'f', 'ew', '▁m', 'ight', '▁be', '▁implement', '▁@@', 'ed', '▁again', '▁.']\n",
      "['▁My', '▁n', 'e', 'ig', 'h', 'b', 'o', 'ur', '▁@@', 'hood', '▁have', '▁@@', 's', '▁be', '▁@@', 'en', '▁surround', '▁@@', 'ed', '▁by', '▁America', '▁@@', 'n', '▁', 't', 'ro', 'op', '▁@@', 's', '▁for', '▁thre', 'e', '▁day', '▁@@', 's', '▁now', '▁,', '▁he', 'l', 'ic', 'op', 't', 'er', '▁@@', 's', '▁have', '▁be', '▁@@', 'en', '▁circle', '▁@@', 'ing', '▁over', '▁our', '▁head', '▁@@', 's', '▁no', 'n', '▁@@', 'st', 'op', '▁.']\n",
      "['▁F', 'e', 'day', 'e', 'en', '▁are', '▁now', '▁vi', 's', 'ible', '▁on', '▁the', '▁street', '▁and', '▁the', 'y', '▁have', '▁be', '▁@@', 'come', '▁bo', 'ld', '▁@@', 'er', '▁than', '▁', 'ever', '▁.']\n",
      "['▁The', 'y', '▁are', '▁set', '▁@@', 'ing', '▁the', '▁road', '▁block', '▁@@', 's', '▁at', '▁the', '▁exact', '▁sam', 'e', '▁position', '▁@@', 's', '▁the', 'y', '▁were', '▁dur', 'e', '▁@@', 'ing', '▁the', '▁war', '▁last', '▁year', '▁,', '▁', 'which', '▁indicate', '▁@@', 's', '▁the', 'y', '▁are', '▁the', '▁sam', 'e', '▁people', '▁.']\n",
      "['▁And', '▁there', '▁is', '▁no', '▁@@', 'thing', '▁we', '▁can', '▁do', '▁', 'about', '▁it', '▁real', '▁@@', 'ly', '▁,', '▁people', '▁who', '▁are', '▁suggest', '▁@@', 'ing', '▁tha', 't', '▁we', '▁go', '▁out', '▁and', '▁fight', '▁them', '▁are', '▁live', '▁@@', 'ing', '▁in', '▁', 'd', 're', 'am', '▁', 'land', '▁.']\n",
      "['▁Even', '▁the', '▁I', 'P', '▁and', '▁I', 'C', 'D', 'C', '▁have', '▁a', 'b', 'and', 'on', '▁@@', 'ed', '▁the', '▁n', 'e', 'ig', 'h', 'b', 'o', 'ur', '▁@@', 'hood', '▁,', '▁and', '▁those', '▁are', '▁train', '▁@@', 'ed', '▁and', '▁arm', '▁@@', 'ed', '▁,', '▁so', '▁do', '▁n', \"'\", 't', '▁expect', '▁scare', '▁@@', 'ed', '▁civil', '▁@@', 'ian', '▁@@', 's', '▁to', '▁do', '▁any', '▁@@', 'thing', '▁except', '▁to', '▁h', 'ide', '▁in', '▁@@', 'side', '▁and', '▁p', 'ra', 'y', '▁a', '▁he', 'l', 'ic', 'op', 't', 'er', '▁or', '▁a', '▁tank', '▁do', '▁@@', 's', '▁n', \"'\", 't', '▁bomb', '▁them', '▁,', '▁and', '▁also', '▁how', '▁are', '▁America', '▁@@', 'n', '▁soldier', '▁@@', 's', '▁go', '▁@@', 'ing', '▁to', '▁dis', 't', 'ing', 'u', 'ish', '▁the', '▁bra', 've', '▁and', '▁', 'v', 'al', 'ian', 't', '▁civil', '▁@@', 'ian', '▁@@', 's', '▁', 'from', '▁the', '▁F', 'e', 'day', 'e', 'en', '▁?']\n",
      "['▁Every', '▁@@', 'one', '▁is', '▁a', 'p', 'p', 're', 'h', 'end', '▁@@', 'ive', '▁,', '▁there', '▁is', '▁some', '▁talk', '▁tha', 't', '▁April', '▁', '9', 'th', '▁and', '▁10', 'th', '▁are', '▁go', '▁@@', 'ing', '▁to', '▁be', '▁blood', '▁@@', 'y', '▁day', '▁@@', 's', '▁.']\n",
      "['▁Mo', 'st', '▁people', '▁have', '▁n', \"'\", 't', '▁go', '▁@@', 'ne', '▁to', '▁work', '▁the', '▁last', '▁f', 'ew', '▁day', '▁@@', 's', '▁,', '▁al', 'though', '▁it', '▁seem', '▁@@', 's', '▁tha', 't', '▁the', '▁re', 'st', '▁of', '▁Ba', 'g', 'h', 'd', 'ad', '▁is', \"▁'\", '▁norm', '▁@@', 'al', \"▁'\", '▁(', '▁', 'if', '▁you', '▁can', '▁defin', 'e', '▁what', '▁norm', '▁@@', 'al', '▁is', '▁)', '▁.']\n",
      "['▁There', '▁are', '▁r', 'um', 'o', 'ur', '▁@@', 's', '▁', 'about', '▁prepare', '▁@@', 'ation', '▁@@', 's', '▁by', '▁', 's', 'l', 'um', '▁', 'd', 'well', '▁@@', 'er', '▁@@', 's', '▁for', '▁an', '▁@@', 'other', '▁lo', 'o', 't', '▁@@', 'ing', '▁sp', 're', 'e', '▁again', '▁@@', 'st', '▁bank', '▁@@', 's', '▁,', '▁govern', '▁@@', 'ment', '▁@@', 'al', '▁and', '▁public', '▁proper', '▁@@', 'ty', '▁', 's', 'im', 'il', 'ar', '▁to', '▁the', '▁one', '▁tha', 't', '▁to', 'ok', '▁place', '▁last', '▁April', '▁,', '▁and', '▁I', '▁have', '▁al', '▁@@', 'ready', '▁over', '▁@@', 'he', 'ar', '▁young', '▁@@', 'ster', '▁@@', 's', '▁in', '▁my', '▁n', 'e', 'ig', 'h', 'b', 'o', 'ur', '▁@@', 'hood', '▁', 'j', 'ok', 'e', '▁@@', 'ing', '▁', 'about', '▁it', '▁and', '▁say', '▁@@', 'ing', '▁thing', '▁@@', 's', '▁like', '▁\"', '▁Thi', 's', '▁time', '▁we', '▁will', '▁be', '▁the', '▁fir', 'st', '▁to', '▁lo', 'o', 't', '▁,', '▁we', '▁', 'did', '▁n', \"'\", 't', '▁get', '▁any', '▁@@', 'thing', '▁the', '▁last', '▁time', '▁\"', '▁.']\n",
      "['▁Mo', 's', 'que', '▁@@', 's', '▁are', '▁call', '▁@@', 'ing', '▁for', '▁do', 'n', 'ate', '▁@@', 'ing', '▁blood', '▁,', '▁food', '▁,', '▁and', '▁m', 'ed', 'ical', '▁@@', 'ine', '▁for', '▁F', 'all', 'ujah', '▁,', '▁and', '▁sever', 'al', '▁con', 'v', 'o', 'y', '▁@@', 's', '▁have', '▁al', '▁@@', 'ready', '▁head', '▁@@', 'ed', '▁out', '▁for', '▁F', 'all', 'ujah', '▁,', '▁most', '▁of', '▁them', '▁re', '▁@@', 'turn', '▁@@', 'ed', '▁late', '▁@@', 'er', '▁though', '▁.']\n",
      "['▁So', '▁what', '▁hap', '▁@@', 'en', '▁@@', 'ed', '▁?']\n",
      "['▁I', '▁guess', '▁it', \"▁'\", 's', '▁just', '▁the', '▁old', '▁new', '▁Arab', \"▁'\", '▁Me', '▁again', '▁@@', 'st', '▁my', '▁br', 'other', '▁,', '▁me', '▁and', '▁my', '▁br', 'other', '▁again', '▁@@', 'st', '▁my', '▁c', 'ous', 'in', '▁,', '▁me', '▁and', '▁my', '▁c', 'ous', 'in', '▁again', '▁@@', 'st', '▁my', '▁en', 'e', 'm', 'y', \"▁'\", '▁,', '▁or', \"▁'\", '▁The', '▁en', 'e', 'm', 'y', '▁of', '▁my', '▁en', 'e', 'm', 'y', '▁is', '▁my', '▁friend', \"▁'\", '▁thing', '▁go', '▁@@', 'ing', '▁on', '▁again', '▁.']\n",
      "['▁S', 'pe', 'ak', '▁@@', 'ing', '▁of', '▁F', 'all', 'ujah', '▁,', '▁we', '▁have', '▁one', '▁@@', 'ly', '▁Al', '▁-', '▁J', 'a', 'z', 'e', 'er', 'a', '▁to', '▁re', 'ly', '▁on', '▁for', '▁our', '▁new', '▁@@', 's', '▁', 'from', '▁there', '▁.']\n",
      "['▁The', 'y', '▁have', '▁sent', '▁over', '▁their', '▁to', 'p', '▁re', '▁@@', 'port', '▁@@', 'er', '▁A', 'h', 'm', 'ed', '▁Man', 's', 'o', 'ur', '▁to', '▁the', '▁town', '▁,', '▁and', '▁he', '▁is', '▁sp', 'out', '▁@@', 'ing', '▁all', '▁kind', '▁@@', 's', '▁of', '▁pro', 'p', 'a', 'gan', 'd', 'a', '▁ho', 'ur', '▁@@', 'ly', '▁re', '▁@@', 'min', 'd', '▁@@', 'ing', '▁me', '▁of', '▁Al', '▁-', '▁Sa', 'h', 'ha', 'f', '▁.']\n",
      "['▁Over', '▁3', '00', '▁Iraq', '▁@@', 'i', '▁@@', 's', '▁are', '▁re', '▁@@', 'port', '▁@@', 'ed', '▁dead', '▁and', '▁5', '00', '▁re', '▁@@', 'port', '▁@@', 'ed', '▁w', 'ound', '▁@@', 'ed', '▁in', '▁F', 'all', 'ujah', '▁al', 'one', '▁.']\n",
      "['▁Al', '▁-', '▁Iraq', 'i', 'y', 'ah', '▁', 't', 'v', '▁say', '▁@@', 'ed', '▁tha', 't', '▁I', 'C', 'D', 'C', '▁were', '▁control', '▁@@', 'ing', '▁Ra', 'ma', 'd', 'i', '▁.']\n",
      "['▁E', 'le', 'n', 'a', \"▁'\", 's', '▁mo', 't', 'or', '▁@@', 'c', 'y', 'c', 'le', '▁to', 'ur', '▁through', '▁the', '▁region', '▁a', '▁@@', 'round', '▁Che', 'r', 'no', 'b', 'y', 'l', '▁have', '▁@@', 's', '▁re', 'v', 'ive', '▁@@', 'ed', '▁interest', '▁in', '▁one', '▁of', '▁the', '▁most', '▁serious', '▁nucle', 'us', '▁@@', 'ar', '▁dis', 'ast', 'er', '▁@@', 's', '▁in', '▁histor', 'y', '▁.']\n",
      "['▁We', '▁all', '▁know', '▁what', '▁hap', '▁@@', 'en', '▁@@', 'ed', '▁,', '▁but', '▁even', '▁to', '▁', 'this', '▁day', '▁,', '▁there', '▁are', '▁', 'many', '▁differ', '▁@@', 'ent', '▁version', '▁@@', 's', '▁and', '▁opinion', '▁@@', 's', '▁on', '▁how', '▁it', '▁hap', '▁@@', 'en', '▁@@', 'ed', '▁and', '▁what', '▁effect', '▁Che', 'r', 'no', 'b', 'y', 'l', '▁will', '▁have', '▁on', '▁the', '▁whole', '▁@@', 'th', '▁of', '▁people', '▁affect', '▁@@', 'ed', '▁by', '▁the', '▁fall', '▁@@', 'out', '▁.']\n",
      "['▁U', 'p', '▁@@', 'd', 'ate', '▁:']\n",
      "['▁Now', '▁you', '▁can', '▁to', 'ur', '▁Che', 'r', 'no', 'b', 'y', 'l', '▁and', '▁w', 'r', 'ite', '▁your', '▁own', '▁', 'story', '▁.']\n",
      "['▁Thi', 's', '▁is', '▁not', '▁a', '▁post', '▁', 'about', '▁', 'fault', '▁-', '▁find', '▁@@', 'ing', '▁or', '▁assign', '▁@@', 'ing', '▁b', 'la', 'm', 'e', '▁.']\n",
      "['▁It', '▁is', '▁a', '▁time', '▁to', '▁learn', '▁what', '▁hap', '▁@@', 'en', '▁@@', 'ed', '▁and', '▁how', '▁it', '▁may', '▁affect', '▁the', '▁fu', 'ture', '▁.']\n",
      "['▁Thi', 's', '▁was', '▁he', 'a', 've', '▁@@', 'y', '▁@@', 'ly', '▁pro', 'm', 'o', 't', 'e', '▁@@', 'ed', '▁by', '▁the', '▁A', 'us', 't', 'ra', 'la', 's', 'ia', '▁@@', 'an', '▁Ra', 'd', 'i', 'ate', '▁@@', 'ion', '▁P', 'ro', 't', 'ect', '▁@@', 'ion', '▁So', 'c', 'ie', 'ty', '▁in', '▁a', '▁', 'press', '▁re', '▁@@', 'lease', '▁', 't', 'it', 'le', '▁@@', 'ed', '▁THE', '▁M', 'Y', 'TH', 'S', '▁O', 'F', '▁', 'CH', 'ER', 'N', 'O', 'B', 'Y', 'L', '▁', 'which', '▁con', 'tain', '▁@@', 'ed', '▁the', '▁follow', '▁@@', 'ing', '▁:']\n",
      "['▁', 'CH', 'ER', 'N', 'O', 'B', 'Y', 'L', '▁A', 'C', 'C', 'I', 'D', 'E', 'N', 'T', '▁:', '▁T', 'E', 'N', '▁Ye', 'ar', '▁@@', 's', '▁', 'ON']\n",
      "['▁The', '▁pre', 'st', 'ig', 'e', '▁@@', 'ious', '▁I', 'A', 'E', 'A', '▁(', '▁In', 'ternational', '▁A', 't', 'om', 'ic', '▁E', 'nergy', '▁A', 'g', 'ent', '▁@@', 'c', 'y', '▁)', '▁p', 'ub', 'l', 'ish', '▁@@', 'ed', '▁an', '▁earl', 'y', '▁re', '▁@@', 'port', '▁on', '▁Che', 'r', 'no', 'b', 'y', 'l', '▁', 'which', '▁was', '▁base', '▁@@', 'ed', '▁on', '▁in', '▁@@', 'form', '▁@@', 'ation', '▁', 'from', '▁Russia', '▁@@', 'an', '▁', 'source', '▁@@', 's', '▁and', '▁state', '▁@@', 'ed', '▁tha', 't', '▁there', '▁was', '▁no', '▁significant', '▁whole', '▁@@', 'th', '▁effect', '▁@@', 's', '▁.']\n",
      "['▁He', 're', '▁are', '▁some', '▁', 'ex', 'c', 'er', 'p', 't', '▁@@', 's', '▁:']\n",
      "['▁There', '▁is', '▁a', '▁lot', '▁to', '▁learn', '▁', 'about', '▁Che', 'r', 'no', 'b', 'y', 'l', '▁.']\n",
      "['▁Be', '▁@@', 'ing', '▁', 'well', '▁-', '▁in', '▁@@', 'form', '▁@@', 'ed', '▁will', '▁give', '▁you', '▁certain', '▁@@', 'ty', '▁and', '▁tha', 't', '▁is', '▁de', 's', 'i', 'r', 'able', '▁in', '▁a', '▁world', '▁of', '▁conflict', '▁@@', 'ing', '▁re', '▁@@', 'port', '▁@@', 's', '▁.']\n",
      "['▁There', '▁are', '▁a', '▁we', 'al', '▁@@', 'th', '▁of', '▁refer', '▁@@', 'ence', '▁@@', 's', '▁on', '▁Che', 'r', 'no', 'b', 'y', 'l', '▁.']\n",
      "['▁Re', 'ad', '▁some', '▁of', '▁the', '▁follow', '▁@@', 'ing', '▁link', '▁@@', 's', '▁and', '▁', 'd', 'ra', 'w', '▁your', '▁own', '▁conclude', '▁@@', 'ion', '▁@@', 's', '▁.']\n",
      "['▁I', '▁w', 'ould', '▁be', '▁interest', '▁@@', 'ed', '▁in', '▁hear', '▁@@', 'ing', '▁what', '▁conclude', '▁@@', 'ion', '▁@@', 's', '▁you', '▁r', 'each', '▁@@', 'ed', '▁and', '▁what', '▁you', '▁found', '▁tha', 't', '▁was', '▁most', '▁con', 'v', 'in', 'ce', '▁@@', 'ing', '▁.']\n",
      "['▁', 'ra', 'd', 'i', 'ate', '▁@@', 'ion', '▁:']\n",
      "['▁Re', '▁@@', 'member', '▁the', '▁old', '▁', 'sh', 'o', 'e', '▁', 's', 'ize', '▁@@', 'ing', '▁machine', '▁@@', 's', '▁tha', 't', '▁was', '▁a', '▁form', '▁of', '▁', 'ra', 'd', 'i', 'ate', '▁@@', 'ion', '▁', 'x', 'ra', 'y', '▁?']\n",
      "['▁Th', 'at', '▁too', '▁was', '▁stop', '▁@@', 'ed', '▁.']\n",
      "['▁On', 'e', '▁of', '▁them', '▁is', '▁the', '▁Re', 'st', '▁and', '▁Re', 'c', 'up', 'er', 'ate', '▁@@', 'ion', '▁P', 'ro', 'g', 'ra', 'm', '▁,', '▁where', '▁@@', 'in', '▁a', '▁child', '▁can', '▁come', '▁to', '▁the', '▁US', '▁for', '▁a', '▁f', 'ew', '▁week', '▁@@', 's', '▁in', '▁the', '▁sum', '▁@@', 'er', '▁.']\n",
      "['▁The', '▁', 'ur', 'ge', '▁to', '▁protect', '▁and', '▁ga', 'ther', '▁them', '▁all', '▁in', '▁is', '▁al', '▁@@', 'most', '▁over', '▁@@', 'w', 'h', 'el', 'm', '▁@@', 'ing', '▁,', '▁and', '▁make', '▁@@', 's', '▁me', '▁more', '▁gr', 'ate', '▁@@', 'ful', '▁for', '▁the', '▁b', 'less', '▁@@', 'ing', '▁@@', 's', '▁I', '▁have', '▁.']\n",
      "['▁T', 'ake', '▁care', '▁,', '▁my', '▁friend', '▁,', '▁Li', 'nda']\n",
      "['▁I', \"▁'\", 'm', '▁so', 're', '▁@@', 'y', '▁to', '▁say', '▁E', 'le', 'n', 'a', \"▁'\", 's', '▁', 'story', '▁have', '▁@@', 's', '▁be', '▁@@', 'en', '▁re', 've', 'al', '▁@@', 'ed', '▁to', '▁be', '▁a', '▁f', 'ake', '▁.']\n",
      "['▁What', '▁do', '▁the', '▁new', '▁al', '▁-', '▁Qa', 'ed', 'a', '▁video', '▁@@', 'ta', 'pe', '▁and', '▁audi', 'o', '▁sp', 'e', 'e', 'ch', '▁@@', 's', '▁of', '▁B', 'in', '▁Laden', '▁and', '▁A', 'y', 'man', '▁al', '▁-', '▁Za', 'wa', 'hiri', '▁tell', '▁us', '▁', 'about', '▁the', '▁hope', '▁@@', 's', '▁of', '▁the', '▁remain', '▁@@', 'ing', '▁to', 'p', '▁lead', '▁@@', 'er', '▁@@', 'ship', '▁of', '▁the', '▁organize', '▁@@', 'ation', '▁?']\n",
      "['▁Mus', 'har', 'ra', 'f', '▁have', '▁@@', 's', '▁be', '▁@@', 'en', '▁try', '▁@@', 'ing', '▁to', '▁p', 'ur', 'ge', '▁his', '▁office', '▁@@', 'er', '▁c', 'or', 'p', '▁@@', 's', '▁of', '▁the', '▁sub', 'st', 'ance', '▁@@', 'ial', '▁numb', '▁@@', 'er', '▁of', '▁al', '▁-', '▁Qa', 'ed', 'a', '▁sympath', 'y', '▁@@', 'ize', '▁@@', 'er', '▁@@', 's', '▁.']\n",
      "['▁Hi', 's', '▁militar', 'y', '▁intelligen', 't', '▁@@', 'ence', '▁have', '▁@@', 's', '▁cap', 'ture', '▁@@', 'ed', '▁major', '▁figure', '▁@@', 's', '▁like', '▁A', 'b', 'u', '▁', 'Z', 'ub', 'a', 'y', 'd', 'a', '▁and', '▁K', 'h', 'al', 'id', '▁Sha', 'y', 'k', 'h', '▁M', 'u', 'ha', 'm', 'ma', 'd', '▁,', '▁as', '▁', 'well', '▁as', '▁near', '▁@@', 'ly', '▁5', '00', '▁other', '▁al', '▁-', '▁Qa', 'ed', 'a', '▁opera', '▁@@', 'ate', '▁@@', 'ive', '▁@@', 's', '▁,', '▁over', '▁4', '00', '▁of', '▁who', 'm', '▁the', '▁Pakistan', '▁@@', 'i', '▁@@', 's', '▁have', '▁turn', '▁@@', 'ed', '▁over', '▁to', '▁the', '▁US', '▁.']\n",
      "['▁Mus', 'har', 'ra', 'f', '▁he', 'ld', '▁elect', '▁@@', 'ion', '▁@@', 's', '▁in', '▁Oct', 'o', 'ber', '▁of', '▁200', '2', '▁,', '▁in', '▁', 'which', '▁', 'cent', 'er', '▁-', '▁right', '▁part', 'y', '▁@@', 's', '▁', 'did', '▁', 'well', '▁,', '▁but', '▁in', '▁', 'which', '▁near', '▁@@', 'ly', '▁20', '▁per', 'cent', '▁of', '▁p', 'ar', 'l', 'ia', 'ment', '▁sea', 't', '▁@@', 's', '▁', 'went', '▁to', '▁the', '▁fundament', '▁@@', 'al', '▁@@', 'ist', '▁religious', '▁part', 'y', '▁co', 'al', 'ition', '▁,', '▁M', 'M', 'A', '▁.']\n",
      "['▁M', 'M', 'A', '▁also', '▁cap', 'ture', '▁@@', 'ed', '▁the', '▁North', '▁@@', 'w', 'est', '▁Fro', 'n', 't', 'i', 'er', '▁P', 'ro', 'v', 'in', 'ce', '▁,', '▁', 'which', '▁probabl', 'e', '▁@@', 'ly', '▁she', 'l', 't', 'er', '▁@@', 's', '▁B', 'in', '▁Laden', '▁and', '▁al', '▁-', '▁Za', 'wa', 'hiri', '▁,', '▁and', '▁is', '▁in', '▁a', '▁join', '▁@@', 't', '▁govern', '▁@@', 'ment', '▁of', '▁B', 'al', 'uch', 'istan', '▁P', 'ro', 'v', 'in', 'ce', '▁,', '▁also', '▁on', '▁the', '▁Afghan', '▁@@', 'st', 'an', '▁border', '▁.']\n",
      "['▁I', 'f', '▁al', '▁-', '▁Qa', 'ed', 'a', '▁can', '▁kill', '▁Mus', 'har', 'ra', 'f', '▁or', '▁in', 'st', 'ig', 'ate', '▁a', '▁militar', 'y', '▁co', 'up', '▁again', '▁@@', 'st', '▁him', '▁by', '▁Islam', '▁@@', 'ist', '▁', 'ju', 'n', 'i', 'or', '▁office', '▁@@', 'er', '▁@@', 's', '▁,', '▁the', 'y', '▁can', '▁hope', '▁to', '▁cat', 'ap', 'ul', 't', '▁the', '▁M', 'M', 'A', '▁to', '▁power', '▁as', '▁politic', '▁@@', 'al', '▁all', 'y', '▁@@', 's', '▁and', '▁ho', 'st', '▁@@', 's', '▁.']\n",
      "['▁The', 'y', '▁w', 'ould', '▁there', '▁@@', 'b', 'y', '▁ga', 'in', '▁control', '▁of', '▁a', '▁major', '▁base', '▁for', '▁terror', '▁@@', 'ist', '▁opera', '▁@@', 'ate', '▁@@', 'ion', '▁@@', 's', '▁,', '▁', 'which', '▁is', '▁also', '▁a', '▁nucle', 'us', '▁@@', 'ar', '▁power', '▁.']\n",
      "['▁All', '▁', 'this', '▁is', '▁high', '▁@@', 'ly', '▁un', '▁@@', 'l', 'ike', '▁@@', 'ly', '▁,', '▁as', '▁with', '▁most', '▁al', '▁-', '▁Qa', 'ed', 'a', '▁c', 'ra', 'ck', '▁@@', 'p', 'o', 't', '▁', 's', 'ch', 'e', 'm', 'e', '▁@@', 's', '▁.']\n",
      "['▁But', '▁so', '▁was', '▁it', '▁un', '▁@@', 'l', 'ike', '▁@@', 'ly', '▁tha', 't', '▁a', '▁small', '▁group', '▁of', '▁Arab', '▁m', 'ujah', 'id', 'in', '▁w', 'ould', '▁vi', 'r', 't', 'ual', '▁@@', 'ly', '▁take', '▁over', '▁Afghan', '▁@@', 'st', 'an', '▁.']\n",
      "['▁Re', 's', 'p', 'on', 'se', '▁:', '▁The', '▁US', '▁must', '▁do', '▁what', '▁@@', 'ever', '▁it', '▁can', '▁to', '▁strong', '▁@@', 'th', '▁@@', 'en', '▁the', '▁leg', 'it', 'im', 'ate', '▁@@', 'c', 'y', '▁of', '▁the', '▁Pakistan', '▁@@', 'i', '▁govern', '▁@@', 'ment', '▁.']\n",
      "['▁On', '▁the', '▁one', '▁hand', '▁,', '▁it', '▁should', '▁pressure', '▁Mus', 'har', 'ra', 'f', '▁to', '▁take', '▁off', '▁his', '▁un', 'i', 'form', '▁and', '▁run', '▁for', '▁president', '▁in', '▁a', '▁fair', '▁elect', '▁@@', 'ion', '▁,', '▁and', '▁to', '▁rep', 'e', 'al', '▁the', '▁con', 'tention', '▁@@', 'ous', '▁\"', '▁Le', 'g', 'al', '▁F', 'ra', 'm', 'e', '▁@@', 'work', '▁O', 'r', 'd', 'er', '▁\"', '▁tha', 't', '▁', 'es', 's', 'ent', 'ial', '▁@@', 'ly', '▁per', 'pe', 't', 'ual', '▁@@', 'ate', '▁@@', 's', '▁his', '▁di', 'c', 't', 'ate', '▁@@', 'or', '▁@@', 'ship', '▁.']\n",
      "['▁On', '▁the', '▁other', '▁hand', '▁,', '▁the', '▁US', '▁should', '▁strong', '▁-', '▁arm', '▁India', '▁and', '▁Pakistan', '▁in', '▁@@', 'to', '▁a', '▁final', '▁settle', '▁@@', 'ment', '▁of', '▁the', '▁Ka', 'sh', 'mir', '▁issue', '▁.']\n",
      "['▁The', '▁Ka', 'sh', 'mir', '▁issue', '▁generat', 'e', '▁@@', 's', '▁far', '▁more', '▁terror', '▁@@', 'ism', '▁,', '▁and', '▁even', '▁the', '▁threat', '▁of', '▁nucle', 'us', '▁@@', 'ar', '▁war', '▁,', '▁than', '▁Iraq', '▁', 'ever', '▁', 'did', '▁.']\n",
      "['▁Re', 's', 'p', 'on', 'se', '▁:', '▁The', '▁US', '▁have', '▁@@', 's', '▁su', 'c', 'ce', 'ed', '▁@@', 'ed', '▁in', '▁politic', '▁@@', 'al', '▁@@', 'ly', '▁is', 'ol', 'ate', '▁@@', 'ing', '▁Ha', 'ma', 's', '▁,', '▁and', '▁start', '▁@@', 'ed', '▁the', '▁process', '▁of', '▁cut', '▁@@', 'ing', '▁off', '▁it', '▁@@', 's', '▁fund', '▁@@', 'ing', '▁.']\n",
      "['▁Thi', 's', '▁terror', '▁@@', 'ist', '▁organize', '▁@@', 'ation', '▁can', '▁now', '▁one', '▁@@', 'ly', '▁pull', '▁off', '▁far', '▁less', '▁so', 'ph', 'ist', 'ic', 'ate', '▁@@', 'ed', '▁bomb', '▁@@', 'ing', '▁@@', 's', '▁and', '▁attack', '▁@@', 's', '▁.']\n",
      "['▁It', '▁should', '▁continue', '▁to', '▁be', '▁de', 'f', 'an', 'g', 'ed', '▁.']\n",
      "['▁But', '▁Sha', 'ron', \"▁'\", 's', '▁i', 'ron', '▁f', 'ist', '▁is', '▁simpl', 'e', '▁@@', 'ly', '▁not', '▁work', '▁@@', 'ing', '▁as', '▁a', '▁mean', '▁@@', 's', '▁of', '▁establish', '▁@@', 'ing', '▁general', '▁peace', '▁,', '▁and', '▁the', '▁Bush', '▁administrat', 'e', '▁@@', 'ion', '▁will', '▁have', '▁to', '▁final', '▁@@', 'ly', '▁apply', '▁effect', '▁@@', 'ive', '▁pressure', '▁on', '▁Sha', 'ron', '▁to', '▁stop', '▁his', '▁out', '▁@@', 'r', 'age', '▁@@', 's', '▁in', '▁and', '▁co', 'l', 'on', 'y', '▁@@', 'ize', '▁@@', 'ation', '▁of', '▁the', '▁West', '▁B', 'an', 'k', '▁and', '▁Ga', 'z', 'a', '▁.']\n",
      "['▁3', '▁)', '▁M', 'ake', '▁Iraq', '▁an', '▁@@', 'other', '▁Afghan', '▁@@', 'st', 'an', '▁,', '▁use', '▁@@', 'ing', '▁the', '▁Re', 'p', 'ub', 'l', 'ic', 'an', '▁R', 'ight', \"▁'\", 's', '▁own', '▁', 't', 'act', 'ic', '▁@@', 's', '▁again', '▁@@', 'st', '▁them', '▁.']\n",
      "['▁Re', 's', 'p', 'on', 'se', '▁:', '▁Iraq', '▁is', '▁act', '▁@@', 'ual', '▁@@', 'ly', '▁ho', 's', 'til', 'e', '▁territor', 'y', '▁for', '▁al', '▁-', '▁Qa', 'ed', 'a', '▁,', '▁and', '▁with', '▁@@', 'out', '▁Iraq', '▁@@', 'i', '▁sympath', 'y', '▁@@', 'ize', '▁@@', 'er', '▁@@', 's', '▁it', '▁can', '▁not', '▁su', 'c', 'ce', 'ed', '▁there', '▁.']\n",
      "['▁C', 'er', 'tain', '▁@@', 'ly', '▁,', '▁the', '▁Shi', 'a', '▁@@', 'ite', '▁@@', 's', '▁al', '▁@@', 'ready', '▁h', 'ate', '▁al', '▁-', '▁Qa', 'ed', 'a', '▁and', '▁w', 'ould', '▁help', '▁', ';', '▁like', '▁@@', 'wis', 'e', '▁the', '▁K', 'ur', 'd', '▁@@', 's', '▁.']\n",
      "['▁The', '▁America', '▁@@', 'n', '▁@@', 's', '▁have', '▁to', '▁put', '▁away', '▁their', '▁free', '▁-', '▁market', '▁f', 'et', 'ish', '▁@@', 'ism', '▁for', '▁a', '▁whil', 'e', '▁and', '▁find', '▁way', '▁@@', 's', '▁of', '▁create', '▁@@', 'ing', '▁job', '▁@@', 's', '▁and', '▁p', 'um', 'p', '▁@@', 'ing', '▁m', 'oney', '▁in', '▁@@', 'to', '▁Iraq', '▁@@', 'i', '▁house', 'h', 'ol', 'd', '▁@@', 's', '▁.']\n",
      "['▁We', '▁need', '▁an', '▁F', 'D', 'R', '▁in', '▁Iraq', '▁,', '▁not', '▁a', '▁Ro', 'n', 'al', 'd', '▁Re', 'a', 'gan', '▁.']\n",
      "['▁G', 'et', '▁@@', 'ing', '▁the', '▁Spa', 'in', '▁@@', 'ish', '▁out', '▁of', '▁Iraq', '▁is', '▁n', \"'\", 't', '▁near', '▁@@', 'ly', '▁as', '▁good', '▁a', '▁r', 'al', 'ly', '▁@@', 'ing', '▁c', 'ry', '▁for', '▁al', '▁-', '▁Qa', 'ed', 'a', '▁in', '▁the', '▁Arab', '▁world', '▁as', '▁get', '▁@@', 'ing', '▁the', '▁America', '▁@@', 'n', '▁@@', 's', '▁and', '▁B', 'ri', 'tain', '▁@@', 'ish', '▁out', '▁.']\n",
      "['▁Georg', 'e', '▁W', '.', '▁Bush', '▁all', 'e', 'ge', '▁@@', 'ed', '▁Thur', 's', 'day', '▁tha', 't', '▁John', '▁E', 'd', 'ward', '▁@@', 's', '▁lack', '▁@@', 's', '▁the', '▁experience', '▁necessar', 'y', '▁to', '▁be', '▁president', '▁.']\n",
      "['▁The', '▁problem', '▁with', '▁', 'this', '▁argue', '▁@@', 'ment', '▁is', '▁tha', 't', '▁Bush', '▁lack', '▁@@', 'ed', '▁the', '▁experience', '▁necessar', 'y', '▁to', '▁be', '▁president', '▁when', '▁he', '▁', 'ran', '▁in', '▁', '2000', '▁,', '▁so', '▁', 'this', '▁sort', '▁of', '▁cheap', '▁shot', '▁just', '▁ho', 'ist', '▁@@', 's', '▁him', '▁by', '▁his', '▁own', '▁pet', 'ard', '▁.']\n"
     ]
    }
   ],
   "source": [
    "import sentencepiece as spm\n",
    "import pandas as pd\n",
    "train_df = pd.read_csv(r\"data\\eng.sentence.train.tsv\", sep=\"\\t\", header=None)\n",
    "training_txt = train_df[0].values.tolist()  + train_df[1].values.tolist()\n",
    "training_txt = [str(sent) for sent in training_txt]\n",
    "with open('data\\\\training_ulm.txt', 'w', encoding='utf-8') as file:\n",
    "  file.writelines(f\"{line}\\n\" for line in training_txt)\n",
    "spm.SentencePieceTrainer.train('--input=data\\\\training_ulm.txt --model_prefix=models\\m_ulm --vocab_size=1800 --model_type=unigram')\n",
    "sp_ulm = spm.SentencePieceProcessor()\n",
    "sp_ulm.load('models\\m_ulm.model')\n",
    "\n",
    "test_df = pd.read_csv(r\"data\\eng.sentence.train.tsv\", sep=\"\\t\", header=None)\n",
    "encoded = []\n",
    "test_list = test_df[1].values.tolist()\n",
    "i = 0\n",
    "for sentence in test_list:\n",
    "  enc = sp_ulm.encode_as_pieces(sentence)\n",
    "  encoded.append(enc)\n",
    "  print(enc)\n",
    "  i += 1\n",
    "  if i > 100:\n",
    "    break"
   ]
  },
  {
   "cell_type": "code",
   "execution_count": 3,
   "metadata": {
    "colab": {
     "base_uri": "https://localhost:8080/"
    },
    "id": "U0Im_A8RJ7xq",
    "outputId": "216ec589-703b-4607-b17a-7f63ba450d9b"
   },
   "outputs": [
    {
     "data": {
      "text/plain": [
       "['▁He', \"'\", 's', '▁kill', 'ed', '▁a', '▁man', '▁gr', 'u', 'e', 'some', 'ly']"
      ]
     },
     "execution_count": 3,
     "metadata": {},
     "output_type": "execute_result"
    }
   ],
   "source": [
    "sp_ulm.encode_as_pieces(\"He's killed a man gruesomely\")"
   ]
  }
 ],
 "metadata": {
  "colab": {
   "provenance": []
  },
  "kernelspec": {
   "display_name": "Python 3",
   "name": "python3"
  },
  "language_info": {
   "codemirror_mode": {
    "name": "ipython",
    "version": 3
   },
   "file_extension": ".py",
   "mimetype": "text/x-python",
   "name": "python",
   "nbconvert_exporter": "python",
   "pygments_lexer": "ipython3",
   "version": "3.11.9"
  }
 },
 "nbformat": 4,
 "nbformat_minor": 0
}
