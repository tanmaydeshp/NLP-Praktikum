{
 "cells": [
  {
   "cell_type": "code",
   "execution_count": 2,
   "metadata": {
    "colab": {
     "base_uri": "https://localhost:8080/"
    },
    "id": "o1S4uN6BNdQw",
    "outputId": "9b61633e-ce49-4305-b9c4-46eb46614db2"
   },
   "outputs": [
    {
     "name": "stdout",
     "output_type": "stream",
     "text": [
      "Requirement already satisfied: sentencepiece in c:\\users\\tanma\\appdata\\local\\packages\\pythonsoftwarefoundation.python.3.11_qbz5n2kfra8p0\\localcache\\local-packages\\python311\\site-packages (0.2.0)\n",
      "Requirement already satisfied: pandas in c:\\users\\tanma\\appdata\\local\\packages\\pythonsoftwarefoundation.python.3.11_qbz5n2kfra8p0\\localcache\\local-packages\\python311\\site-packages (2.1.4)\n",
      "Requirement already satisfied: numpy<2,>=1.23.2 in c:\\users\\tanma\\appdata\\local\\packages\\pythonsoftwarefoundation.python.3.11_qbz5n2kfra8p0\\localcache\\local-packages\\python311\\site-packages (from pandas) (1.26.3)\n",
      "Requirement already satisfied: python-dateutil>=2.8.2 in c:\\users\\tanma\\appdata\\local\\packages\\pythonsoftwarefoundation.python.3.11_qbz5n2kfra8p0\\localcache\\local-packages\\python311\\site-packages (from pandas) (2.8.2)\n",
      "Requirement already satisfied: pytz>=2020.1 in c:\\users\\tanma\\appdata\\local\\packages\\pythonsoftwarefoundation.python.3.11_qbz5n2kfra8p0\\localcache\\local-packages\\python311\\site-packages (from pandas) (2023.3.post1)\n",
      "Requirement already satisfied: tzdata>=2022.1 in c:\\users\\tanma\\appdata\\local\\packages\\pythonsoftwarefoundation.python.3.11_qbz5n2kfra8p0\\localcache\\local-packages\\python311\\site-packages (from pandas) (2023.4)\n",
      "Requirement already satisfied: six>=1.5 in c:\\users\\tanma\\appdata\\local\\packages\\pythonsoftwarefoundation.python.3.11_qbz5n2kfra8p0\\localcache\\local-packages\\python311\\site-packages (from python-dateutil>=2.8.2->pandas) (1.16.0)\n",
      "Note: you may need to restart the kernel to use updated packages.\n"
     ]
    },
    {
     "name": "stderr",
     "output_type": "stream",
     "text": [
      "\n",
      "[notice] A new release of pip is available: 24.0 -> 24.3.1\n",
      "[notice] To update, run: C:\\Users\\tanma\\AppData\\Local\\Microsoft\\WindowsApps\\PythonSoftwareFoundation.Python.3.11_qbz5n2kfra8p0\\python.exe -m pip install --upgrade pip\n"
     ]
    }
   ],
   "source": [
    "%pip install sentencepiece pandas"
   ]
  },
  {
   "cell_type": "code",
   "execution_count": 3,
   "metadata": {
    "colab": {
     "base_uri": "https://localhost:8080/"
    },
    "id": "s0kdeC3RNjbQ",
    "outputId": "4e71b390-aa63-44b5-d44c-38d2d4d823d4"
   },
   "outputs": [
    {
     "name": "stdout",
     "output_type": "stream",
     "text": [
      "['▁What', '▁', 'if', '▁Go', 'o', 'g', 'le', '▁M', 'or', 'ph', 'ed', '▁In', 'to', '▁Go', 'o', 'g', 'le', 'O', 'S', '▁?']\n",
      "['▁What', '▁', 'if', '▁Go', 'o', 'g', 'le', '▁', 'exp', 'and', 'ed', '▁on', '▁it', 's', '▁', 'search', '▁-', '▁engine', '▁(', '▁and', '▁now', '▁e', '-', 'mail', '▁)', '▁', 'ware', 's', '▁into', '▁a', '▁full', '▁-', '▁fl', 'ed', 'g', 'ed', '▁opera', 't', 'ing', '▁system', '▁?']\n",
      "['▁', '[', '▁vi', 'a', '▁M', 'ic', 'ro', 's', 'o', 'f', 't', '▁W', 'at', 'ch', '▁', 'from', '▁Mar', 'y', '▁J', 'o', '▁F', 'ol', 'e', 'y', '▁', ']']\n",
      "['▁(', '▁And', '▁,', '▁by', '▁the', '▁way', '▁,', '▁is', '▁any', 'body', '▁else', '▁just', '▁a', '▁litt', 'le', '▁no', 'st', 'al', 'g', 'ic', '▁for', '▁the', '▁day', 's', '▁when', '▁tha', 't', '▁was', '▁a', '▁good', '▁thing', '▁?', '▁)']\n",
      "['▁Thi', 's', '▁B', 'u', 'z', 'z', 'M', 'a', 'ch', 'ine', '▁post', '▁argue', 's', '▁tha', 't', '▁Go', 'o', 'g', 'le', \"▁'\", 's', '▁', 'ru', 'sh', '▁to', 'ward', '▁', 'ub', 'i', 'q', 'u', 'ity', '▁m', 'ight', '▁back', 'f', 'i', 're', '▁--', '▁', 'which', '▁we', \"▁'\", 've', '▁all', '▁hear', 'd', '▁be', 'fore', '▁,', '▁but', '▁it', \"▁'\", 's', '▁particular', 'ly', '▁', 'well', '▁-', '▁put', '▁in', '▁', 'this', '▁post', '▁.']\n",
      "['▁Go', 'o', 'g', 'le', '▁is', '▁a', '▁nice', '▁', 'search', '▁engine', '▁.']\n",
      "['▁Do', 'es', '▁any', 'body', '▁use', '▁it', '▁for', '▁any', 'thing', '▁else', '▁?']\n",
      "['▁The', 'y', '▁own', '▁', 'blog', 'g', 'er', '▁,', '▁of', '▁course', '▁.']\n",
      "['▁I', 's', '▁tha', 't', '▁a', '▁m', 'oney', '▁make', 'r', '▁?']\n",
      "['▁I', \"▁'\", 'm', '▁stay', 'ing', '▁away', '▁', 'from', '▁the', '▁stock', '▁.']\n",
      "['▁I', '▁do', 'ub', 't', '▁the', '▁', 'very', '▁f', 'ew', '▁who', '▁actual', 'ly', '▁read', '▁my', '▁', 'blog', '▁have', '▁not', '▁come', '▁a', 'cross', '▁', 'this', '▁yet', '▁,', '▁but', '▁I', '▁figure', 'd', '▁I', '▁w', 'ould', '▁put', '▁it', '▁out', '▁there', '▁any', 'way', 's', '▁.']\n",
      "['▁John', '▁Do', 'no', 'van', '▁', 'from', '▁Ar', 'g', 'g', 'h', 'h', 'h', '!', '▁has', '▁put', '▁out', '▁a', '▁excellent', '▁', 's', 'l', 'ide', '▁show', '▁on', '▁what', '▁was', '▁actual', 'ly', '▁found', '▁and', '▁f', 'ough', 't', '▁for', '▁in', '▁F', 'all', 'ujah', '▁.']\n",
      "['▁C', 'lick', '▁here', '▁To', '▁', 'view', '▁it', '▁.']\n",
      "['▁On', 'e', '▁of', '▁the', '▁picture', 's', '▁show', 's', '▁a', '▁f', 'la', 'g', '▁tha', 't', '▁was', '▁found', '▁in', '▁F', 'all', 'ujah', '▁.']\n",
      "['▁Co', 'mp', 'ar', 'e', '▁the', '▁f', 'la', 'g', 's', '▁to', '▁the', '▁F', 'all', 'ujah', '▁one', '▁.']\n",
      "['▁You', '▁have', '▁to', '▁see', '▁the', 'se', '▁', 's', 'l', 'ide', 's', '▁....', '▁the', 'y', '▁are', '▁amazing', '▁.']\n",
      "['▁Thi', 's', '▁F', 'all', 'ujah', '▁opera', 't', 'ion', '▁my', '▁turn', '▁out', '▁to', '▁be', '▁the', '▁most', '▁important', '▁opera', 't', 'ion', '▁do', 'ne', '▁by', '▁the', '▁US', '▁M', 'il', 'it', 'ary', '▁since', '▁the', '▁end', '▁of', '▁the', '▁war', '▁.']\n",
      "['▁Let', '▁me', '▁join', '▁the', '▁', 'ch', 'or', 'us', '▁of', '▁an', 'no', 'y', 'ance', '▁over', '▁Go', 'o', 'g', 'le', \"▁'\", 's', '▁new', '▁to', 'ol', 'b', 'ar', '▁,', '▁', 'which', '▁,', '▁as', '▁not', 'ed', '▁in', '▁the', '▁link', 'ed', '▁article', '▁,', '▁commit', 's', '▁just', '▁', 'about', '▁every', '▁', 's', 'in', '▁an', '▁on', 'line', '▁market', 'er', '▁c', 'ould', '▁commit', '▁,', '▁and', '▁make', 's', '▁up', '▁a', '▁f', 'ew', '▁new', '▁one', 's', '▁be', 'side', 's', '▁.']\n",
      "['▁I', \"▁'\", 'm', '▁not', '▁f', 'on', 'd', '▁of', '▁the', '▁Go', 'o', 'g', 'le', '▁-', '▁h', 'ate', 's', '▁-', '▁p', 'ri', 'v', 'ac', 'y', '▁', 'ar', 'g', 'u', 'ment']\n",
      "['▁(', '▁You', '▁do', '▁n', \"'\", 't', '▁need', '▁to', '▁use', '▁their', '▁site', '▁,', '▁you', '▁can', '▁opt', '▁-', '▁out', '▁of', '▁', 's', 'har', 'ing', '▁your', '▁information', '▁,', '▁you', '▁do', '▁n', \"'\", 't', '▁need', '▁to', '▁send', '▁stuff', '▁to', '▁any', 'one', '▁with', '▁a', '▁G', 'mail', '▁account', '▁,', '▁and', '▁', 'if', '▁--', '▁wonder', '▁of', '▁wonder', 's', '▁--', '▁you', \"▁'\", 're', '▁w', 'or', 'ri', 'ed', '▁tha', 't', '▁you', '▁m', 'ight', '▁send', '▁some', 'thing', '▁to', '▁some', 'one', '▁who', '▁w', 'ould', '▁for', 'ward', '▁an', '▁', 'ex', 'c', 'er', 'p', 't', '▁to', '▁some', 'one', '▁who', '▁w', 'ould', '▁the', 'n', '▁store', '▁it', '▁on', '▁a', '▁G', 'mail', '▁account', '▁...', '▁you', '▁have', '▁far', '▁,', '▁far', '▁too', '▁m', 'uch', '▁time', '▁on', '▁your', '▁hand', 's', '▁)', '▁.']\n",
      "['▁How', 'ever', '▁,', '▁', 'this', '▁to', 'ol', 'b', 'ar', '▁is', '▁real', 'ly', '▁bad', '▁new', 's', '▁.']\n",
      "['▁On', '▁the', '▁other', '▁hand', '▁,', '▁it', '▁look', 's', '▁pret', 'ty', '▁co', 'ol', '▁.']\n",
      "['▁Iran', '▁say', 's', '▁it', '▁is', '▁c', 're', 'at', 'ing', '▁nucle', 'ar', '▁', 'energy', '▁with', 'out', '▁want', 'ing', '▁nucle', 'ar', '▁weapon', 's', '▁.']\n",
      "['▁On', 'e', '▁can', '▁suspect', '▁the', '▁Iran', 'ian', '▁Govern', 'ment', '▁.']\n",
      "['▁But', '▁there', '▁is', '▁no', '▁pro', 'o', 'f', '▁.']\n",
      "['▁I', '▁read', '▁an', '▁Ar', 'tic', 'le', '▁in', '▁Time', '▁', 'ma', 'g', 'a', 'z', 'ine', '▁a', 'c', 'c', 'us', 'ing', '▁the', '▁Iran', 'ian', '▁Govern', 'ment', '▁of', '▁be', 'ing', '▁will', 'ing', '▁to', '▁start', '▁a', '▁nucle', 'ar', '▁war', '▁and', '▁I', '▁sympath', 'ise', '▁with', '▁the', '▁Ar', 'tic', 'le', '▁.']\n",
      "['▁The', '▁President', '▁has', '▁also', '▁sai', 'd', '▁he', '▁w', 'ould', '▁like', '▁to', '▁see', '▁Israel', '▁w', 'i', 'p', 'ed', '▁off', '▁the', '▁m', 'ap', '▁', 'which', '▁he', '▁c', 'ould', '▁n', \"'\", 't', '▁even', '▁begin', '▁to', '▁try', '▁with', 'out', '▁nucle', 'ar', '▁weapon', 's', '▁.']\n",
      "['▁But', '▁he', '▁has', '▁in', 's', 'ist', 'ed', '▁tha', 't', '▁he', '▁want', 's', '▁nucle', 'ar', '▁power', '▁for', '▁peace', 'ful', '▁purpose', 's', '▁.']\n",
      "['▁Man', 'y', '▁people', '▁want', '▁to', '▁use', '▁di', 'p', 'lo', 'ma', 'c', 'y', '▁with', '▁Iran', '▁rathe', 'r', '▁than', '▁militar', 'y', '▁pressure', '▁.']\n",
      "['▁But', '▁will', '▁di', 'p', 'lo', 'ma', 'c', 'y', '▁work', '▁?']\n",
      "['▁And', '▁can', '▁any', 'one', '▁use', '▁militar', 'y', '▁pressure', '▁with', 'out', '▁pro', 'o', 'f', '▁?']\n",
      "['▁On', 'e', '▁read', 'er', '▁point', 'ed', '▁out', '▁tha', 't', '▁the', '▁President', '▁watch', 'ed', '▁the', '▁American', 's', '▁in', '▁the', '▁e', 'mb', 'as', 's', 'y', '▁when', '▁the', 'y', '▁to', 'ok', '▁them', '▁ho', 'st', 'age', '▁.']\n",
      "['▁He', '▁has', '▁de', 'n', 'i', 'ed', '▁', 'this', '▁.']\n",
      "['▁We', '▁do', '▁n', \"'\", 't', '▁have', '▁to', '▁believe', '▁him', '▁.']\n",
      "['▁But', '▁we', '▁ca', '▁n', \"'\", 't', '▁pro', 've', '▁it', '▁.']\n",
      "['▁It', '▁doe', 's', '▁seem', '▁tha', 't', '▁Iran', 'ian', 's', '▁f', 're', 'que', 'n', 't', 'ly', '▁make', '▁state', 'ment', 's', '▁and', '▁the', 'n', '▁h', 'ide', '▁be', 'hind', '▁lack', '▁of', '▁pro', 'o', 'f', '▁.']\n",
      "['▁An', 'g', 'ry', '▁c', 'row', 'd', 's', '▁', 'ch', 'ant', 'ed', '▁an', 't', 'i', '-', 'A', 'm', 'er', 'ic', 'an', '▁', 's', 'lo', 'gan', 's', '▁in', '▁the', '▁we', 'ster', 'n', '▁c', 'ity', '▁of', '▁F', 'all', 'u', 'j', 'a', '▁(', '▁po', 'p', '.', '▁25', '6', ',000', '▁)', '▁as', '▁the', '▁security', '▁polic', 'e', '▁kill', 'ed', '▁in', '▁a', '▁friend', 'ly', '▁fir', 'e', '▁in', 'c', 'id', 'ent', '▁by', '▁US', '▁', 't', 'ro', 'op', 's', '▁were', '▁', 'bur', 'i', 'ed', '▁on', '▁Sa', 't', 'ur', 'day', '▁.']\n",
      "['▁It', '▁read', '▁,', '▁\"', '▁The', '▁people', '▁of', '▁F', 'all', 'ujah', '▁con', 'de', 'm', 'n', '▁the', '▁mass', 'ac', 're', '▁', 'which', '▁was', '▁commit', 't', 'ed', '▁on', '▁Friday', '▁again', 'st', '▁people', '▁de', 'd', 'ic', 'at', 'ed', '▁to', '▁the', '▁protect', 'ion', '▁of', '▁F', 'all', 'ujah', '▁.']\n",
      "['▁Let', '▁a', 'g', 'g', 're', 's', 's', 'ive', '▁(', '▁American', '▁)', '▁lead', 'er', 's', '▁and', '▁soldier', 's', '▁know', '▁tha', 't', '▁we', '▁are', '▁cap', 'able', '▁of', '▁protect', 'ing', '▁the', '▁c', 'ity', \"▁'\", 's', '▁security', '▁and', '▁safe', 'ty', '▁,', '▁and', '▁ask', '▁them', '▁to', '▁l', 'if', 't', '▁their', '▁hand', 's', '▁', 'from', '▁the', '▁c', 'ity', '▁.', '▁\"']\n",
      "['▁The', '▁c', 'l', 'er', 'ic', 's', '▁de', 'man', 'd', 'ed', '▁talk', 's', '▁with', '▁local', '▁US', '▁command', 'er', 's', '▁.']\n",
      "['▁C', 'it', 'ies', '▁', 's', 'uch', '▁as', '▁F', 'all', 'u', 'j', 'a', '▁receive', 'd', '▁special', '▁treat', 'ment', '▁', 'from', '▁Sa', 'd', 'd', 'am', '▁and', '▁enjoy', 'ed', '▁a', '▁dis', 'p', 'ro', 'port', 'ion', 'ate', '▁', 's', 'har', 'e', '▁of', '▁the', '▁country', \"▁'\", 's', '▁we', 'al', 'th', '▁and', '▁power', '▁.']\n",
      "['▁The', 'y', '▁know', '▁tha', 't', '▁the', '▁American', '▁a', 'd', 'v', 'ent', '▁im', 'p', 'l', 'ies', '▁for', '▁them', '▁a', '▁de', 'm', 'o', 't', 'ion', '▁,', '▁and', '▁an', '▁e', 'le', 'v', 'ation', '▁of', '▁the', '▁Shi', 'ite', 's', '▁and', '▁K', 'ur', 'd', 's', '▁,', '▁and', '▁the', 'y', '▁re', 'fuse', '▁to', '▁go', '▁', 'q', 'u', 'ie', 't', 'ly', '▁.']\n",
      "['▁See', '▁h', 't', 't', 'p', '://', 'w', 'ww', '.', 'g', 'ul', 'f', '-', 'n', 'ew', 's', '.', 'com', '/', 'A', 'r', 'tic', 'le', 's', '/', 'n', 'ew', 's', '.', 'as', 'p', '?', 'A', 'r', 'tic', 'le', 'I', 'D', '=', '9', '75', '08']\n",
      "['▁The', '▁Su', 'p', 're', 'm', 'e', '▁Court', '▁an', 'no', 'un', 'c', 'ed', '▁it', 's', '▁r', 'ul', 'ing', '▁to', 'day', '▁in', '▁Ha', 'm', 'd', 'an', '▁', 'v', '.', '▁Ru', 'm', 's', 'f', 'e', 'ld', '▁di', 'v', 'id', 'ed', '▁a', 'long', '▁', 'ide', 'lo', 'g', 'ical', '▁line', 's', '▁with', '▁John', '▁Robert', 's', '▁a', 'b', 's', 'tain', 'ing', '▁', 'due', '▁to', '▁his', '▁involve', 'ment', '▁at', '▁the', '▁D', '.', 'C', '.', '▁C', 'i', 'r', 'c', 'u', 'it', '▁level', '▁and', '▁An', 'th', 'on', 'y', '▁K', 'en', 'n', 'ed', 'y', '▁join', 'ing', '▁the', '▁li', 'ber', 'al', 's', '▁in', '▁a', '▁5', '▁-', '▁3', '▁de', 'c', 'is', 'ion', '▁tha', 't', '▁is', '▁1', '8', '5', '▁p', 'age', 's', '▁long', '▁.']\n",
      "['▁The', '▁actual', '▁vote', '▁is', '▁a', '▁litt', 'le', '▁con', 'f', 'us', 'ing', '▁.']\n",
      "['▁St', 'a', 'y', '▁with', '▁me', '▁now', '▁:', '▁John', '▁Paul', '▁', 'ST', 'E', 'V', 'E', 'N', 'S', '▁deliver', 'ed', '▁the', '▁opinion', '▁of', '▁the', '▁Court', '▁with', '▁re', 'spect', '▁to', '▁P', 'ar', 't', 's', '▁I', '▁through', '▁I', 'V', '▁,', '▁V', 'I', '▁through', '▁V', 'I', '▁-', '▁D', '▁-', '▁i', 'i', 'i', '▁,', '▁V', 'I', '▁-', '▁D', '▁-', '▁', 'v', '▁,', '▁and', '▁V', 'I', 'I', '▁,', '▁in', '▁', 'which', '▁K', 'E', 'N', 'NE', 'D', 'Y', '▁,', '▁S', 'O', 'U', 'T', 'ER', '▁,', '▁G', 'I', 'N', 'S', 'B', 'U', 'R', 'G', '▁,', '▁and', '▁B', 'R', 'E', 'Y', 'ER', '▁join', 'ed', '▁,', '▁and', '▁an', '▁opinion', '▁with', '▁re', 'spect', '▁to', '▁P', 'ar', 't', 's', '▁V', '▁and', '▁V', 'I', '▁-', '▁D', '▁-', '▁i', 'v', '▁,', '▁in', '▁', 'which', '▁S', 'O', 'U', 'T', 'ER', '▁,', '▁G', 'I', 'N', 'S', 'B', 'U', 'R', 'G', '▁,', '▁and', '▁B', 'R', 'E', 'Y', 'ER', '▁join', 'ed', '▁.']\n",
      "['▁B', 'R', 'E', 'Y', 'ER', '▁file', 'd', '▁a', '▁con', 'c', 'ur', 'r', 'ing', '▁opinion', '▁,', '▁in', '▁', 'which', '▁K', 'E', 'N', 'NE', 'D', 'Y', '▁,', '▁S', 'O', 'U', 'T', 'ER', '▁,', '▁and', '▁G', 'I', 'N', 'S', 'B', 'U', 'R', 'G', '▁join', 'ed', '▁.']\n",
      "['▁K', 'E', 'N', 'NE', 'D', 'Y', '▁file', 'd', '▁an', '▁opinion', '▁con', 'c', 'ur', 'r', 'ing', '▁in', '▁part', '▁,', '▁in', '▁', 'which', '▁S', 'O', 'U', 'T', 'ER', '▁,', '▁G', 'I', 'N', 'S', 'B', 'U', 'R', 'G', '▁,', '▁and', '▁B', 'R', 'E', 'Y', 'ER', '▁join', 'ed', '▁as', '▁to', '▁P', 'ar', 't', 's', '▁I', '▁and', '▁I', 'I', '▁.']\n",
      "['▁S', 'C', 'AL', 'I', 'A', '▁file', 'd', '▁a', '▁dis', 's', 'ent', 'ing', '▁opinion', '▁,', '▁in', '▁', 'which', '▁', 'TH', 'OM', 'A', 'S', '▁and', '▁', 'AL', 'I', 'T', 'O', '▁join', 'ed', '▁.']\n",
      "['▁', 'TH', 'OM', 'A', 'S', '▁file', 'd', '▁a', '▁dis', 's', 'ent', 'ing', '▁opinion', '▁,', '▁in', '▁', 'which', '▁S', 'C', 'AL', 'I', 'A', '▁join', 'ed', '▁,', '▁and', '▁in', '▁', 'which', '▁', 'AL', 'I', 'T', 'O', '▁join', 'ed', '▁as', '▁to', '▁all', '▁but', '▁P', 'ar', 't', 's', '▁I', '▁,', '▁I', 'I', '▁-', '▁C', '▁-', '▁1', '▁,', '▁and', '▁I', 'I', 'I', '▁-', '▁B', '▁-', '▁2', '▁.']\n",
      "['▁', 'AL', 'I', 'T', 'O', '▁file', 'd', '▁a', '▁dis', 's', 'ent', 'ing', '▁opinion', '▁,', '▁in', '▁', 'which', '▁S', 'C', 'AL', 'I', 'A', '▁and', '▁', 'TH', 'OM', 'A', 'S', '▁join', 'ed', '▁as', '▁to', '▁P', 'ar', 't', 's', '▁I', '▁through', '▁I', 'I', 'I', '▁.']\n",
      "['▁It', '▁will', '▁take', '▁me', '▁a', '▁litt', 'le', '▁whil', 'e', '▁to', '▁read', '▁the', '▁whole', '▁thing', '▁,', '▁but', '▁I', '▁', 'ra', 're', 'ly', '▁agree', '▁with', '▁a', '▁John', '▁Paul', '▁Steve', 'n', 's', '▁opinion', '▁.']\n",
      "['▁I', \"▁'\", 'll', '▁post', '▁high', 'l', 'ight', 's', '▁', 'from', '▁the', '▁opinion', '▁and', '▁dis', 's', 'ent', 's', '▁when', '▁I', \"▁'\", 'm', '▁finish', 'ed', '▁.']\n",
      "['▁I', 'm', 'port', 'ant', '▁new', 's', '▁', 's', 'uch', '▁as', '▁President', '▁Bush', \"▁'\", 's', '▁', 'min', 'is', 'c', 'ul', 'e', '▁c', 'al', 'i', 'b', 'r', 'ation', 's', '▁on', '▁his', '▁', 'mar', 'ri', 'age', '▁am', 'end', 'ment', '▁', '/', '▁an', 't', 'i', '-', 'g', 'a', 'y', '▁(', '▁up', 'd', 'ate', '▁:', '▁he', \"▁'\", 's', '▁not', '▁again', 'st', '▁ga', 'y', 's', '▁in', '▁the', '▁be', 'd', 'room', '▁,', '▁just', '▁at', '▁the', '▁al', 't', 'ar', '▁,', '▁where', '▁of', '▁course', '▁their', '▁re', 'l', 'ation', 'ship', 's', '▁should', '▁not', '▁only', '▁be', '▁f', 'row', 'n', 'ed', '▁up', 'on', '▁but', '▁should', '▁be', '▁con', 'st', 'it', 'u', 't', 'ion', 'al', 'ly', '▁', 'ex', 'c', 'l', 'ud', 'ed', '▁)', '▁has', '▁push', 'ed', '▁Su', 'd', 'an', '▁not', '▁just', '▁off', '▁the', '▁', 'front', '▁p', 'age', 's', '▁,', '▁or', '▁the', '▁A', '▁', 's', 'ect', 'ion', '▁,', '▁but', '▁out', '▁of', '▁the', '▁N', 'Y', '▁Time', 's', '▁and', '▁', 'Washington', '▁Po', 'st', '▁complete', 'ly', '▁.']\n",
      "['▁I', '▁', 'had', '▁to', '▁go', '▁to', '▁the', '▁B', 'B', 'C', '▁for', '▁', 'this', '▁report', '▁.']\n",
      "['▁It', \"▁'\", 's', '▁just', '▁dis', 'appoint', 'ing', '▁.']\n",
      "['▁Mo', 'st', '▁', 't', 'ro', 'ub', 'l', 'ing', '▁,', '▁how', 'ever', '▁,', '▁is', '▁the', '▁fact', '▁tha', 't', '▁the', '▁politic', 'al', '▁will', '▁to', '▁end', '▁the', '▁c', 'ri', 's', 'is', '▁express', 'ed', '▁a', '▁f', 'ew', '▁short', '▁week', 's', '▁ago', '▁seem', 's', '▁to', '▁have', '▁e', 'b', 'b', 'ed', '▁.']\n",
      "['▁T', 'w', 'o', '▁week', 's', '▁', 'later', '▁,', '▁and', '▁the', '▁vi', 'ol', 'ence', '▁continue', 's', '▁.']\n",
      "['▁The', '▁A', 'f', 'r', 'ic', 'an', '▁Un', 'ion', '▁is', '▁clear', 'ly', '▁not', '▁up', '▁to', '▁the', '▁task', '▁of', '▁keep', 'ing', '▁the', '▁peace', '▁,', '▁pl', 'ed', 'g', 'ing', '▁3', '00', '▁', 't', 'ro', 'op', 's', '▁to', '▁an', '▁are', 'a', '▁tha', 't', '▁will', '▁need', '▁15', ',000', '▁,', '▁accord', 'ing', '▁to', '▁an', 'al', 'y', 'st', 's', '▁.']\n",
      "['▁And', '▁in', 'ternational', '▁do', 'n', 'or', 's', '▁have', '▁give', 'n', '▁only', '▁half', '▁of', '▁the', '▁re', 'l', 'ie', 'f', '▁a', 'id', '▁tha', 't', '▁D', 'ar', 'f', 'ur', '▁need', 's', '▁,', '▁accord', 'ing', '▁to', '▁the', '▁local', '▁U', 'N', '▁official', 's', '▁.']\n",
      "['▁So', '▁hear', '▁we', '▁are', '▁,', '▁', 'two', '▁week', 's', '▁', 'later', '▁,', '▁after', '▁tha', 't', '▁', 'd', 'a', 'z', 'z', 'l', 'ing', '▁P', 'R', '▁dis', 'p', 'la', 'y', '▁', 'two', '▁week', 's', '▁ago', '▁by', '▁Po', 'well', '▁and', '▁An', 'n', 'an', '▁,', '▁and', '▁the', '▁situation', '▁on', '▁the', '▁', 'g', 'round', '▁in', '▁D', 'ar', 'f', 'ur', '▁', 'appear', 's', '▁ba', 's', 'ical', 'ly', '▁un', 'ch', 'an', 'g', 'ed', '▁.']\n",
      "['▁W', 'ar', 're', 'n', '▁B', 'uff', 'et', 't', '▁is', '▁', 'g', 'i', 'v', 'ing', '▁away', '▁8', '5', '▁', '%', '▁of', '▁his', '▁we', 'al', 'th', '▁,', '▁most', 'ly', '▁to', '▁the', '▁Bill', '▁and', '▁M', 'el', 'i', 'nda', '▁G', 'ate', 's', '▁F', 'ound', 'ation', '▁.']\n",
      "['▁It', \"▁'\", 's', '▁a', '▁move', '▁tha', 't', '▁real', 'ly', '▁w', 'or', 'r', 'ies', '▁me', '▁', ';', '▁B', 'uff', 'et', 't', \"▁'\", 's', '▁usual', '▁just', 'ification', '▁for', '▁keep', 'ing', '▁most', '▁of', '▁his', '▁m', 'oney', '▁was', '▁tha', 't', '▁he', '▁was', '▁', 'still', '▁comp', 'ound', 'ing', '▁the', '▁value', '▁of', '▁his', '▁', 'fortun', 'e', '▁at', '▁a', '▁pret', 'ty', '▁high', '▁rate', '▁,', '▁so', '▁any', '▁gift', 's', '▁now', '▁w', 'ould', '▁mean', '▁significant', 'ly', '▁less', '▁m', 'oney', '▁for', '▁the', '▁found', 'ation', '▁', 'later', '▁.']\n",
      "['▁Whi', 'ch', '▁', 'es', 's', 'ent', 'ial', 'ly', '▁sound', 's', '▁like', '▁he', \"▁'\", 's', '▁w', 'or', 'ri', 'ed', '▁tha', 't', '▁Bill', '▁or', '▁M', 'el', 'i', 'nda', '▁are', '▁go', 'ing', '▁to', '▁di', 'e', '▁soon', '▁.']\n",
      "['▁I', '▁assume', '▁his', '▁actual', '▁reason', '▁is', '▁tha', 't', '▁he', \"▁'\", 's', '▁w', 'or', 'ri', 'ed', '▁tha', 't', '▁B', 'er', 'k', 's', 'hi', 're', '▁Ha', 't', 'ha', 'way', '▁just', '▁ca', '▁n', \"'\", 't', '▁grow', '▁quick', 'ly', '▁en', 'ough', '▁to', '▁just', 'if', 'y', '▁his', '▁usual', '▁cha', 'r', 'ity', '▁polic', 'y', '▁.']\n",
      "['▁I', \"▁'\", 'm', '▁not', '▁sure', '▁how', '▁the', '▁market', '▁will', '▁re', 'act', '▁.']\n",
      "['▁It', '▁doe', 's', '▁n', \"'\", 't', '▁change', '▁the', '▁compan', 'y', \"▁'\", 's', '▁in', 't', 'ri', 'n', 's', 'ic', '▁worth', '▁,', '▁and', '▁as', '▁the', '▁article', '▁not', 'es', '▁,', '▁the', '▁compan', 'y', '▁m', 'ight', '▁be', '▁add', 'ed', '▁to', '▁a', '▁major', '▁in', 'd', 'ex', '▁on', 'ce', '▁the', '▁', 's', 'har', 'es', '▁get', '▁more', '▁li', 'q', 'u', 'id', '▁.']\n",
      "['▁e', 'm', '▁...', '▁no', '▁...', '▁the', '▁G', 'ate', 's', '▁found', 'ation', '▁main', 'ly', '▁in', 've', 'st', 's', '▁in', '▁m', 'ed', 'ical', '▁re', 'search', '▁and', '▁', 'ed', 'u', 'c', 'ation', '▁,', '▁tha', 't', '▁mean', 's', '▁do', 'n', 'at', 'ing', '▁now', '▁add', 's', '▁a', '▁', 't', 're', 'm', 'end', 'ous', '▁value', '▁comp', 'ar', 'ed', '▁to', '▁do', 'n', 'at', 'ing', '▁in', '▁', 't', 'en', '▁year', 's', '▁.']\n",
      "['▁Be', 'cause', '▁the', '▁10', '.', '0', '00', '.', '0', '00', '▁people', '▁', 'd', 'y', 'ing', '▁', 'from', '▁m', 'al', 'ar', 'ia', '▁will', '▁other', 'wis', 'e', '▁be', '▁dead', '▁.']\n",
      "['▁i', '.', 'e', '▁.']\n",
      "['▁He', \"▁'\", 's', '▁not', '▁', 'g', 'i', 'v', 'ing', '▁8', '5', '▁', '%', '▁away', '▁,', '▁he', \"▁'\", 's', '▁', 'g', 'i', 'v', 'ing', '▁a', '▁number', '▁of', '▁', 's', 'har', 'es', '▁', 'each', '▁year', '▁tha', 't', '▁de', 'c', 'r', 'ease', '▁in', '▁number', '▁at', '▁the', '▁rate', '▁of', '▁5', '▁', '%', '▁a', '▁year', '▁(', '▁un', 'til', '▁go', 'ne', '▁?', '▁)', '▁.']\n",
      "['▁He', '▁mention', 's', '▁his', '▁w', 'if', 'e', \"▁'\", 's', '▁death', '▁hav', 'ing', '▁an', '▁effect', '▁on', '▁him', '▁.']\n",
      "['▁It', '▁sound', 's', '▁pret', 'ty', '▁r', 'ation', 'al', '▁tha', 't', '▁he', \"▁'\", 's', '▁say', 'ing', '▁tha', 't', '▁Bill', '▁and', '▁M', 'el', 'i', 'nda', '▁are', '▁at', '▁a', '▁prim', 'e', '▁spot', '▁,', '▁so', '▁start', 'ing', '▁the', '▁m', 'oney', '▁ho', 'se', '▁now', '▁is', '▁a', '▁good', '▁idea', '▁,', '▁but', '▁B', 'uff', 'et', '▁is', '▁', 'still', '▁keep', 'ing', '▁most', '▁of', '▁his', '▁do', 'n', 'ation', '▁in', 'side', '▁of', '▁B', 'er', 'k', 's', 'hi', 're', '▁where', '▁it', '▁will', '▁comp', 'ound', '▁.']\n",
      "['▁Bill', '▁over', '▁at', '▁The', '▁F', 'o', 'ur', 'th', '▁Ra', 'il', '▁has', '▁an', '▁excellent', '▁', 'es', 's', 'a', 'y', '▁on', '▁how', '▁the', '▁M', 'S', 'M', '▁and', '▁the', '▁U', 'N', '▁,', '▁even', '▁the', '▁l', 'eft', 'ist', '▁count', 'r', 'ies', '▁in', '▁Europe', '▁,', '▁are', '▁ba', 's', 'ical', 'ly', '▁accept', 'ing', '▁terror', 'ist', '▁or', 'gan', 'iz', 'ation', 's', '▁as', '▁leg', 'it', 'im', 'ate', '▁form', 's', '▁of', '▁a', '▁politic', 'al', '▁part', 'y', '▁:']\n",
      "['▁On', '▁the', '▁sam', 'e', '▁day', '▁Palestin', 'ian', 's', '▁pro', 't', 'est', '▁in', '▁support', '▁of', '▁He', 'z', 'b', 'ol', 'la', 'h', '▁and', '▁Syria', '▁,', '▁the', '▁terror', 'ist', '▁group', '▁Ha', 'ma', 's', '▁has', '▁indicate', 'd', '▁it', '▁will', '▁participate', '▁in', '▁the', '▁schedule', 'd', '▁up', 'com', 'ing', '▁P', 'ar', 'l', 'ia', 'ment', 'ary', '▁elect', 'ion', 's', '▁.']\n",
      "['▁To', '▁the', '▁north', '▁in', '▁Le', 'b', 'an', 'on', '▁,', '▁there', '▁is', '▁serious', '▁de', 'b', 'ate', '▁with', 'in', '▁He', 'z', 'b', 'ol', 'la', 'h', '▁', 'about', '▁enter', 'ing', '▁the', '▁Le', 'b', 'an', 'ese', '▁politic', 'al', '▁process', '▁in', '▁light', '▁of', '▁Syria', \"▁'\", 's', '▁promise', 'd', '▁with', 'd', 'ra', 'w', 'al', '▁.']\n",
      "['▁Syria', '▁has', '▁agree', 'd', '▁to', '▁with', 'd', 'ra', 'w', '▁under', '▁the', '▁condition', 's', '▁set', '▁for', 'th', '▁in', '▁U', 'N', 'S', 'C', '▁Re', 's', 'olution', '▁15', '5', '9', '▁,', '▁', 'which', '▁has', '▁already', '▁be', 'g', 'un', '▁.']\n",
      "['▁U', 'N', '▁S', 'e', 'c', 're', 't', 'ary', '▁-', '▁General', '▁K', 'o', 'f', 'i', '▁An', 'n', 'an', '▁has', '▁indicate', 'd', '▁it', '▁is', '▁time', '▁to', '▁\"', '▁re', 'co', 'g', 'n', 'ize', '▁He', 'z', 'b', 'ol', 'la', 'h', '▁\"', '▁after', '▁eas', 'i', 'ly', '▁be', 'ing', '▁du', 'p', 'ed', '▁by', '▁\"', '▁the', '▁message', '▁on', '▁the', '▁pl', 'ac', 'ard', 's', '▁the', 'y', '▁are', '▁us', 'ing', '▁\"', '▁.']\n",
      "['▁The', '▁media', '▁r', 'out', 'ine', 'ly', '▁', 'o', 'b', 's', 'c', 'ure', 's', '▁the', '▁line', 's', '▁be', 'twee', 'n', '▁terror', 'ism', '▁and', '▁leg', 'it', 'im', 'ate', '▁re', 's', 'ist', 'ance', '▁,', '▁as', '▁the', '▁recent', '▁article', '▁by', '▁D', 'an', 'i', 'el', '▁O', 'k', 'r', 'ent', '▁of', '▁The', '▁New', '▁York', '▁Time', 's', '▁de', 'm', 'on', 'st', 'rate', 's', '▁.']\n",
      "['▁...']\n",
      "['▁I', \"▁'\", 've', '▁be', 'en', '▁f', 'um', 'ing', '▁over', '▁', 'this', '▁fact', '▁for', '▁a', '▁f', 'ew', '▁week', 's', '▁now', '▁,', '▁', 'ever', '▁since', '▁some', '▁or', 'gan', 'iz', 'ation', 's', '▁and', '▁government', 's', '▁suggest', 'ed', '▁we', '▁need', '▁to', '▁accept', '▁the', '▁fact', '▁tha', 't', '▁He', 'z', 'b', 'ol', 'la', 'h', '▁will', '▁get', '▁involve', 'd', '▁in', '▁running', '▁Le', 'b', 'an', 'on', '▁.']\n",
      "['▁W', 't', 'f', '▁is', '▁', 'this', '▁?']\n",
      "['▁Thi', 's', '▁is', '▁a', '▁terror', 'ist', '▁or', 'gan', 'iz', 'ation', '▁p', 'la', 'in', '▁and', '▁simpl', 'e', '▁.']\n",
      "['▁Thi', 's', '▁is', '▁just', '▁an', 'other', '▁reason', '▁to', '▁n', 'ever', '▁trust', '▁the', '▁M', 'S', 'M', '▁,', '▁and', '▁certain', 'ly', '▁not', '▁the', '▁Europe', 'an', 's', '▁.']\n",
      "['▁The', '▁Iraq', 'i', '▁Islam', 'ic', '▁P', 'ar', 'ty', '▁lead', '▁by', '▁M', 'u', 'h', 's', 'in', '▁A', 'b', 'd', 'ul', '▁Ha', 'm', 'id', '▁,', '▁has', '▁be', 'en', '▁among', '▁the', '▁f', 'ew', '▁Su', 'n', 'n', 'i', '▁Mus', 'l', 'im', '▁group', 's', '▁will', 'ing', '▁to', '▁co', 'op', 'er', 'ate', '▁(', '▁even', '▁', 'if', '▁rathe', 'r', '▁l', 'u', 'k', 'ew', 'ar', 'm', 'ly', '▁)', '▁with', '▁the', '▁American', 's', '▁.']\n",
      "['▁It', '▁is', '▁now', '▁threat', 'en', 'ing', '▁to', '▁pull', '▁out', '▁of', '▁the', '▁All', 'a', 'w', 'i', '▁care', 't', 'ak', 'er', '▁government', '▁.']\n",
      "['▁Th', 'at', '▁the', '▁Iraq', 'i', '▁Islam', 'ic', '▁P', 'ar', 'ty', '▁is', '▁now', '▁con', 't', 'e', 'mp', 'la', 't', 'ing', '▁', 'le', 'a', 'v', 'ing', '▁the', '▁All', 'a', 'w', 'i', '▁government', '▁raise', 's', '▁the', '▁question', '▁of', '▁whe', 'ther', '▁a', '▁mass', '▁Su', 'n', 'n', 'i', '▁Arab', '▁bo', 'y', 'co', 't', 't', '▁of', '▁the', '▁elect', 'ion', 's', '▁is', '▁in', '▁the', '▁off', 'ing', '▁,', '▁', 'th', 'us', '▁f', 'at', 'al', 'ly', '▁we', 'ake', 'n', 'ing', '▁the', '▁leg', 'it', 'im', 'ac', 'y', '▁of', '▁any', '▁new', '▁government', '▁.']\n",
      "['▁In', '▁a', '▁commun', 'i', 'que', '▁,', '▁the', '▁AM', 'S', '▁sai', 'd', '▁tha', 't', '▁for', '▁Iraq', 'is', '▁to', '▁take', '▁part', '▁with', '▁\"', '▁', 'ra', 'id', 'ing', '▁force', 's', '▁\"', '▁in', '▁the', '▁as', 's', 'a', 'ul', 't', '▁on', '▁a', '▁c', 'ity', '▁,', '▁the', '▁po', 'p', 'ul', 'ation', '▁of', '▁', 'which', '▁is', '▁Mus', 'l', 'im', '▁(', '▁', 's', 'uch', '▁as', '▁F', 'all', 'ujah', '▁)', '▁w', 'ould', '▁be', '▁consider', 'ed', '▁the', '▁most', '▁m', 'or', 't', 'al', '▁of', '▁m', 'or', 't', 'al', '▁', 's', 'in', 's', '▁.']\n",
      "['▁The', '▁Su', 'n', 'n', 'i', '▁AM', 'S', '▁to', 'ld', '▁Iraq', 'is', '▁,', '▁\"', '▁You', '▁', 's', 'in', 'n', 'ed', '▁when', '▁you', '▁participate', 'd', '▁with', '▁occup', 'ation', '▁force', 's', '▁in', '▁the', '▁as', 's', 'a', 'ul', 't', '▁on', '▁Na', 'j', 'a', 'f', '▁,', '▁and', '▁be', 'ware', '▁l', 'est', '▁you', '▁repeat', '▁', 'this', '▁sam', 'e', '▁', 's', 'in', '▁in', '▁F', 'all', 'ujah', '▁.']\n",
      "['▁Re', 'member', '▁tha', 't', '▁the', '▁O', 'c', 'c', 'up', 'ation', '▁is', '▁e', 'mp', 'he', 'm', 'er', 'al', '▁.', '▁\"']\n",
      "['▁The', '▁', 'ra', 'd', 'ical', '▁Shi', 'ite', '▁Sa', 'd', 'r', '▁move', 'ment', '▁issue', 'd', '▁a', '▁state', 'ment', '▁for', 'b', 'id', 'd', 'ing', '▁the', '▁part', 'ic', 'i', 'p', 'ation', '▁of', '▁Iraq', 'i', '▁', 't', 'ro', 'op', 's', '▁in', '▁the', '▁attack', '▁on', '▁F', 'all', 'ujah', '▁,', '▁as', '▁', 'well', '▁.']\n",
      "['▁It', '▁call', 'ed', '▁a', '▁\"', '▁pl', 'o', 'y', '▁\"', '▁the', '▁as', 's', 'er', 'ta', 'ion', '▁tha', 't', '▁the', '▁attack', '▁was', '▁me', 're', 'ly', '▁on', '▁foreign', '▁fight', 'er', 's', '▁at', '▁F', 'all', 'ujah', '▁.']\n",
      "['▁President', '▁Bush', '▁p', 'in', 'ch', 'ed', '▁a', '▁f', 'ew', '▁n', 'er', 've', 's', '▁yester', 'day', '▁with', '▁his', '▁choice', '▁of', '▁word', 's', '▁:']\n",
      "['▁WAS', 'H', 'ING', 'T', 'ON', '▁(', '▁Re', 'ute', 'r', 's', '▁)', '▁-']\n",
      "['▁U', '.', 'S', '.', '▁Mus', 'l', 'im', '▁group', 's', '▁c', 'ri', 'tic', 'iz', 'ed', '▁President', '▁Bush', '▁on', '▁Thur', 's', 'day', '▁for', '▁call', 'ing', '▁a', '▁f', 'o', 'il', 'ed', '▁pl', 'o', 't', '▁to', '▁b', 'low', '▁up', '▁air', 'p', 'lan', 'es', '▁part', '▁of', '▁a', '▁\"', '▁war', '▁with', '▁Islam', 'ic', '▁f', 'as', 'c', 'ist', 's', '▁,', '▁\"', '▁say', 'ing', '▁the', '▁term', '▁c', 'ould', '▁in', 'f', 'la', 'm', 'e', '▁an', 't', 'i', '-', 'M', 'us', 'l', 'im', '▁', 't', 'en', 's', 'ion', 's', '▁.']\n",
      "['▁U', '.', 'S', '.', '▁official', 's', '▁have', '▁sai', 'd', '▁the', '▁pl', 'o', 't', '▁,', '▁', 'th', 'w', 'ar', 't', 'ed', '▁by', '▁B', 'ri', 'tain', '▁,', '▁to', '▁b', 'low', '▁up', '▁sever', 'al', '▁air', 'craft', '▁over', '▁the', '▁A', 't', 'lan', 'tic', '▁bo', 're', '▁', 'many', '▁of', '▁the', '▁h', 'all', 'mar', 'k', 's', '▁of', '▁al', '▁Qa', 'ed', 'a', '▁.']\n",
      "['▁Whi', 'ch', '▁is', '▁wh', 'y', '▁he', '▁', 'did', '▁n', \"'\", 't', '▁say', '▁we', \"▁'\", 're', '▁at', '▁war', '▁with', '▁Islam', 'ic', '▁people', '▁.']\n",
      "['▁We', \"▁'\", 're', '▁at', '▁war', '▁with', '▁Islam', 'ic', '▁f', 'as', 'c', 'ist', 's', '▁.']\n",
      "['▁And', '▁', 'if', '▁you', '▁have', '▁n', \"'\", 't', '▁hear', 'd', '▁by', '▁now', '▁,', '▁the', '▁', 'ro', 'ster', '▁of', '▁suspect', 'ed', '▁terror', 'ist', 's', '▁has', '▁not', '▁a', '▁To', 'm', '▁,', '▁Di', 'ck', '▁or', '▁Ha', 'rry', '▁among', '▁them', '▁:']\n",
      "['▁U', 'mir', '▁Hu', 's', 's', 'a', 'in', '▁,', '▁2', '4', '▁,', '▁L', 'ondon', '▁E', '14']\n",
      "['▁M', 'u', 'ha', 'm', 'm', 'ed', '▁U', 's', 'man', '▁Sa', 'd', 'd', 'i', 'que', '▁,', '▁2', '4', '▁,', '▁L', 'ondon', '▁E', '1', '7']\n"
     ]
    }
   ],
   "source": [
    "import sentencepiece as spm\n",
    "import pandas as pd\n",
    "train_df = pd.read_csv(r\"data\\eng.sentence.train.tsv\", sep=\"\\t\", header=None)\n",
    "training_txt = train_df[0].values.tolist()  + train_df[1].values.tolist()\n",
    "training_txt = [str(sent) for sent in training_txt]\n",
    "with open('data\\\\training_ulm.txt', 'w', encoding='utf-8') as file:\n",
    "  file.writelines(f\"{line}\\n\" for line in training_txt)\n",
    "spm.SentencePieceTrainer.train('--input=data\\\\training_ulm.txt --model_prefix=models\\m_ulm --vocab_size=1800 --model_type=unigram')\n",
    "sp_ulm = spm.SentencePieceProcessor()\n",
    "sp_ulm.load('models\\m_ulm.model')\n",
    "\n",
    "test_df = pd.read_csv(r\"data\\eng.sentence.test.tsv\", sep=\"\\t\", header=None)\n",
    "encoded = []\n",
    "test_list = test_df[0].values.tolist()\n",
    "i = 0\n",
    "for sentence in test_list:\n",
    "  enc = sp_ulm.encode_as_pieces(sentence)\n",
    "  encoded.append(enc)\n",
    "  print(enc)\n",
    "  i += 1\n",
    "  if i > 100:\n",
    "    break"
   ]
  },
  {
   "cell_type": "code",
   "execution_count": 4,
   "metadata": {
    "colab": {
     "base_uri": "https://localhost:8080/"
    },
    "id": "U0Im_A8RJ7xq",
    "outputId": "216ec589-703b-4607-b17a-7f63ba450d9b"
   },
   "outputs": [
    {
     "data": {
      "text/plain": [
       "['▁He', \"'\", 's', '▁kill', 'ed', '▁a', '▁man', '▁gr', 'u', 'e', 'some', 'ly']"
      ]
     },
     "execution_count": 4,
     "metadata": {},
     "output_type": "execute_result"
    }
   ],
   "source": [
    "sp_ulm.encode_as_pieces(\"He's killed a man gruesomely\")"
   ]
  },
  {
   "cell_type": "code",
   "execution_count": 7,
   "metadata": {},
   "outputs": [],
   "source": [
    "df_guess = pd.read_csv('data\\eng.sentence.test.gold.tsv', sep='\\t', header=None)\n",
    "i = 0\n",
    "for entry in test_list:\n",
    "  sent = \"\"\n",
    "  list_sent = sp_ulm.encode_as_pieces(entry)\n",
    "  list_sent = [str(x) for x in list_sent]\n",
    "  # list_sent = [w.replace(\"▁\", \"\") for w in list_sent]\n",
    "  list_sent = [item for item in list_sent if item != \"\"]\n",
    "  j = 0\n",
    "  length = len(list_sent)  \n",
    "  for morph in list_sent:\n",
    "    if morph == \"▁\":\n",
    "      list_sent[j + 1] = \"▁\" + list_sent[j + 1]\n",
    "      j +=1\n",
    "      continue \n",
    "    elif \"▁\" in morph and j==0: \n",
    "      sent += morph.replace(\"▁\", \"\")\n",
    "    elif \"▁\" in morph and j!=0:\n",
    "      sent+= morph.replace(\"▁\", \" \")\n",
    "    else:\n",
    "      sent += (\" @@\" + morph)  \n",
    "    j +=1  \n",
    "  df_guess[1][i] = sent\n",
    "  i+=1\n",
    "\n",
    "df_guess.to_csv(\"outputs\\eng.sentence.test.ulm_guess.tsv\", sep='\\t', header=None, index = False)"
   ]
  }
 ],
 "metadata": {
  "colab": {
   "provenance": []
  },
  "kernelspec": {
   "display_name": "Python 3",
   "name": "python3"
  },
  "language_info": {
   "codemirror_mode": {
    "name": "ipython",
    "version": 3
   },
   "file_extension": ".py",
   "mimetype": "text/x-python",
   "name": "python",
   "nbconvert_exporter": "python",
   "pygments_lexer": "ipython3",
   "version": "3.11.9"
  }
 },
 "nbformat": 4,
 "nbformat_minor": 0
}
